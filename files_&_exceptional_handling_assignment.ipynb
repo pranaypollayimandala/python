{
  "nbformat": 4,
  "nbformat_minor": 0,
  "metadata": {
    "colab": {
      "provenance": []
    },
    "kernelspec": {
      "name": "python3",
      "display_name": "Python 3"
    },
    "language_info": {
      "name": "python"
    }
  },
  "cells": [
    {
      "cell_type": "markdown",
      "source": [
        "**THEORITICAL ANSWER SHEET**\n"
      ],
      "metadata": {
        "id": "zeqOt6iYJUGG"
      }
    },
    {
      "cell_type": "markdown",
      "source": [
        "**1. What is the difference between interpreted and compiled languages ?**\n",
        "\n",
        "**1a** - The difference between interpreted and compiled languages comes down to how code is executed.\n",
        "\n",
        "**Compiled Languages**\n",
        "\n",
        "* Code is translated into machine code (binary) by a compiler before it runs.\n",
        "\n",
        "* The compiled code is then executed directly by the computer’s CPU.\n",
        "\n",
        "* This usually makes compiled programs faster and more efficient.\n",
        "\n",
        "**Examples:**\n",
        "\n",
        "* C\n",
        "\n",
        "* C++\n",
        "\n",
        "* Rust\n",
        "\n",
        "* Go\n",
        "\n",
        "**Interpreted Languages**\n",
        "\n",
        "* Code is executed line by line by an interpreter at runtime.\n",
        "\n",
        "* You don't get a separate executable file.\n",
        "\n",
        "* Easier to test and debug, but can be slower than compiled code.\n",
        "\n",
        "**Examples:**\n",
        "\n",
        "* Python\n",
        "\n",
        "* JavaScript\n",
        "\n",
        "* Ruby\n",
        "\n",
        "* PHP\n"
      ],
      "metadata": {
        "id": "ywtZOoaeJkff"
      }
    },
    {
      "cell_type": "markdown",
      "source": [
        "**2.What is exception handling in Python ?**\n",
        "\n",
        "**2a** - Exception handling in Python is a way to manage errors that occur while your program is running, without crashing the whole program.\n",
        "\n",
        "When something goes wrong (like dividing by zero, accessing a file that doesn’t exist, etc.), Python raises an exception. You can use try-except blocks to catch and handle these exceptions.\n",
        "\n",
        "\n",
        "\n"
      ],
      "metadata": {
        "id": "bjnxOPWnKjMI"
      }
    },
    {
      "cell_type": "code",
      "source": [
        "#Without Exception Handling\n",
        "x = 10\n",
        "y = 0\n",
        "\n",
        "if y != 0:\n",
        "    result = x / y\n",
        "else:\n",
        "    print(\"Oops! You can't divide by zero.\")"
      ],
      "metadata": {
        "colab": {
          "base_uri": "https://localhost:8080/"
        },
        "id": "22YTxO44K6gu",
        "outputId": "5b099c91-f112-4f4d-9b4d-23672d8978b0"
      },
      "execution_count": null,
      "outputs": [
        {
          "output_type": "stream",
          "name": "stdout",
          "text": [
            "Oops! You can't divide by zero.\n"
          ]
        }
      ]
    },
    {
      "cell_type": "code",
      "source": [
        "#With Exception Handling:\n",
        "try:\n",
        "    x = 10\n",
        "    y = 0\n",
        "    result = x / y\n",
        "except ZeroDivisionError:\n",
        "    print(\"Oops! You can't divide by zero.\")"
      ],
      "metadata": {
        "colab": {
          "base_uri": "https://localhost:8080/"
        },
        "id": "vWYBaaeyLG4J",
        "outputId": "b0ed754d-35aa-4359-9258-006829b23dcc"
      },
      "execution_count": null,
      "outputs": [
        {
          "output_type": "stream",
          "name": "stdout",
          "text": [
            "Oops! You can't divide by zero.\n"
          ]
        }
      ]
    },
    {
      "cell_type": "markdown",
      "source": [
        "**3.What is the purpose of the finally block in exception handling?**\n",
        "\n",
        "**3a** - The finally block is used to define cleanup actions that should happen no matter what—whether an exception was raised or not.\n",
        "\n",
        "**It always runs, even if:**\n",
        "\n",
        "* An exception occurred.\n",
        "\n",
        "* An exception was caught.\n",
        "\n",
        "* No exception occurred.\n",
        "\n",
        "* There's a return statement in the try or except.\n",
        "\n",
        "**Common Use Cases:**\n",
        "\n",
        "* Closing files\n",
        "\n",
        "* Releasing resources (like network connections or database locks)\n",
        "\n",
        "* Logging that a process has ended\n",
        "\n",
        "* Cleaning up temporary data\n",
        "\n"
      ],
      "metadata": {
        "id": "lK-rgymsL9Ve"
      }
    },
    {
      "cell_type": "markdown",
      "source": [
        "**4.What is logging in Python?**\n",
        "\n",
        "**4a** - Logging in Python is a way to track events that happen when your program runs.\n",
        "\n",
        "Instead of using print() statements for debugging or monitoring, you use the logging module to:\n",
        "\n",
        "* Record messages with different levels of importance (info, warning, error, etc.)\n",
        "\n",
        "* Write those messages to the console, files, or even remote servers\n",
        "\n",
        "* Maintain clean, professional code (since you can disable or change logging behavior without touching your core logic)"
      ],
      "metadata": {
        "id": "d9uaFCqGMlEV"
      }
    },
    {
      "cell_type": "markdown",
      "source": [
        "**5.What is the significance of the __del__ method in Python?**\n",
        "\n",
        "**5a** - __del__ is a special method in Python, known as the destructor method.\n",
        "It’s called when an object is about to be destroyed, meaning when there are no more references to it.\n",
        "\n",
        "Think of it like the opposite of __init__ (the constructor).\n",
        "While __init__ sets up the object, __del__ is meant to clean it up.\n",
        "\n"
      ],
      "metadata": {
        "id": "4hJgoOPCM7VQ"
      }
    },
    {
      "cell_type": "markdown",
      "source": [
        "**6.What is the difference between import and from ... import in Python ?**\n",
        "\n",
        "**6a** - **import module**\n",
        "\n",
        "This imports the entire module.\n",
        "You then access everything inside the module using dot notation.\n",
        "\n",
        "* python\n",
        "* Copy\n",
        "* Edit\n",
        "\n",
        "import math\n",
        "\n",
        "print(math.sqrt(16))\n",
        "\n",
        "**Pros:**\n",
        "\n",
        "Keeps the namespace clean (everything under math.).\n",
        "\n",
        "Prevents name conflicts.\n",
        "\n",
        "**Cons:**\n",
        "\n",
        "Slightly more to type (math.sqrt instead of just sqrt).\n",
        "\n",
        "**from module import name**\n",
        "\n",
        "This imports specific parts (functions, classes, variables) directly into your current namespace.\n",
        "\n",
        "* python\n",
        "* Copy\n",
        "* Edit\n",
        "\n",
        "from math import sqrt\n",
        "\n",
        "print(sqrt(16))  # No need for math.sqrt\n",
        "\n",
        "**Pros:**\n",
        "\n",
        "Cleaner syntax if you only need a few things.\n",
        "\n",
        "Easier to read when using one function a lot.\n",
        "\n",
        "**Cons:**\n",
        "\n",
        "Can clutter your namespace or cause name conflicts.\n",
        "\n",
        "Harder to tell where a function comes from just by looking."
      ],
      "metadata": {
        "id": "_n_AdqRjNTtN"
      }
    },
    {
      "cell_type": "markdown",
      "source": [
        "**7.How can you handle multiple exceptions in Python ?**\n",
        "\n",
        "**7a** - Python gives you two main ways to handle multiple exceptions:\n",
        "\n",
        "1. Multiple except Blocks (Best for Specific Handling)\n",
        "\n",
        "You can write a separate except block for each exception you want to catch:"
      ],
      "metadata": {
        "id": "UfPRQbf-OT0z"
      }
    },
    {
      "cell_type": "code",
      "source": [
        "# 1. Multiple except Blocks (Best for Specific Handling)\n",
        "try:\n",
        "    num = int(input(\"Enter a number: \"))\n",
        "    result = 10 / num\n",
        "except ValueError:\n",
        "    print(\"Oops! That's not a number.\")\n",
        "except ZeroDivisionError:\n",
        "    print(\"Can't divide by zero.\")"
      ],
      "metadata": {
        "colab": {
          "base_uri": "https://localhost:8080/"
        },
        "id": "s8n2BQ_bOstv",
        "outputId": "2d2fdfe0-f5c8-4bc1-93de-f4337fe67653"
      },
      "execution_count": null,
      "outputs": [
        {
          "name": "stdout",
          "output_type": "stream",
          "text": [
            "Enter a number: 1\n"
          ]
        }
      ]
    },
    {
      "cell_type": "markdown",
      "source": [
        "* Each block handles a specific error in its own way."
      ],
      "metadata": {
        "id": "rICOgbKFPC60"
      }
    },
    {
      "cell_type": "markdown",
      "source": [
        "2. Single except with a Tuple of Exceptions\n",
        "\n",
        "If you want to handle multiple exceptions the same way, you can group them:"
      ],
      "metadata": {
        "id": "pd523wwbPHSA"
      }
    },
    {
      "cell_type": "code",
      "source": [
        "#Single except with a Tuple of Exceptions\n",
        "try:\n",
        "    num = int(input(\"Enter a number: \"))\n",
        "    result = 10 / num\n",
        "except (ValueError, ZeroDivisionError):\n",
        "    print(\"Invalid input or division by zero.\")"
      ],
      "metadata": {
        "colab": {
          "base_uri": "https://localhost:8080/"
        },
        "id": "14-0ElGOPQBe",
        "outputId": "468ae844-430a-42b0-bfc5-f4cb71b6c067"
      },
      "execution_count": null,
      "outputs": [
        {
          "name": "stdout",
          "output_type": "stream",
          "text": [
            "Enter a number: 22\n"
          ]
        }
      ]
    },
    {
      "cell_type": "markdown",
      "source": [
        "**8.What is the purpose of the with statement when handling files in Python?**\n",
        "\n",
        "**8a** - **Purpose of the with Statement in Python**\n",
        "\n",
        "The with statement is used to wrap the execution of a block of code. It ensures that resources (like files, network connections, or database connections) are properly managed—this includes automatic cleanup when you're done with them.\n",
        "\n",
        "When handling files, it automatically closes the file after you're done, even if an error occurs during file operations.\n",
        "\n",
        "**Key Benefits of Using with:**\n",
        "\n",
        "1. Automatic Resource Cleanup: It ensures the file is closed after you finish\n",
        "working with it, even if an exception occurs.\n",
        "\n",
        "2. Cleaner Code: You don't have to manually call file.close()—it’s done for you.\n",
        "\n",
        "3. Prevents Memory Leaks: Automatically handles closing files, preventing too many open files from consuming memory.\n",
        "\n"
      ],
      "metadata": {
        "id": "syrGzy3BPejq"
      }
    },
    {
      "cell_type": "markdown",
      "source": [
        "**9.What is the difference between multithreading and multiprocessing?**\n",
        "\n",
        "**9a** - **Multithreading:**\n",
        "\n",
        "Multithreading allows you to run multiple threads (smaller units of a process) concurrently within the same process. All threads share the same memory space.\n",
        "\n",
        "**Key Points:**\n",
        "\n",
        "Concurrency, not parallelism: Threads run in an interleaved fashion. Python threads are suitable for I/O-bound tasks, like reading/writing files or making network requests, where tasks spend time waiting.\n",
        "\n",
        "Threads share memory: Threads in the same process can access the same memory, which can be beneficial for communication but requires synchronization to avoid conflicts.\n",
        "\n",
        "Global Interpreter Lock (GIL): In Python (specifically CPython), the GIL allows only one thread to execute Python bytecode at a time, so threads do not provide true parallelism for CPU-bound tasks. However, they can be useful for I/O-bound tasks (like web scraping or file operations) that involve waiting.\n",
        "\n",
        "**Multiprocessing:**\n",
        "\n",
        "Multiprocessing allows you to run multiple processes, each with its own memory space and independent interpreter. This achieves true parallelism, as each process runs on a different core of the CPU.\n",
        "\n",
        "**Key Points:**\n",
        "\n",
        "Parallelism, not just concurrency: Since each process has its own memory and CPU core, CPU-bound tasks (like number crunching or complex calculations) benefit significantly from multiprocessing.\n",
        "\n",
        "No GIL: Each process has its own Python interpreter and GIL, so they can run truly in parallel, taking full advantage of multi-core CPUs.\n",
        "\n",
        "More memory overhead: Since processes do not share memory, there is additional memory overhead, and communication between processes can be more complex (using inter-process communication like Queue or Pipe)."
      ],
      "metadata": {
        "id": "7hwfqxsrQA4U"
      }
    },
    {
      "cell_type": "markdown",
      "source": [
        "**10.What are the advantages of using logging in a program ?**\n",
        "\n",
        "**10a** - Using logging in a program instead of simple print statements offers several key advantages, especially for production-level code and debugging in real-world applications. Here are some of the primary advantages of using logging:\n",
        "\n",
        "1. Better Debugging and Monitoring\n",
        "\n",
        "Trace errors: Logs provide detailed information about what your program was doing when an error occurred. This is especially helpful in production where you may not be able to interact with the program directly.\n",
        "\n",
        "Track events: Logs can track important events, like user actions, system activities, or business processes, making it easier to identify where things went wrong.\n",
        "\n",
        "2. Configurable Log Levels\n",
        "\n",
        "Log levels such as DEBUG, INFO, WARNING, ERROR, and CRITICAL allow you to:\n",
        "\n",
        "Control the verbosity of logs.\n",
        "\n",
        "Log only critical issues in production while keeping detailed logs for debugging in development.\n",
        "\n",
        "Filter logs easily based on the level (e.g., only show ERROR and CRITICAL messages).\n",
        "\n",
        "3. Persistent Storage\n",
        "\n",
        "Log to files: Instead of printing messages to the console, you can log messages to a file or database. This helps in storing logs for long-term use, audits, or post-mortem analysis.\n",
        "\n",
        "Centralized logging: For large systems, logs can be sent to a central server or cloud storage for easier monitoring and analysis.\n",
        "\n",
        "4. Easier Troubleshooting in Production\n",
        "\n",
        "When you deploy your application in a production environment, you may not have access to the console or may need to monitor the application remotely. Logs help you understand what happened before an error occurred.\n",
        "\n",
        "Logs can include timestamps, error codes, and stack traces, making it easier to pinpoint the cause of issues without being directly involved in the program's execution.\n",
        "\n",
        "5. Flexible Log Handlers and Outputs\n",
        "\n",
        "* Logging can output messages to different handlers such as:\n",
        "\n",
        "* Files (for persistent logs).\n",
        "\n",
        "* Email (to alert you when something goes wrong).\n",
        "\n",
        "* Web services (for centralized logging solutions).\n",
        "\n",
        "* Streams (e.g., standard output, or even remote servers).\n",
        "\n",
        "* This flexibility means you can set up your program to notify you of critical issues, write logs to files for later analysis, or even push logs to a central server.\n",
        "\n",
        "6. Non-Intrusive\n",
        "\n",
        "Unlike print statements, logging can be configured to run silently in the background, especially in a production environment, without affecting the program's behavior or performance.\n",
        "\n",
        "You can disable or adjust logging without changing your core logic or removing print statements from the code.\n",
        "\n",
        "7. Improved Readability\n",
        "\n",
        "Logging messages can be formatted with timestamps, log levels, and other contextual information, making logs more structured and easier to read.\n",
        "\n",
        "This gives you better clarity compared to unformatted print statements.\n",
        "\n",
        "8. Thread-Safety\n",
        "\n",
        "The logging module is thread-safe, meaning it can be safely used in multi-threaded programs without causing conflicts or corrupting log entries. This is especially important for logging in web applications or any other program that runs concurrently.\n",
        "\n",
        "9. Log Rotation\n",
        "\n",
        "Log files can grow over time. The logging module can automatically handle log rotation, which means that old logs are archived and new logs are written to a fresh file. This keeps log files manageable and prevents them from growing too large.\n",
        "\n",
        "10. Integration with Monitoring Tools\n",
        "\n",
        "Logging can be integrated with monitoring and alerting tools (like Prometheus, ELK Stack (Elasticsearch, Logstash, Kibana), Splunk, etc.) to help analyze and visualize logs in real-time.\n",
        "\n",
        "This is especially helpful for large-scale applications where real-time monitoring is crucial."
      ],
      "metadata": {
        "id": "kmPj9KwAQrGi"
      }
    },
    {
      "cell_type": "markdown",
      "source": [
        "**11.What is memory management in Python ?**\n",
        "\n",
        "**11a** - Memory management in Python is a crucial concept that ensures your program runs efficiently without consuming excessive memory. Python, like many high-level languages, has an automated memory management system, which means the developer doesn’t need to manually allocate or deallocate memory. However, understanding how memory management works can help write more efficient code and troubleshoot issues related to memory leaks or excessive memory consumption.\n",
        "\n",
        "**key Concepts in Python Memory Management**\n",
        "\n",
        "**1. Automatic Memory Management (Garbage Collection)**\n",
        "\n",
        "Python uses automatic memory management, meaning it handles memory allocation and deallocation for you. The core component of this system is garbage collection.\n",
        "\n",
        "* Garbage Collector (GC): The garbage collector automatically frees up memory by removing objects that are no longer needed (i.e., objects that are not referenced anymore).\n",
        "\n",
        "* Reference Counting: Python tracks the number of references (pointers) to an object. When the reference count of an object drops to zero (meaning no one is using the object), the object is marked for garbage collection and its memory is released.\n",
        "\n",
        "* Circular References: Sometimes, objects may reference each other in a circular way (e.g., object A refers to object B, and object B refers back to object A), which could prevent the reference count from reaching zero. Python’s garbage collector periodically checks for such circular references and clears them.\n",
        "\n",
        "**2. Memory Allocation**\n",
        "\n",
        "When you create a variable or object in Python, the interpreter allocates memory dynamically.\n",
        "\n",
        "Basic types (int, float, str): Small objects like numbers or strings are stored in memory and reused when possible. This is why, for example, integers from -5 to 256 are often reused across the program, instead of being created each time they are used.\n",
        "\n",
        "Dynamic Objects: For more complex types (like lists, dictionaries, classes), Python dynamically allocates memory as needed. When these objects are no longer in use, they are automatically deleted.\n",
        "\n",
        "**3. The Role of the Python Heap**\n",
        "\n",
        "The heap is the area of memory where all objects are allocated. When you create an object, Python allocates space in the heap for it. The heap is managed by Python’s memory manager, which ensures that memory is used efficiently.\n",
        "\n",
        "**4. Memory Pools (and Pymalloc)**\n",
        "\n",
        "Python uses an internal system called Pymalloc to allocate small chunks of memory (for small objects) in a more efficient way.\n",
        "\n",
        "Pymalloc is a specialized allocator that helps reduce the overhead of frequent memory allocation and deallocation for small objects (like integers and small strings).\n",
        "\n",
        "Larger objects (e.g., arrays or large data structures) are allocated directly from the system's heap.\n",
        "\n",
        "**5. Object Deletion and the del Keyword**\n",
        "\n",
        "In Python, you can explicitly delete objects using the del keyword, which decreases the reference count of the object. However, this does not guarantee immediate memory release—it only removes the reference to the object. Python's garbage collector will handle the actual memory release."
      ],
      "metadata": {
        "id": "edBku6BuSEDj"
      }
    },
    {
      "cell_type": "markdown",
      "source": [
        "**12.What are the basic steps involved in exception handling in Python ?**\n",
        "\n",
        "**12a** - Exception handling in Python is essential for writing robust and error-resistant programs. It allows you to gracefully handle unexpected situations or errors (called exceptions) without crashing your program.\n",
        "\n",
        "**Basic Steps Involved in Exception Handling in Python**\n",
        "\n",
        "Python's exception handling is done using a combination of the try, except, else, and finally blocks.\n",
        "\n",
        "Here’s the breakdown of each block and their purpose:\n",
        "\n",
        "**1. try Block - Attempt Code that Might Throw an Exception**\n",
        "\n",
        "You place the code that might raise an exception inside the try block. If no exception occurs, the code executes as normal.\n",
        "\n",
        "**2. except Block - Catch and Handle the Exception**\n",
        "\n",
        "If an exception occurs in the try block, Python immediately stops executing the code in the try block and jumps to the except block.\n",
        "\n",
        "You can specify the type of exception you want to handle. If the exception type matches, the corresponding except block will be executed\n",
        "\n",
        "You can also catch multiple exceptions or handle generic exceptions using except\n",
        "\n",
        "**3. else Block - Code to Run if No Exceptions Occur**\n",
        "\n",
        "The else block will execute only if no exceptions were raised in the try block. It’s useful for running code that depends on the successful execution of the try block\n",
        "\n",
        "**4. finally Block - Cleanup Code (Always Runs)**\n",
        "The finally block is used to define cleanup code that should run no matter what, whether an exception occurred or not. It’s often used for closing files, releasing resources, or restoring states."
      ],
      "metadata": {
        "id": "RA5vhD9KSuA1"
      }
    },
    {
      "cell_type": "markdown",
      "source": [
        "**13.Why is memory management important in Python ?**\n",
        "\n",
        "**13a** - Memory management is crucial in Python (and in any programming language) for several reasons. Proper memory management ensures that your programs are efficient, performant, and free from memory-related issues such as leaks and crashes. Here's why memory management is especially important in Python:\n",
        "\n",
        "1. Efficient Resource Utilization\n",
        "\n",
        "Optimal Performance: Efficient memory management allows your program to use resources like RAM optimally. This is especially important when working with large datasets, complex algorithms, or limited hardware resources (e.g., embedded systems).\n",
        "\n",
        "Memory Efficiency: Properly managed memory ensures that your program doesn't unnecessarily consume more memory than needed, which could slow it down or cause it to crash.\n",
        "\n",
        "2. Prevention of Memory Leaks\n",
        "\n",
        "Memory Leaks: A memory leak occurs when your program allocates memory for an object but fails to release it after it's no longer needed. This causes the program's memory usage to increase over time, eventually leading to performance degradation or even a crash.\n",
        "\n",
        "Garbage Collection: Python's garbage collector automatically handles the deallocation of memory for objects that are no longer in use. However, developers still need to be aware of common pitfalls (e.g., circular references) to prevent memory leaks.\n",
        "\n",
        "3. Improved Program Stability\n",
        "\n",
        "Avoid Crashes: If memory is not properly managed, it can lead to excessive memory consumption, eventually causing the program to crash due to Out of Memory (OOM) errors. This is especially important in long-running applications or systems with limited memory resources.\n",
        "\n",
        "Controlled Memory Growth: Proper memory management prevents your program's memory footprint from growing uncontrollably, ensuring it runs stably for extended periods.\n",
        "\n",
        "4. Better Scalability\n",
        "\n",
        "Handling Large Datasets: In applications like data processing, machine learning, or web scraping, memory management allows programs to handle larger datasets efficiently without running into memory limitations.\n",
        "\n",
        "Scalable Applications: As the complexity and size of your application grow, good memory management practices ensure that it scales effectively, handling more data or users without requiring excessive resources.\n",
        "\n",
        "5. Avoiding Fragmentation\n",
        "\n",
        "Memory Fragmentation: This occurs when free memory gets scattered across different locations in small blocks, leading to inefficient use of memory. In Python, the memory manager tries to avoid fragmentation by using pools for small objects.\n",
        "\n",
        "Efficient Allocation: Python's Pymalloc memory allocator for small objects helps mitigate fragmentation by allocating memory in blocks and reusing it efficiently.\n",
        "\n",
        "6. Concurrency and Multithreading\n",
        "\n",
        "Thread Safety: In multithreaded programs, memory management ensures that threads can safely access and modify shared data. Without proper memory management, you could run into issues like data corruption or race conditions, which could compromise the stability and correctness of your program.\n",
        "\n",
        "Shared Memory: Properly managing shared memory between threads and processes ensures that each thread can safely access the resources it needs, without causing conflicts.\n",
        "\n",
        "7. Garbage Collection and Circular References\n",
        "\n",
        "Garbage Collection: Python uses automatic garbage collection to free memory that is no longer in use. However, it still requires proper handling of circular references (where objects refer to each other in a loop), which could prevent the garbage collector from reclaiming memory.\n",
        "\n",
        "Manual Memory Cleanup: Sometimes, developers may need to manually trigger garbage collection using the gc module, especially in cases where the garbage collector does not automatically detect unreachable objects.\n",
        "\n",
        "8. Resource Management in External Libraries\n",
        "\n",
        "External Libraries: When using external libraries or system resources (e.g., file handlers, database connections), proper memory management ensures that resources are released when no longer needed. If these resources are not cleaned up, it could lead to resource exhaustion or slowdowns.\n",
        "\n",
        "9. Cost Optimization\n",
        "\n",
        "Memory as a Cost Factor: Memory is a finite resource, especially in cloud-based systems where you might be charged based on the amount of memory your application uses. By managing memory efficiently, you can reduce the cost of running your application, particularly for large-scale systems.\n",
        "\n",
        "10. Predictability\n",
        "\n",
        "Predictable Performance: With good memory management practices, you can predict how your program will behave under different conditions. This is especially important in critical applications like real-time systems, embedded systems, and systems with high availability requirements.\n"
      ],
      "metadata": {
        "id": "-oLLLSPZTjPa"
      }
    },
    {
      "cell_type": "markdown",
      "source": [
        "**14.What is the role of try and except in exception handling ?**\n",
        "\n",
        "**14a** - The try and except blocks are core components of exception handling in Python. They work together to detect and handle errors (exceptions) gracefully, preventing the program from crashing and allowing you to provide custom responses to various error conditions.\n",
        "\n",
        "**try Block: Where You Test the Risky Code**\n",
        "\n",
        "The try block contains the code that might cause an exception. This is where Python \"tries\" to run the code. If everything runs smoothly, it skips the except block entirely.\n",
        "\n",
        "If an exception occurs anywhere in the try block, Python immediately stops executing the remaining code inside it and looks for a matching except block.\n",
        "\n",
        "**except Block: Catch and Handle the Error**\n",
        "\n",
        "The except block is where you handle the exception. You specify the type of exception you want to catch (like ZeroDivisionError, ValueError, etc.), and define how to respond.\n",
        "\n",
        "You can also use a generic except block to catch any exception"
      ],
      "metadata": {
        "id": "FGu2bh6KT5w7"
      }
    },
    {
      "cell_type": "markdown",
      "source": [
        "**15.How does Python's garbage collection system work ?**\n",
        "\n",
        "**15a** - Python's garbage collection system is designed to automatically manage memory by identifying and freeing up memory that's no longer needed — specifically, memory occupied by objects that are no longer referenced by any part of the program.\n",
        "\n",
        "**1. Reference Counting (The Core Mechanism)**\n",
        "\n",
        "Every object in Python has an internal reference count — a counter of how many variables (or other objects) refer to it.\n",
        "\n",
        "When an object is created, its reference count is set to 1.\n",
        "\n",
        "When a new reference to the object is made, the count increases.\n",
        "\n",
        "When a reference is deleted or goes out of scope, the count decreases.\n",
        "\n",
        "When the count drops to zero, the object is no longer accessible and can be immediately destroyed.\n",
        "\n",
        "**2. Garbage Collection for Circular References**\n",
        "Reference counting alone doesn’t handle circular references — where two or more objects refer to each other but are otherwise unreachable.\n",
        "\n",
        "In this case, even if you delete a and b, their mutual references keep their reference counts above zero.\n",
        "\n",
        "💡 That’s where Python’s garbage collector (GC) steps in.\n",
        "\n",
        "**3. Garbage Collector (gc module)**\n",
        "\n",
        "Python’s gc module is responsible for detecting unreachable cycles of objects and collecting them.\n",
        "\n",
        "It uses a generational approach: objects are categorized into 3 generations:\n",
        "\n",
        "Gen 0: New objects\n",
        "\n",
        "Gen 1: Survived one collection\n",
        "\n",
        "Gen 2: Long-lived objects\n",
        "\n",
        "Objects in Gen 0 are collected frequently; Gen 1 and Gen 2 less often.\n",
        "\n",
        "This is efficient because most objects die young, and older objects are less likely to be garbage.\n",
        "\n",
        "You can manually interact with the garbage collector:\n",
        "\n",
        "**4. __del__() Destructor Method**\n",
        "\n",
        "You can define a __del__ method in your class to handle custom cleanup when an object is about to be destroyed.\n",
        "\n",
        "Be cautious: objects with __del__ methods involved in circular references may not be collected if the GC can't determine a safe order to destroy them.\n",
        "\n",
        "\n"
      ],
      "metadata": {
        "id": "x5QCgNscUkf0"
      }
    },
    {
      "cell_type": "markdown",
      "source": [
        "**16.What is the purpose of the else block in exception handling ?**\n",
        "\n",
        "**16a** - The else block in Python exception handling is used to define a section of code that should run only if no exceptions were raised in the try block.\n",
        "\n",
        "**Purpose of the else Block**\n",
        "\n",
        "To separate the normal logic that should run only if no errors occurred.\n",
        "\n",
        "Makes the code more readable and organized, especially when the try block contains only code that might raise exceptions.\n",
        "\n",
        "Keeps exception handling (except) and normal post-processing (else) clearly separated.\n",
        "\n"
      ],
      "metadata": {
        "id": "LTAhHF2RVcgU"
      }
    },
    {
      "cell_type": "markdown",
      "source": [
        "**17.What are the common logging levels in Python ?**\n",
        "\n",
        "**17a ** - Python’s logging module provides a flexible framework for emitting log messages from your code. These messages can help you debug, monitor, and audit your application effectively.\n",
        "\n",
        "**Common Logging Levels in Python**\n",
        "\n",
        "Each logging level indicates the severity or importance of the message:\n",
        "\n",
        "**Level Name **        **Numeric Value**\t         **Description **\n",
        "                                       \n",
        "                                         \n",
        "DEBUG\t                  10\t             Detailed diagnostic information, used\n",
        "                                         for debugging.\n",
        "\n",
        "INFO\t                  20\t             General information about program\n",
        "                                         execution (e.g., process started, status updates).\n",
        "\n",
        "WARNING\t                30\t             An indication something unexpected\n",
        "                                         happened, but the program can still continue.\n",
        "\n",
        "ERROR\t                  40\t             A more serious issue that    \n",
        "                                         prevented part of the program from\n",
        "                                         functioning.\n",
        "\n",
        "CRITICAL\t              50\t             A very serious error — the program\n",
        "                                         itself may not be able to continue.\n",
        "\n",
        "\n",
        "\n",
        "\n"
      ],
      "metadata": {
        "id": "KJ6owRtEVu2U"
      }
    },
    {
      "cell_type": "markdown",
      "source": [
        "**18.What is the difference between os.fork() and multiprocessing in Python?**\n",
        "\n",
        "**18a** - The difference between os.fork() and the multiprocessing module in Python mainly comes down to abstraction level, portability, and ease of use. Both are used to create new processes, but they serve different purposes and are suited to different use cases.\n",
        "\n",
        "**1. os.fork() – Low-Level, Unix-Specific**\n",
        "\n",
        "**Description:**\n",
        "\n",
        "Directly interfaces with the underlying operating system.\n",
        "\n",
        "Creates a new child process by duplicating the parent process.\n",
        "\n",
        "Only available on Unix-based systems (Linux, macOS, etc.).\n",
        "\n",
        "**Pros:**\n",
        "\n",
        "Very fast and lightweight.\n",
        "\n",
        "Useful for low-level process control.\n",
        "\n",
        "**Cons:**\n",
        "\n",
        "Not available on Windows.\n",
        "\n",
        "No built-in communication between parent and child.\n",
        "\n",
        "Can be harder to manage and error-prone.\n",
        "\n",
        "**2. multiprocessing – High-Level, Cross-Platform**\n",
        "\n",
        "**Description:**\n",
        "\n",
        "A Python module that provides a simple and portable way to run processes in parallel.\n",
        "\n",
        "Works on all major platforms (Windows, Linux, macOS).\n",
        "\n",
        "Automatically uses os.fork() on Unix or spawn() on Windows.\n",
        "\n",
        "**Pros:**\n",
        "\n",
        "Cross-platform.\n",
        "\n",
        "Easy to use and manage.\n",
        "\n",
        "Provides powerful tools like Queue, Pipe, Pool, Lock, and shared memory.\n",
        "\n",
        "Safer and more Pythonic.\n",
        "\n",
        "**Cons:**\n",
        "\n",
        "Slightly more overhead compared to raw os.fork().\n",
        "\n"
      ],
      "metadata": {
        "id": "ECEpu2X0YV0F"
      }
    },
    {
      "cell_type": "markdown",
      "source": [
        "**19.What is the importance of closing a file in Python ?**\n",
        "\n",
        "**19a** - Closing a file in Python is crucial for ensuring proper resource management and data integrity. Here's why it matters:\n",
        "\n",
        "1. Frees Up System Resources\n",
        "Every open file consumes system resources (like file descriptors). If too many files are left open, it can exhaust the system’s limits and cause errors like:\n",
        "\n",
        "\n",
        "2. Ensures Data is Written (Flushed) to Disk\n",
        "When writing to a file, Python often buffers the data in memory. If you don't close the file:\n",
        "\n",
        "Some data may not be written (still in the buffer).\n",
        "\n",
        "You might end up with incomplete or corrupted files.\n",
        "\n",
        "3. Unlocks the File\n",
        "On some systems (especially Windows), a file may be locked while it is open for writing or reading. Closing it releases the lock, allowing:\n",
        "\n",
        "Other programs or processes to access the file.\n",
        "\n",
        "You to rename or delete it without issues.\n",
        "\n",
        "4. Good Practice and Clean Code\n",
        "Closing files is simply part of good coding hygiene. It avoids hard-to-find bugs and keeps your program well-behaved.\n",
        "\n",
        "\n",
        "\n",
        "\n"
      ],
      "metadata": {
        "id": "0pfQp7lBZNvI"
      }
    },
    {
      "cell_type": "markdown",
      "source": [
        "**20.What is the difference between file.read() and file.readline() in Python ?**\n",
        "\n",
        "**20a** -   Both file.read() and file.readline() are used to read contents from a file in Python, but they behave very differently depending on how much and how they read data.\n",
        "\n",
        "**file.read()**\n",
        "\n",
        "**What it does:**\n",
        "\n",
        "Reads the entire contents of the file (or up to a specified number of characters).\n",
        "\n",
        "Returns the data as a single string.\n",
        "\n",
        "**Use When:**\n",
        "You want to read everything at once.\n",
        "\n",
        "The file is small enough to fit comfortably in memory.\n",
        "\n",
        "**file.readline()**\n",
        "\n",
        "**What it does:**\n",
        "\n",
        "Reads only one line at a time from the file.\n",
        "\n",
        "Each call returns the next line as a string (including the \\n newline at the end unless it's the last line)."
      ],
      "metadata": {
        "id": "eUkUrB-sZs3t"
      }
    },
    {
      "cell_type": "markdown",
      "source": [
        "**21.What is the logging module in Python used for ?**\n",
        "\n",
        "**21a** - The logging module in Python is used for tracking events that happen during the execution of a program. It helps you record messages that describe what your application is doing — which is especially useful for debugging, monitoring, and error reporting.\n",
        "\n",
        "**Key Purposes of the logging Module**\n",
        "\n",
        "**Purpose**\t    **Description**\n",
        "\n",
        "Debugging\n",
        "                  Helps trace issues and bugs in development.\n",
        "Monitoring\n",
        "                  Logs can show how the app behaves over time in production.\n",
        "Error Reporting\n",
        "                  Automatically records unexpected behavior or exceptions.\n",
        "Auditing\n",
        "                \tKeeps a record of user actions or system changes.\n",
        "Avoids print()\n",
        "                 \tMore flexible and powerful than print() statements."
      ],
      "metadata": {
        "id": "wvRDSOWmaNKU"
      }
    },
    {
      "cell_type": "markdown",
      "source": [
        "**22.What is the os module in Python used for in file handling ?**\n",
        "\n",
        "**22a** - The os module in Python is used for interacting with the operating system, and it's super handy for file handling tasks like creating, deleting, renaming, and navigating files and directories.\n",
        "\n",
        "**Key Uses of os in File Handling**\n",
        "\n",
        "Here’s a breakdown of common file-related tasks you can do using os:\n",
        "\n",
        "**Working with Directories**\n"
      ],
      "metadata": {
        "id": "kT1q73lfa80Y"
      }
    },
    {
      "cell_type": "code",
      "source": [
        "\n",
        "#Function\t            #Purpose\n",
        "os.getcwd()          \tGet current working directory\n",
        "os.chdir(path)\t      Change current working directory\n",
        "os.listdir(path)    \tList files and folders in a directory\n",
        "os.mkdir(path)\t      Create a single directory\n",
        "os.makedirs(path)\t    Create nested directories\n",
        "os.rmdir(path)\t      Remove a directory (if it's empty)\n",
        "os.removedirs(path)\t  Remove nested empty directories"
      ],
      "metadata": {
        "id": "0MGXbICnbZ-u"
      },
      "execution_count": null,
      "outputs": []
    },
    {
      "cell_type": "markdown",
      "source": [
        "**23.What are the challenges associated with memory management in Python ?**\n",
        "\n",
        "**23a** - Memory management in Python can be tricky due to several challenges that arise from Python's design, garbage collection, and dynamic nature. Below are some of the key challenges associated with memory management in Python:\n",
        "\n",
        "**1. Automatic Memory Management (Garbage Collection)**\n",
        "\n",
        "Challenge:\n",
        "\n",
        "Garbage collection in Python automatically frees up memory by tracking object references, but it can sometimes result in memory leaks or inefficient memory use if not properly managed.\n",
        "\n",
        "Cyclic references: Python uses reference counting as the primary memory management technique, but this can fail to detect memory that’s no longer used if objects reference each other in a cycle.\n",
        "\n",
        "**Solution:**\n",
        "\n",
        "Python uses a cycle detector to handle cyclic references, but manual memory management (like using gc.collect() in some cases) may be necessary in more complex programs.\n",
        "\n",
        "**2. Dynamic Typing and Memory Overhead**\n",
        "\n",
        "Challenge:\n",
        "\n",
        "Python is dynamically typed, which means that types of variables are determined at runtime. This dynamic nature introduces memory overhead compared to statically-typed languages.\n",
        "\n",
        "Variables may carry extra metadata about their type, size, and other attributes, which consumes more memory than a similar variable in a language like C or Java.\n",
        "\n",
        "**Solution:**\n",
        "\n",
        "In performance-critical applications, using built-in types and libraries (like NumPy for arrays) can reduce memory overhead. For instance, choosing the correct data structure or format for your data can lead to significant memory savings.\n",
        "\n",
        "**3. Memory Fragmentation**\n",
        "\n",
        "Challenge:\n",
        "\n",
        "Memory fragmentation happens when memory is allocated and deallocated frequently, leading to inefficient use of memory.\n",
        "\n",
        "Over time, small, scattered chunks of memory are left unused, making it difficult to allocate large contiguous blocks.\n",
        "\n",
        "**Solution:**\n",
        "\n",
        "Memory pools and object reuse can help mitigate fragmentation. Python's object allocator helps reduce the fragmentation by managing memory more efficiently.\n",
        "\n",
        "**4. Large Objects and Memory Leaks**\n",
        "\n",
        "Challenge:\n",
        "\n",
        "Python’s garbage collector might not immediately release memory held by large objects or objects involved in cyclic references.\n",
        "\n",
        "Memory leaks can occur when objects are unintentionally kept alive due to lingering references, even if they are no longer needed.\n",
        "\n",
        "**Solution:**\n",
        "\n",
        "Use weak references (weakref module) to avoid unintentionally holding onto objects.\n",
        "\n",
        "Use tools like gc module, memory profilers, and objgraph to track and diagnose memory usage and potential leaks.\n",
        "\n",
        "**5. Overhead of Small Objects**\n",
        "\n",
        "Challenge:\n",
        "\n",
        "Python objects, especially small ones (e.g., integers, strings), have significant overhead due to Python's internal structure.\n",
        "\n",
        "For example, small integers in Python are objects, and each integer carries metadata. This can be inefficient for applications that need to process a large number of small values.\n",
        "\n",
        "**Solution:**\n",
        "\n",
        "For numerical tasks, consider using third-party libraries like NumPy that provide optimized, low-overhead data structures.\n",
        "\n",
        "**6. Handling Large Data in Memory**\n",
        "\n",
        "Challenge:\n",
        "\n",
        "When working with large datasets, Python’s memory management might not be efficient enough to handle them in memory without running into OutOfMemory issues.\n",
        "\n",
        "**Solution:**\n",
        "\n",
        "Streaming data or processing data in chunks can help alleviate memory pressure.\n",
        "\n",
        "Use tools like memoryview, numpy arrays, or libraries like pandas to work with large datasets in an optimized way.\n",
        "\n",
        "**7. Garbage Collection Performance Impac**t\n",
        "\n",
        "Challenge:\n",
        "\n",
        "While garbage collection frees memory, it can occasionally cause performance issues when large numbers of objects are collected.\n",
        "\n",
        "The GC process can cause pauses in your program, particularly in long-running applications.\n",
        "\n",
        "**Solution:**\n",
        "\n",
        "In performance-critical scenarios, you can tune the garbage collector using the gc module (for example, using gc.collect() manually when you know memory needs to be freed).\n",
        "\n",
        "You can also disable the garbage collector temporarily or use manual memory management to control memory use more precisely.\n",
        "\n",
        "**8. Shared Mutable Objects**\n",
        "\n",
        "Challenge:\n",
        "\n",
        "Shared mutable objects (e.g., lists or dictionaries) that are passed around to different parts of a program can result in unintended modifications and memory inconsistencies.\n",
        "\n",
        "**Solution:**\n",
        "\n",
        "Use immutable types (like tuples or strings) or ensure careful management of mutable types to avoid unintended behavior.\n",
        "\n",
        "**9. Memory Usage Optimization**\n",
        "\n",
        "Challenge:\n",
        "\n",
        "Some Python programs, especially those dealing with big data, may consume large amounts of memory, leading to performance bottlenecks.\n",
        "\n",
        "**Solution:**\n",
        "\n",
        "Profile memory usage using tools like memory_profiler or objgraph to understand where memory is being used and find areas for optimization.\n",
        "\n",
        "Consider using __slots__ to reduce memory overhead by restricting the attributes an object can have\n",
        "\n",
        "\n"
      ],
      "metadata": {
        "id": "E1nMsiBBbqMV"
      }
    },
    {
      "cell_type": "markdown",
      "source": [
        "**24.How do you raise an exception manually in Python?**\n",
        "\n",
        "**24a** - In Python, you can raise an exception manually using the raise statement. This allows you to trigger an exception when something goes wrong in your program, or when certain conditions are met that require the program to stop or handle the situation differently.\n",
        "\n"
      ],
      "metadata": {
        "id": "y4W6ZOHOdA6i"
      }
    },
    {
      "cell_type": "code",
      "source": [
        "#Basic Syntax\n",
        "raise Exception(\"Error message here\")"
      ],
      "metadata": {
        "id": "n75SoBCqdYn9"
      },
      "execution_count": null,
      "outputs": []
    },
    {
      "cell_type": "markdown",
      "source": [
        "**25.Why is it important to use multithreading in certain applications?**\n",
        "\n",
        "**25a** - Using multithreading in certain applications is important for several reasons, particularly when the goal is to optimize the performance and responsiveness of an application. Multithreading allows a program to perform multiple tasks concurrently, improving efficiency and user experience. Here are some key reasons why multithreading is important:\n",
        "\n",
        "**1. Improved Application Performance (Concurrency)**\n",
        "\n",
        "**Simultaneous Execution:**\n",
        "\n",
        "Multithreading allows your application to execute multiple tasks at the same time on separate threads. This is particularly important when your program has multiple independent tasks that can run concurrently without blocking each other.\n",
        "\n",
        "**Example**: In a web server, one thread can handle the request from a user while another thread retrieves data from a database.\n",
        "\n",
        "**Better CPU Utilization:**\n",
        "\n",
        "On multi-core processors, multithreading enables better utilization of all available CPU cores. Each thread can be assigned to a different core, allowing for better parallel execution and improving performance in CPU-bound tasks.\n",
        "\n",
        "**Example:**\n",
        "\n",
        "Image processing or mathematical computations can be sped up by running different operations on different cores.\n",
        "\n",
        "**2. Responsiveness and User Experience**\n",
        "\n",
        "**Non-blocking Operations:**\n",
        "\n",
        "In applications with graphical user interfaces (GUIs) or real-time systems, blocking operations like file I/O or network requests can make the application unresponsive. By using threads, these tasks can be performed in the background while the main thread handles user interactions, keeping the application responsive.\n",
        "\n",
        "**Example:**\n",
        "\n",
        " In a web browser, one thread can handle user interactions (e.g., scrolling or clicking) while another thread fetches data from the internet.\n",
        "\n",
        "**3. Efficient I/O Operations (I/O-bound Tasks**)\n",
        "\n",
        "**Parallel I/O Operations:**\n",
        "\n",
        "Multithreading is especially useful for I/O-bound tasks that involve waiting for external resources like disk, network, or databases. Threads can continue executing other tasks while waiting for I/O operations to complete, reducing idle time.\n",
        "\n",
        "**Example:**\n",
        "\n",
        "A program that downloads multiple files over the internet can initiate several threads to handle each download, rather than waiting for each download to complete sequentially.\n",
        "\n",
        "**4. Real-time or Time-sensitive Applications**\n",
        "\n",
        "**Real-time Systems:**\n",
        "\n",
        "For applications that require strict timing or need to process inputs from various sources at precise intervals (e.g., sensor data processing, audio/video streaming), multithreading allows different tasks to run at different rates while meeting timing requirements.\n",
        "\n",
        "**Example:**\n",
        "\n",
        "A video streaming service can use one thread to process video frames and another to buffer data, ensuring smooth playback.\n",
        "\n",
        "**5. Better Resource Sharing**\n",
        "\n",
        "**Thread Sharing Memory:**\n",
        "\n",
        "In a multithreaded application, threads within the same process can share memory. This is more memory-efficient than creating multiple separate processes for each task (which requires more overhead for memory allocation and inter-process communication).\n",
        "\n",
        "**Example: **\n",
        "\n",
        "A multithreaded application that performs parallel computations can have each thread access and modify shared data structures without the overhead of inter-process communication.\n",
        "\n",
        "**6. Improved Throughput and Efficiency in Certain Algorithms**\n",
        "\n",
        "**Parallel Algorithms:**\n",
        "\n",
        "Certain algorithms, especially those that involve divide-and-conquer or parallel processing (e.g., matrix multiplication, data sorting), can be sped up using multiple threads.\n",
        "\n",
        "**Example: **\n",
        "\n",
        "In a machine learning algorithm, multithreading can be used to train models using parallel data processing, which speeds up the overall training process.\n",
        "\n",
        "**7. Handling Concurrent Tasks**\n",
        "\n",
        "**Multiple Tasks Simultaneously:**\n",
        "\n",
        "Multithreading allows an application to handle several tasks at the same time without waiting for each task to finish sequentially. This is crucial in modern applications where concurrent tasks are common (e.g., handling requests from multiple users).\n",
        "\n",
        "**Example:**\n",
        "\n",
        "A real-time chat application uses separate threads for receiving messages from different users, so each message can be processed and displayed as it comes in.\n",
        "\n",
        "**8. Reducing Latency in Networked Applications**\n",
        "\n",
        "**Low-latency Networking:**\n",
        "\n",
        "For applications involving network communication, such as web servers, game servers, or cloud services, multithreading helps reduce latency by enabling asynchronous communication. Each thread can handle network requests independently, without blocking the others.\n",
        "\n",
        "**Example: **\n",
        "\n",
        "A game server might use threads to handle player input, physics calculations, and communication with other players simultaneously, resulting in a more fluid experience.\n",
        "\n",
        "**When to Use Multithreading**\n",
        "\n",
        "While multithreading offers several benefits, it is not always the best choice for every application. It's most beneficial in scenarios involving:\n",
        "\n",
        "I/O-bound tasks (network, disk, etc.)\n",
        "\n",
        "Real-time systems requiring responsiveness\n",
        "\n",
        "CPU-bound tasks that can be parallelized\n",
        "\n",
        "Applications that need asynchronous processing and want to avoid blocking the main execution flow.\n",
        "\n",
        "Potential Challenges of Multithreading\n",
        "\n",
        "**Complexity:** Managing multiple threads and ensuring thread safety can add complexity to your code.\n",
        "\n",
        "**Thread Synchronization:** When threads need to interact with shared data, locks and other synchronization mechanisms are required to avoid race conditions, which can be tricky.\n",
        "\n",
        "**Overhead:** Starting too many threads can lead to overhead, potentially reducing performance.\n",
        "\n",
        "Python’s Global Interpreter Lock (GIL): In CPython, multithreading doesn't necessarily improve performance for CPU-bound tasks because of the Global Interpreter Lock (GIL), which only allows one thread to execute Python bytecode at a time. In this case, multiprocessing might be a better option.\n",
        "\n"
      ],
      "metadata": {
        "id": "Dn-bsBTdddUv"
      }
    },
    {
      "cell_type": "markdown",
      "source": [
        "**PRACTICAL ANSWER SHEET**"
      ],
      "metadata": {
        "id": "TGr38r5Sfanp"
      }
    },
    {
      "cell_type": "markdown",
      "source": [
        "**1.How can you open a file for writing in Python and write a string to it?**\n",
        "\n",
        "**1a** - To open a file for writing in Python and write a string to it, you can use the built-in open() function with the \"w\" mode. Here's a simple example:\n",
        "\n"
      ],
      "metadata": {
        "id": "JB7c_1MTfjWX"
      }
    },
    {
      "cell_type": "code",
      "source": [
        "#1\n",
        "with open(\"example.txt\", \"w\") as file:\n",
        "    file.write(\"Hello, world!\")\n",
        "\n",
        "#Explanation:\n",
        "\n",
        "\"w\" mode means write mode. It will create the file if it doesn't exist, and overwrite it if it does.\n",
        "\n",
        "with is a context manager that ensures the file is properly closed after writing."
      ],
      "metadata": {
        "id": "0EN27Fu-hUlc"
      },
      "execution_count": null,
      "outputs": []
    },
    {
      "cell_type": "markdown",
      "source": [
        "**2.Write a Python program to read the contents of a file and print each line?**"
      ],
      "metadata": {
        "id": "FCb-BT6zhnhr"
      }
    },
    {
      "cell_type": "code",
      "source": [
        "#2a -\n",
        "\n",
        "#Here's a simple Python program that reads the contents of a file and prints each line\n",
        "\n",
        "with open(\"example.txt\", \"r\") as file:\n",
        "    for line in file:\n",
        "        print(line.strip())\n",
        "\n",
        "#Explanation:\n",
        "\"r\" mode means read mode.\n",
        "\n",
        "line.strip() removes any leading/trailing whitespace, including the newline at the end of each line.\n",
        "\n",
        "The with statement ensures the file is automatically closed when done."
      ],
      "metadata": {
        "id": "jZKaFbhgh_25"
      },
      "execution_count": null,
      "outputs": []
    },
    {
      "cell_type": "markdown",
      "source": [
        "**3.How would you handle a case where the file doesn't exist while trying to open it for reading?**\n",
        "\n",
        "**3a** - To handle the case where a file doesn't exist, you can use a try-except block to catch the FileNotFoundError. Here's how you can do it"
      ],
      "metadata": {
        "id": "sIeCK1mfib8z"
      }
    },
    {
      "cell_type": "code",
      "source": [
        "try:\n",
        "    with open(\"example.txt\", \"r\") as file:\n",
        "        for line in file:\n",
        "            print(line.strip())\n",
        "except FileNotFoundError:\n",
        "    print(\"The file does not exist. Please check the filename and try again.\")\n",
        "\n",
        "#Explanation:\n",
        "\n",
        "try: Attempts to open and read the file.\n",
        "\n",
        "except FileNotFoundError: Catches the specific error that occurs if the file is not found and prints a user-friendly message."
      ],
      "metadata": {
        "id": "H1m84ROBixia"
      },
      "execution_count": null,
      "outputs": []
    },
    {
      "cell_type": "markdown",
      "source": [
        "**4.Write a Python script that reads from one file and writes its content to another file?**"
      ],
      "metadata": {
        "id": "-rnzfZ9ojxm0"
      }
    },
    {
      "cell_type": "code",
      "source": [
        "#4a -\n",
        "source_file = \"source.txt\"\n",
        "destination_file = \"destination.txt\"\n",
        "\n",
        "try:\n",
        "    # Open the source file for reading\n",
        "    with open(source_file, \"r\") as src:\n",
        "        # Open the destination file for writing\n",
        "        with open(destination_file, \"w\") as dest:\n",
        "            # Read and write each line\n",
        "            for line in src:\n",
        "                dest.write(line)\n",
        "    print(f\"Contents copied from '{source_file}' to '{destination_file}' successfully.\")\n",
        "except FileNotFoundError:\n",
        "    print(f\"Source file '{source_file}' not found.\")\n",
        "except IOError as e:\n",
        "    print(f\"An I/O error occurred: {e}\")"
      ],
      "metadata": {
        "id": "bGQX8XhSkuBu"
      },
      "execution_count": null,
      "outputs": []
    },
    {
      "cell_type": "markdown",
      "source": [
        "**5.How would you catch and handle division by zero error in Python?**\n",
        "\n",
        "**5a** - To catch and handle a division by zero error in Python, you can use a try-except block\n",
        "\n",
        "Here's a simple example:"
      ],
      "metadata": {
        "id": "9wB0cpQIQa1d"
      }
    },
    {
      "cell_type": "code",
      "source": [
        "#5a Example\n",
        "\n",
        "try:\n",
        "    result = 10 / 0\n",
        "except ZeroDivisionError:\n",
        "    print(\"Error: Division by zero is not allowed.\")\n"
      ],
      "metadata": {
        "id": "BA2zGzy7k1UB",
        "colab": {
          "base_uri": "https://localhost:8080/"
        },
        "outputId": "c1fbb297-89a5-4afb-ffa9-b241938c3131"
      },
      "execution_count": 1,
      "outputs": [
        {
          "output_type": "stream",
          "name": "stdout",
          "text": [
            "Error: Division by zero is not allowed.\n"
          ]
        }
      ]
    },
    {
      "cell_type": "code",
      "source": [
        "#5a Example\n",
        "try:\n",
        "    result = 10 / 0\n",
        "except ZeroDivisionError:\n",
        "    print(\"You can't divide by zero!\")\n",
        "else:\n",
        "    print(\"The result is:\", result)\n",
        "finally:\n",
        "    print(\"This block always runs.\")"
      ],
      "metadata": {
        "colab": {
          "base_uri": "https://localhost:8080/"
        },
        "id": "ENJAEtDVREsg",
        "outputId": "069d6ee5-e363-487d-88e1-d657b1403208"
      },
      "execution_count": 2,
      "outputs": [
        {
          "output_type": "stream",
          "name": "stdout",
          "text": [
            "You can't divide by zero!\n",
            "This block always runs.\n"
          ]
        }
      ]
    },
    {
      "cell_type": "markdown",
      "source": [
        "**6.Write a Python program that logs an error message to a log file when a division by zero exception occurs?**\n",
        "\n",
        "**6a** -  Python program that logs an error message to a log file when a division by zero exception occurs, using Python’s built-in logging module:"
      ],
      "metadata": {
        "id": "hqFPoX4NRmNB"
      }
    },
    {
      "cell_type": "code",
      "source": [
        "#6a\n",
        "import logging\n",
        "\n",
        "# Configure the logging\n",
        "logging.basicConfig(filename=\"error.log\", level=logging.ERROR)\n",
        "\n",
        "try:\n",
        "    result = 10 / 0\n",
        "except ZeroDivisionError:\n",
        "    logging.error(\"Division by zero error occurred.\")"
      ],
      "metadata": {
        "colab": {
          "base_uri": "https://localhost:8080/"
        },
        "id": "83jf5EXFROXL",
        "outputId": "03de3731-8216-4331-ec09-552d6b485f16"
      },
      "execution_count": 9,
      "outputs": [
        {
          "output_type": "stream",
          "name": "stderr",
          "text": [
            "ERROR:root:Division by zero error occurred.\n"
          ]
        }
      ]
    },
    {
      "cell_type": "markdown",
      "source": [
        "**7.How do you log information at different levels (INFO, ERROR, WARNING) in Python using the logging module?**"
      ],
      "metadata": {
        "id": "QZe5X1wtTHcy"
      }
    },
    {
      "cell_type": "code",
      "source": [
        "#7a\n",
        "import logging\n",
        "\n",
        "# Configure the logging\n",
        "logging.basicConfig(filename=\"log.txt\", level=logging.INFO)\n",
        "\n",
        "logging.info(\"This is an informational message.\")\n",
        "logging.error(\"This is an error message.\")\n",
        "logging.warning(\"This is a warning message.\")\n",
        "\n"
      ],
      "metadata": {
        "colab": {
          "base_uri": "https://localhost:8080/"
        },
        "id": "vg6SFtk8SK0w",
        "outputId": "177af685-7744-4abc-84f0-41a79014d8bd"
      },
      "execution_count": 10,
      "outputs": [
        {
          "output_type": "stream",
          "name": "stderr",
          "text": [
            "ERROR:root:This is an error message.\n",
            "WARNING:root:This is a warning message.\n"
          ]
        }
      ]
    },
    {
      "cell_type": "markdown",
      "source": [
        "**8.Write a program to handle a file opening error using exception handling?**"
      ],
      "metadata": {
        "id": "wnOhOeRVTgHl"
      }
    },
    {
      "cell_type": "code",
      "source": [
        "#8a\n",
        "try:\n",
        "    with open(\"nonexistent_file.txt\", \"r\") as file:\n",
        "        content = file.read()\n",
        "except FileNotFoundError:\n",
        "    print(\"Error: The file does not exist.\")\n"
      ],
      "metadata": {
        "colab": {
          "base_uri": "https://localhost:8080/"
        },
        "id": "RYz0fJNuTZZ7",
        "outputId": "0ba25996-f4d2-48ee-9c06-e5da3b22cfe1"
      },
      "execution_count": 11,
      "outputs": [
        {
          "output_type": "stream",
          "name": "stdout",
          "text": [
            "Error: The file does not exist.\n"
          ]
        }
      ]
    },
    {
      "cell_type": "markdown",
      "source": [
        "**9.How can you read a file line by line and store its content in a list in Python?**"
      ],
      "metadata": {
        "id": "1Qr3e5IZUI2n"
      }
    },
    {
      "cell_type": "code",
      "source": [
        "#9a Method 1: Using readlines()\n",
        "\n",
        "with open('filename.txt', 'r') as file:\n",
        "    lines = file.readlines()\n",
        "lines = [line.strip() for line in lines]\n",
        "\n",
        "print(lines)"
      ],
      "metadata": {
        "id": "8SHwLMpKUUiA"
      },
      "execution_count": null,
      "outputs": []
    },
    {
      "cell_type": "code",
      "source": [
        "#9a Method 2: Using a loop\n",
        "\n",
        "lines = []\n",
        "with open('filename.txt', 'r') as file:\n",
        "    for line in file:\n",
        "        lines.append(line.strip())  # strip() removes newline characters\n",
        "\n",
        "print(lines)"
      ],
      "metadata": {
        "id": "TKp60fS7UW1m"
      },
      "execution_count": null,
      "outputs": []
    },
    {
      "cell_type": "markdown",
      "source": [
        "**10.How can you append data to an existing file in Python?**"
      ],
      "metadata": {
        "id": "SYF2Tyq9VRQl"
      }
    },
    {
      "cell_type": "code",
      "source": [
        "#10a\n",
        "with open(\"existing_file.txt\", \"a\") as file:\n",
        "    file.write(\"New data to append.\\n\")\n",
        "#"
      ],
      "metadata": {
        "id": "Ev2w3FpPVHbH"
      },
      "execution_count": 16,
      "outputs": []
    },
    {
      "cell_type": "markdown",
      "source": [
        "**11.Write a Python program that uses a try-except block to handle an error when attempting to access a dictionary key that doesn't exist?**\n"
      ],
      "metadata": {
        "id": "68Fi3E3bVhj3"
      }
    },
    {
      "cell_type": "code",
      "source": [
        "#11a\n",
        "my_dict = {\"a\": 1, \"b\": 2, \"c\": 3}\n",
        "\n",
        "try:\n",
        "    value = my_dict[\"d\"]\n",
        "except KeyError:\n",
        "    print(\"Error: Key 'd' does not exist in the dictionary.\")"
      ],
      "metadata": {
        "colab": {
          "base_uri": "https://localhost:8080/"
        },
        "id": "-3a5-LH2Vc3d",
        "outputId": "8be9051e-116d-4a25-ee4a-1c8c083dc144"
      },
      "execution_count": 17,
      "outputs": [
        {
          "output_type": "stream",
          "name": "stdout",
          "text": [
            "Error: Key 'd' does not exist in the dictionary.\n"
          ]
        }
      ]
    },
    {
      "cell_type": "markdown",
      "source": [
        "**12.Write a program that demonstrates using multiple except blocks to handle different types of exceptions?**"
      ],
      "metadata": {
        "id": "X5uJ-3G7VwL9"
      }
    },
    {
      "cell_type": "code",
      "source": [
        "#12a\n",
        "try:\n",
        "    result = 10 / 0\n",
        "except ZeroDivisionError:\n",
        "    print(\"Error: Division by zero is not allowed.\")\n",
        "except ValueError:\n",
        "    print(\"Error: Invalid value encountered.\")"
      ],
      "metadata": {
        "colab": {
          "base_uri": "https://localhost:8080/"
        },
        "id": "6BxyYjY_Vuqa",
        "outputId": "18a8aeed-b803-4a95-fd56-886c52b4edcd"
      },
      "execution_count": 18,
      "outputs": [
        {
          "output_type": "stream",
          "name": "stdout",
          "text": [
            "Error: Division by zero is not allowed.\n"
          ]
        }
      ]
    },
    {
      "cell_type": "markdown",
      "source": [
        "**13.How would you check if a file exists before attempting to read it in Python?**"
      ],
      "metadata": {
        "id": "DZ85aPHxWUlr"
      }
    },
    {
      "cell_type": "code",
      "source": [
        "#13a\n",
        "import os\n",
        "\n",
        "file_path = \"example.txt\"\n",
        "\n",
        "if os.path.exists(file_path):\n",
        "    with open(file_path, \"r\") as file:\n",
        "        content = file.read()\n",
        "        print(content)\n"
      ],
      "metadata": {
        "id": "vOeT9WcfV5xc"
      },
      "execution_count": 19,
      "outputs": []
    },
    {
      "cell_type": "markdown",
      "source": [
        "**14.Write a program that uses the logging module to log both informational and error messages?**"
      ],
      "metadata": {
        "id": "5xrRi8VUWvdT"
      }
    },
    {
      "cell_type": "code",
      "source": [
        "#14a\n",
        "import logging\n",
        "\n",
        "# Configure the logging\n",
        "logging.basicConfig(filename=\"log.txt\", level=logging.INFO)\n",
        "\n",
        "logging.info(\"This is an informational message.\")\n",
        "logging.error(\"This is an error message.\")"
      ],
      "metadata": {
        "colab": {
          "base_uri": "https://localhost:8080/"
        },
        "id": "NPHv2MmDWssy",
        "outputId": "3bcc841d-a687-426e-ce10-63d00e809927"
      },
      "execution_count": 20,
      "outputs": [
        {
          "output_type": "stream",
          "name": "stderr",
          "text": [
            "ERROR:root:This is an error message.\n"
          ]
        }
      ]
    },
    {
      "cell_type": "markdown",
      "source": [
        "**15.Write a Python program that prints the content of a file and handles the case when the file is empty?**"
      ],
      "metadata": {
        "id": "ec68XR_BWxIA"
      }
    },
    {
      "cell_type": "code",
      "source": [
        "#15a\n",
        "try:\n",
        "    with open(\"empty_file.txt\", \"r\") as file:\n",
        "        content = file.read()\n",
        "        if content:\n",
        "            print(content)\n",
        "        else:\n",
        "            print(\"The file is empty.\")\n",
        "except FileNotFoundError:\n",
        "    print(\"File not found.\")"
      ],
      "metadata": {
        "colab": {
          "base_uri": "https://localhost:8080/"
        },
        "id": "9dLagmVoXF_d",
        "outputId": "65845f7e-9f2f-4d83-afee-2b5f1adb2703"
      },
      "execution_count": 23,
      "outputs": [
        {
          "output_type": "stream",
          "name": "stdout",
          "text": [
            "File not found.\n"
          ]
        }
      ]
    },
    {
      "cell_type": "markdown",
      "source": [
        "**16.Demonstrate how to use memory profiling to check the memory usage of a small program?**"
      ],
      "metadata": {
        "id": "IgpW9kbpXSKQ"
      }
    },
    {
      "cell_type": "code",
      "source": [
        "#16a\n",
        "!pip install memory_profiler\n",
        "\n"
      ],
      "metadata": {
        "colab": {
          "base_uri": "https://localhost:8080/"
        },
        "id": "tE4d3hnBXIE6",
        "outputId": "e864ad94-85d4-4e54-ae0a-a64d4199ffb1"
      },
      "execution_count": 24,
      "outputs": [
        {
          "output_type": "stream",
          "name": "stdout",
          "text": [
            "Collecting memory_profiler\n",
            "  Downloading memory_profiler-0.61.0-py3-none-any.whl.metadata (20 kB)\n",
            "Requirement already satisfied: psutil in /usr/local/lib/python3.11/dist-packages (from memory_profiler) (5.9.5)\n",
            "Downloading memory_profiler-0.61.0-py3-none-any.whl (31 kB)\n",
            "Installing collected packages: memory_profiler\n",
            "Successfully installed memory_profiler-0.61.0\n"
          ]
        }
      ]
    },
    {
      "cell_type": "markdown",
      "source": [
        "**17.Write a Python program to create and write a list of numbers to a file, one number per line?**"
      ],
      "metadata": {
        "id": "ec29ZW1RX3kk"
      }
    },
    {
      "cell_type": "code",
      "source": [
        "#17a\n",
        "numbers = [1, 2, 3, 4, 5]\n",
        "\n",
        "with open(\"numbers.txt\", \"w\") as file:\n",
        "    for num in numbers:\n",
        "        file.write(str(num) + \"\\n\")"
      ],
      "metadata": {
        "id": "AGLWgWIkX_Ni"
      },
      "execution_count": 25,
      "outputs": []
    },
    {
      "cell_type": "markdown",
      "source": [
        "**18.How would you implement a basic logging setup that logs to a file with rotation after 1MB?**\n"
      ],
      "metadata": {
        "id": "l55HaRp9YH83"
      }
    },
    {
      "cell_type": "code",
      "source": [
        "#18a\n",
        "import logging\n",
        "from logging.handlers import RotatingFileHandler\n",
        "log_handler = RotatingFileHandler(\n",
        "    'app.log',\n",
        "    maxBytes=1 * 1024 * 1024,\n",
        "    backupCount=3\n",
        ")\n",
        "\n",
        "formatter = logging.Formatter('%(asctime)s - %(levelname)s - %(message)s')\n",
        "log_handler.setFormatter(formatter)\n",
        "\n",
        "logger = logging.getLogger('my_logger')\n",
        "logger.setLevel(logging.INFO)\n",
        "logger.addHandler(log_handler)\n",
        "\n",
        "logger.info(\"This is an info message.\")\n",
        "logger.error(\"This is an error message.\")"
      ],
      "metadata": {
        "colab": {
          "base_uri": "https://localhost:8080/"
        },
        "id": "tB8tlB1zXzE8",
        "outputId": "ab965c49-35c0-4217-96c3-02ea98bb9fcf"
      },
      "execution_count": 26,
      "outputs": [
        {
          "output_type": "stream",
          "name": "stderr",
          "text": [
            "INFO:my_logger:This is an info message.\n",
            "ERROR:my_logger:This is an error message.\n"
          ]
        }
      ]
    },
    {
      "cell_type": "markdown",
      "source": [
        "**19.Write a program that handles both IndexError and KeyError using a try-except block?**"
      ],
      "metadata": {
        "id": "ydvojDlEY9VD"
      }
    },
    {
      "cell_type": "code",
      "source": [
        "#19a\n",
        "my_list = [1, 2, 3]\n",
        "\n",
        "try:\n",
        "    value = my_list[3]\n",
        "except IndexError:\n",
        "    print(\"Error: Index out of range.\")\n",
        "except KeyError:\n",
        "    print(\"Error: Key not found in the dictionary.\")"
      ],
      "metadata": {
        "colab": {
          "base_uri": "https://localhost:8080/"
        },
        "id": "SUR_8Np0Y3Bs",
        "outputId": "9530b23c-1e5e-45ad-ef5e-cdb608097c88"
      },
      "execution_count": 27,
      "outputs": [
        {
          "output_type": "stream",
          "name": "stdout",
          "text": [
            "Error: Index out of range.\n"
          ]
        }
      ]
    },
    {
      "cell_type": "markdown",
      "source": [
        "**20.How would you open a file and read its contents using a context manager in Python?**"
      ],
      "metadata": {
        "id": "dtLwcvddZG-c"
      }
    },
    {
      "cell_type": "code",
      "source": [
        "#20a\n",
        "from typing import Text\n",
        "with open('filename.txt', 'r') as file:\n",
        "    contents = file.read()\n",
        "\n",
        "print(contents)"
      ],
      "metadata": {
        "id": "eIob1NLDbSUg"
      },
      "execution_count": null,
      "outputs": []
    },
    {
      "cell_type": "markdown",
      "source": [
        "**21.Write a Python program that reads a file and prints the number of occurrences of a specific word?**"
      ],
      "metadata": {
        "id": "d-l0Off5Zij2"
      }
    },
    {
      "cell_type": "code",
      "source": [
        "#21a\n",
        "from typing import Text\n",
        "#21a\n",
        "file_path = \"example.txt\"\n",
        "specific_word = \"Python\"\n",
        "\n",
        "try:\n",
        "    with open(file_path, \"r\") as file:\n",
        "        content = file.read()\n",
        "        word_count = content.lower().count(specific_word.lower()) # This line and any other code that should run within the 'with' block needs to be indented\n",
        "except FileNotFoundError:\n",
        "    print(f\"File not found: {file_path}\")\n",
        "except Exception as e:\n",
        "    print(f\"An error occurred: {e}\")"
      ],
      "metadata": {
        "colab": {
          "base_uri": "https://localhost:8080/"
        },
        "id": "jIVNLZ0zZs9b",
        "outputId": "38513ae6-9b1e-48bd-e2c0-4683d314f973"
      },
      "execution_count": 35,
      "outputs": [
        {
          "output_type": "stream",
          "name": "stdout",
          "text": [
            "File not found: example.txt\n"
          ]
        }
      ]
    },
    {
      "cell_type": "markdown",
      "source": [
        "**22.How can you check if a file is empty before attempting to read its contents?**"
      ],
      "metadata": {
        "id": "St3S8k4nbihV"
      }
    },
    {
      "cell_type": "code",
      "source": [
        "#22a\n",
        "import os\n",
        "\n",
        "file_path = \"empty_file.txt\"\n",
        "\n",
        "if os.path.getsize(file_path) > 0:\n",
        "    with open(file_path, \"r\") as file:\n",
        "        content = file.read()\n",
        "        print(content)\n"
      ],
      "metadata": {
        "id": "GQOLva9ObqGH"
      },
      "execution_count": null,
      "outputs": []
    },
    {
      "cell_type": "markdown",
      "source": [
        "**23.Write a Python program that writes to a log file when an error occurs during file handling?**"
      ],
      "metadata": {
        "id": "Q32pUC2ab93A"
      }
    },
    {
      "cell_type": "code",
      "source": [
        "#23a\n",
        "import logging\n",
        "\n",
        "# Configure the logging\n",
        "logging.basicConfig(filename=\"error_log.txt\", level=logging.ERROR)\n",
        "\n",
        "try:\n",
        "    with open(\"nonexistent_file.txt\", \"r\") as file:\n",
        "        content = file.read()\n"
      ],
      "metadata": {
        "id": "MkyqTco2btS5"
      },
      "execution_count": null,
      "outputs": []
    },
    {
      "cell_type": "code",
      "source": [],
      "metadata": {
        "id": "laI9Z6mxcPNN"
      },
      "execution_count": null,
      "outputs": []
    }
  ]
}