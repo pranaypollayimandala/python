{
  "nbformat": 4,
  "nbformat_minor": 0,
  "metadata": {
    "colab": {
      "provenance": []
    },
    "kernelspec": {
      "name": "python3",
      "display_name": "Python 3"
    },
    "language_info": {
      "name": "python"
    }
  },
  "cells": [
    {
      "cell_type": "markdown",
      "source": [
        "**THEORITICAL ANSWER SHEET**"
      ],
      "metadata": {
        "id": "uMCPAaBmhSUP"
      }
    },
    {
      "cell_type": "markdown",
      "source": [
        "**1.What is NumPy, and why is it widely used in Python?**\n",
        "\n",
        "**1A** - NumPy (short for Numerical Python) is a powerful open-source library in Python that provides support for:\n",
        "\n",
        "* Multidimensional arrays (like matrices and tensors)\n",
        "\n",
        "* Mathematical functions to operate on these arrays efficiently\n",
        "\n",
        "* Linear algebra, Fourier transforms, and random number generation\n",
        "\n",
        "\n",
        "**NUMPY IS WIDELY USED**\n",
        "\n",
        "**Performance:**\n",
        "\n",
        "NumPy arrays are much faster and more memory-efficient than regular Python lists when dealing with large amounts of numerical data. This speed comes from its underlying implementation in C.\n",
        "\n",
        "**Array Operations:**\n",
        "\n",
        "It provides a rich set of operations (element-wise addition, multiplication, slicing, reshaping, etc.) that make it easy to manipulate large datasets without writing complex loops.\n",
        "\n",
        "**Broadcasting:**\n",
        "\n",
        "NumPy can perform operations on arrays of different shapes in an intuitive way, which makes code simpler and faster.\n",
        "\n",
        "**Integration:**\n",
        "\n",
        "Many other libraries in Python’s scientific ecosystem (like Pandas, SciPy, TensorFlow, scikit-learn) either use NumPy internally or offer compatibility with it.\n",
        "\n",
        "**Convenience:**\n",
        "\n",
        "It makes tasks like matrix multiplication, statistical analysis, and numerical simulations much simpler compared to native Python code.\n",
        "\n",
        "\n",
        "\n"
      ],
      "metadata": {
        "id": "pHxzji_6hbmS"
      }
    },
    {
      "cell_type": "markdown",
      "source": [
        "**2.How does broadcasting work in NumPy?**\n",
        "\n",
        "**2A** - broadcasting is one of the most powerful and sometimes tricky features of NumPy!\n",
        "\n",
        "**In simple terms:**\n",
        "\n",
        "Broadcasting lets NumPy perform operations on arrays of different shapes as if they were the same shape — by automatically expanding the smaller array along the missing dimensions.\n",
        "\n",
        "Instead of manually duplicating data to match shapes, NumPy handles it behind the scenes to save memory and improve speed.\n",
        "\n",
        "**Basic Broadcasting Rules:**\n",
        "\n",
        "When operating on two arrays, NumPy compares their shapes element-wise:\n",
        "\n",
        "1.If the dimensions are equal, or\n",
        "\n",
        "2.If one of the dimensions is 1,\n",
        "\n",
        "then they are considered compatible and can be broadcasted.\n",
        "\n",
        "If they don’t match and neither is 1, an error is raised.\n",
        "\n"
      ],
      "metadata": {
        "id": "BjgHcj6DiXbi"
      }
    },
    {
      "cell_type": "markdown",
      "source": [
        "**3.What is a Pandas DataFrame?**\n",
        "\n",
        "**3A** - A Pandas DataFrame is a two-dimensional, tabular data structure in Python — think of it like an Excel spreadsheet or a SQL table — but much more powerful for data analysis.\n",
        "\n",
        "It is part of the Pandas library (pandas), which is widely used for data manipulation, analysis, and cleaning.\n",
        "\n",
        "**Key Features of a DataFrame:**\n",
        "\n",
        "**Rows and Columns:** Data is organized in rows and columns, each column can have a different data type (integer, string, float, etc.).\n",
        "\n",
        "**Labeled Axes:** Both rows and columns have labels (row labels are called the index, and column labels are just column names).\n",
        "\n",
        "**Flexible:** You can add, delete, or modify rows and columns easily.\n",
        "\n",
        "**Handles Missing Data:** Built-in support for missing or NaN values.\n",
        "\n",
        "**Powerful Operations:** Filtering, grouping, joining, pivoting, etc., are fast and easy.\n",
        "\n"
      ],
      "metadata": {
        "id": "-xqqnJgkjNEX"
      }
    },
    {
      "cell_type": "markdown",
      "source": [
        "**4.Explain the use of the groupby() method in Pandas?**\n",
        "\n",
        "**4A** - The groupby() method in Pandas is used to split your data into groups based on some criteria — usually one or more columns — and then you can apply a function to each group (like sum, mean, count, etc.).\n",
        "\n",
        "It’s very similar to the \"GROUP BY\" statement in SQL.\n",
        "\n",
        "Split ➔ Apply ➔ Combine\n",
        "\n",
        "* Split the data into groups based on some column(s)\n",
        "\n",
        "* Apply a function to each group (like aggregation: sum, mean, etc.)\n",
        "\n",
        "* Combine the results into a new DataFrame\n",
        "\n"
      ],
      "metadata": {
        "id": "vz007npHj5G1"
      }
    },
    {
      "cell_type": "markdown",
      "source": [
        "**5.Why is Seaborn preferred for statistical visualizations?**\n",
        "\n",
        "**5A** - Seaborn is a Python data visualization library based on matplotlib, and it's specifically designed for statistical graphics.\n",
        "\n",
        "It’s often preferred for statistical visualizations because of several key reasons:Seaborn is a Python data visualization library based on matplotlib, and it's specifically designed for statistical graphics.\n",
        "\n",
        "It’s often preferred for statistical visualizations because of several key reasons:\n",
        "\n",
        "**1. Built-in Support for Statistical Plots**\n",
        "\n",
        "Seaborn makes it very easy to create complex statistical plots like:\n",
        "\n",
        "* Histograms\n",
        "\n",
        "* Box plots\n",
        "\n",
        "* Violin plots\n",
        "\n",
        "* Pair plots\n",
        "\n",
        "* Regression plots\n",
        "\n",
        "These plots show important statistical relationships (like distribution, correlation, and outliers) without requiring much code.\n",
        "\n",
        "**2. High-Level Abstractions**\n",
        "\n",
        "Seaborn handles data frames directly (like Pandas DataFrames).\n",
        "\n",
        "You can pass a column name instead of manually passing data arrays.\n",
        "\n",
        "It understands categorical variables and continuous variables automatically.\n",
        "\n",
        "**3. Beautiful Default Styles**\n",
        "\n",
        "Seaborn’s default visual style is cleaner, more attractive, and publication-ready compared to raw matplotlib.\n",
        "\n",
        "You get nicer colors, grids, and fonts without much manual tweaking.\n",
        "\n",
        "**4. Built-in Datasets and Easy Exploration**\n",
        "\n",
        "Seaborn provides several sample datasets (like Titanic, Iris, Tips) so you can practice easily without searching for data.\n",
        "\n",
        "It's also ideal for exploratory data analysis (EDA) because it helps you spot patterns fast.\n",
        "\n",
        "**5. Automatic Handling of Complex Relationships**\n",
        "\n",
        "Seaborn can easily show relationships between multiple variables.\n",
        "\n",
        "For example, sns.pairplot() creates a full matrix of scatter plots and histograms in one line of code."
      ],
      "metadata": {
        "id": "-9ALXJ64kT3o"
      }
    },
    {
      "cell_type": "markdown",
      "source": [
        "**6.What are the differences between NumPy arrays and Python lists?**\n",
        "\n",
        "**6A** - **Key Differences Between NumPy Arrays and Python Lists:**\n",
        "![1.png](data:image/png;base64,iVBORw0KGgoAAAANSUhEUgAAA00AAAJWCAYAAACEZWzAAAAAAXNSR0IArs4c6QAAAARnQU1BAACxjwv8YQUAAAAJcEhZcwAAEnQAABJ0Ad5mH3gAAKhySURBVHhe7f2Ps3fzfe//f/4B1I9cJkZMJH4cHEmGYYKWcCZRzXHFiWZKIoSW+tn8oFKTYpBKRM+lh6gfITlmQggJ2iJFNdXSGtpL0hFORKmQi2uI35xg+vrOY53v893n9bhea73X3nvtfe29rvttZs3e7/Xj9Wu91mut517rvfb/VwAAAAAArf4/nwEAAAAA+E+DBU3/8R//4bMAAAAAYMkbLGgCAAAAgDEaLGjiThMAAACAMRosaAIAAACAMRosaOJOEwAAwOzceuutZYMNNigrVqzwRYvChRdeWDbccMPyve99zxcB64XWoGnlypVl2bJlzQGcpx122KGsWrXKVwcmfUaD6g033OCLF/SE8Oqrr5YDDjhgjb67ySablBNPPLE89dRTvvqsnHvuuU26u+66a3n22Wd9MQBgZObz3LKQ58iaqFvbdd7FF1/cnONVTmB9NDVo2mmnncpJJ500mc4444zy4osv+uqz8qMf/ah86EMfag5ELH050N55553Lv//7v6+xfCFPCDH4b7rppuWoo45q+u5HPvKRJv/dd9+9rF692jeZkZdeeqnsu+++TYCo6frrr/dVAAAjM9S5pXb9s5DnyJppQdNM6Drx+OOPL4ccckiTLjAGU4OmY445xhcNZl0PEBhW9Jmtt966OaEce+yx5c0335wsX8j9XRv89QjpOeec05Thuuuu801m5I477miCpT/5kz8p22yzTTnyyCPLW2+95asBAEZkqHNL7XxYm7eQanWbLW2vdJQeQRPGYk5Bk25FH3744WWjjTZqDvT999+/PProo5Plf/M3f1P222+/yS1s/RXm7//+75tlSjfmx6SBopavH8jxefvtty9nn312s34cmCrTEUcc0VomzJ/Yd0cffXQ59dRT13pMz08I+qnP+Va/7/888CotBWTa5mMf+1j5xS9+scY87et4PML7TIgy/Omf/mkT6Gy88cbl3nvvnSyPO0hdj9zpBKmAcKuttir/+q//Wg477LCy5ZZbloceemiyTpRbaX3+859v+qPq1Db/9ddfb54X32677Zryab768TPPPDMpk4Kzxx9/fJLHE0880RwDBx10ULM9AGB+TTu36LHtaeP17/7u71avfyKN8847rzkfxJMbuqOl80DQeH/ppZeucb44+OCD17jWifOrnoLQ+VjraDrzzDPX+GNm1la34Ofs1157rXn6SOc/zddPnZOjHnkieMIYzDpoevLJJ8sHPvCB8r73va9861vfKt/85jebA22XXXYpTz/9dLPOZz/72ebWtQ7aGAA0aGjwuP/++8vpp58+GRBuvPHG8sgjj1Tz9QM5Pmvbj370o+WXv/zlWmVSeaJMugCe67PGmC7vOz2ioCA5P6Y3l6Bps802K//tv/23ctVVV5V99tmn2U77dc899yyXX355c8LQvLjj430m6K+AWu/KK69s+qV+P+ussybL77vvvuYumU58beLkpzzfeOONSZqXXXbZZJ0ot+afcMIJk6Cma77Ke/755zfHwnHHHbdGfeL7U/mvmCo/jwYCwMLpc26ZNl63Xf/EOVJ/kFNwpXOKzqOaF+ckBTy6rtK85cuXN3mccsopzfeqdP2j6yCJ86uCN33f6pJLLml+17y2c0Zb3UI+Z+uPhxGMnXzyyU0d9FOPG+oaUNeFCqJ0TXjttdeWu+++m6cxsORNDZp0gOQpLmZ1AOuA+MlPftJ81gGkA0Pr6Kf4AaKLUw0ad911V/PZL6LFL5rFD+T47HcJokz5L/4xkPW9ZY7Z832n/awBVQO8Bnrf3zMJmnQ36Wc/+1kzT3+90+Cv4EZBjmiQ3nHHHctuu+1WnnvuubX6jPqnniFXEPfud7+76be6k6TAa++99y4vvPBCk476qPchpxOZyq2To+hkp5Oc/roYfw2McvtfG9vmq3xvv/325LPKo3JFfVQelUt3tXRcadLvXXfEAADD6nNu6TNe+/kwz8tPD8Q58cADD2zu7MQf9vSUT75jFOclP7/qscF4u/Ett9zSzFOQVeN1c/mcrbKoTDo36xwY4rovznXcYcKYTA2a/EUQ+kt/HCweUMUUB+1Pf/rT8kd/9EfN3YB3vetdk+VxkVwbNPyiWfxA9s/St0yYP77v8l+ibrrpprX290yCpjzwxrwc7HifyHcj86S/xt18882T/BRoR/AdgUrX426ar+U5sNLdJt11ykF8rdxd8xUw/eAHP2j+6qiTr8qp8kZ9dCLSXacItiJw1F/2eN0/ACyMPueWPuO1nw/b5vk546KLLmrWyecx8XNnn/Or8/Oo8zSvueaayWN/OgfqDlrUz8sNjMHUoKl2cMWBte2225Yf//jHzcGh75fop76D8corr5QHH3ywubDUrWUFWg888MDki5LzETTFPD3jG2XKEwft/Kvtu3hMT48N/Pmf//ka+9sH4FoatYG3Ns/7RHyONxz98R//cfmLv/iL8vzzz0/ykviLoO4wKeDR+m2PLkj8lc9PmDHFSbFWRmmbH///QidaPeag40ffB8x9PF4+obummvKdNgDA/Ot7bpk2Xteuf2rz/JyxmIIm+fnPf15OO+20Jl0tu+CCCzrPgcBSNqugSXR717/on/nBFV+ez/NqA4S+e6Tvi+S7CDoo3//+9691QewH9rQyYX619Zl4TE+PsOX9rUFfn/N3ijRP+3CooMn7iIu7RHq07vd+7/emPu6msqrMCmjyHVidPHVS1COCelSwVkapza+VNR43zPP0mJ4e19MrXPUse9cdMQDA8Grjdc208bp2/VOb5+cMnU91jvS30377299uto3v1vo1mLSdo8O0uuU0dU33q1/9arJMfzjX95fikXIvNzAGsw6a4k6SbkkrWNFfx/Uldn25XXea9H0PHVy/+Zu/2fzl/g/+4A8mbzmLg1h/2dcjTTqwvv71rzfrxeNPWk9/dVc6H/zgB5tBYtoFcVeZOGjnX1uficf0tE/zCSHu8mibr3zlK820xRZbNOssVNAk8QVdTV2Pu8V3oGrfeYrHMVR2pVcro9TmR+Cmbb/4xS82f5XUcr38wsuvxwlVznxyBAAsjJmcW7rG69r1T5+gSddIn/rUp5r1/EUQv/7rvz75P1FzCZry/6CKSd/bymlq3U9+8pPNm/50raW38umPo4ceemhzTovH3eONfbpDxnUYlrpZB00SjxDFxfB73vOeJkjRBaS+Y6Q3tuTXXOrgygex/koSB5qmq6++upmv12ZGugq0/vf//t/N66T7XBDXyvS1r31trZdSYHhdfSYe08snBAUn+ZXh2m86AQz5eF6tj7gIhvzxCRdv22v7n0zxOIaCfj3D7mWUWtlFX6Tda6+9Jn1e7VIrfwSa8RZKAMDCmcm5pWu8rl3/9AmaxF/1rYBJ11v6ekSYS9AU1095Ujo5TQVGejQxvn9bK8Ptt98+Ob/rvKltgKWsNWiaqba/zgOLXQRN/vjEYhQn4a47YgCAdY/xGhiXwYImYKnS96j0l74rrrjCFy06+kufyhqv7QcALE6M18C4DBY08VcULDW33XZbOfvss5vvUenxz/wf1xcbvdr185//fPMIhH8BGACweDBeA+M0WNAELDXxfLYCJr21cTHTM+gqq76cu5iDOwBY3zFeA+M0WNDEnSYAAAAAYzRY0AQAAAAAY0TQBAAAAAAdCJoAAAAAoMNgQRPfaQIAAAAwRoMFTQAAAAAwRoMFTdxpAgAAADBGgwVNAAAAADBGrUHT//k//2dG0yOPPLLWPCYmJiYmJiYmJiYmpqU+tQZNAAAAAICOO00AAAAAAIImAAAAAOg0WNDE2/MAAAAAjNFgQRMAAAAAjNFgQRN3mgAAAACM0WBBEwAAAACM0WBBE3eaAAAAAIzRYEETAAAAAIwRQRMAAAAAdCBoAgAAAIAOgwVNfKcJAAAAwBgNFjQBAAAAwBgNFjRxpwkAAADAGA0WNAEAAADAGA0WNHGnCQAAAMAYDRY0AQAAAMAYETQBAAAAQAeCJgAAAADoMFjQtNi+06Ty3HbbbWW77bYrG2ywQbnooot8FQAzcOutt5YddtihrFq1qvl8zDHHNNNsrVy5sklPP7HwtD81Ni5btqz3PmCfAcC6ofPtAQccUF599VVfhAXSGjTpRKoTam3KF06LlU7qqoPKeskllzQBlIt1ct022WST8pGPfKT84Ac/KG+//bZvgg7qE2pvXYw5HeQ62GvLsO6sWLGi9/FM0DQes2372W6HmdPxNpOAFguna+zTmNq2DIvHUgxAlmKZ28T191K7JmwNmv7wD/+wnHTSSeWoo44qm266aXn3u99djj322GbeGWecUV588cU11l9sd5puvvnmJgi67rrrfNFE7LSddtqpqZemAw88sAmctO3/+B//o7z00ku+Wasf/ehH5UMf+lC5+OKLfdF6gaBpaZnpBfD6HDR19e2lyPdlTW2dpbTPhqQL4XVxsbKu8kW3rrFvpkFT7TjD/Fof23wxnsOW4n5oDZpCNPRSG7g1cCnw6eogETT5APfyyy83waK2P+ecc3oHhMpL2yjv9VHXQUnQtPjM9eTedeHQx1K6AO/q20uR78ua2jpLaZ8NaV0FL2Prd2PRNfbNdVzF/NP+Wd+u0xbjWBLXhUtpX8wqaLrvvvuau0+HHXZYeeutt5p5CixuuOGGJmi49NJLJwHE+eefXy677LLJY3D77bdfefTRRyfp6xG466+/fvLdoy233LJceOGF5c0335ys45566qly4oknTu4IaRvd/XrttdcmOyE/ctf2iENb0CTPPvts2XXXXctuu+1WnnvuuWbe3/zN3zTlj3R333338vd///fNMqWR88zBU9d2Y9J1ULYFTRHcxuT7Ik5OuX21je9nP+h8uSbPW3K6KvsVV1yx1gnMy5jTiROefuZHPT2v6Gtt9Yy2i+XeZ5WeX7TV2tv7oZcjtO2Pru395N514RC66l27AO+zvvZRrBPlifEmz8vmsg9z2r6sq72clyH3Wa9broNv15WHTOv7XmbvV7V1ojxRzmizWl2kaz/WeBvn9b3+Xe2Wy5rT9P7Qt3y1ttTn3/3d311rm3wBkH/P5Z9p35Q+xxkWVtc+0f70Zfl4ymN723Emfk7Ix2n0r7PPPnvSP9vGq9rx7f0/0snHVp/8o661dUJb3cO08tba088dfpzW8gmq15577rnW8q5y+H7Kx2iMhfpZO3/U9B23fLzI/U4/a8u9/cTrpun73//+Wvtc8nVF1O3BBx/sHO+7+op4/nl/Ki1ffzGbVdCkR9b23Xff8t73vrf827/9WzNPwdNnPvOZsv3225fHH3980kh69G358uXl6quvLkcffXQzT0HD6tWrm0DrggsuKBtuuGETBN14443luOOOaz4rcKp58sknywc+8IEmYDrllFOax++UvtLV43Wvv/56ufvuuyd3ik4//fTyV3/1V+WXv/ylJzUZOPyAFJVNaeSD73Of+1yTh4I8lU/LVN8nnnii3H///U1eylPbqS6PPPLI1O3GJB9sLga1vMwP+linNljVTgh5Xt5PUY68X2Nf54PdB5hYJ5fJD+hYx8uT19E2OY22AT7KVytbpJvz8YHF29vLGoNejfLUiSMPuJqnQTx4u+pzrlcewGv61Dsv98+19VWeqGMsz+3v24i3y2z2obd1Ld2u9tb2umsdvAxet+B5+Haub9/3fVlTWyfSyvO9n0zbj87Xz20103Zr6xPeHjMpn/h+aGubSDeXw8ecvJ2n6/WrrYN1r2vs0/7Ky3xdP15qfak23igN7+c5HVHePs/7XK2PaZ3cV/vmn89RsY3396669ymvt6f4Mez56DyW08xUBj+evBxapkBSPzVv2nlx2vnDxT6otafPa+tLsTzau9aPsto+rY0tOZ2oW63/9O0rvq98TJ9W7sVmVkGT6O6RGjO+M6RAaZtttilf+MIXmoAjGvuggw5qAhnR/JNPPrkJiu66664maFDwoHnxCNwLL7xQ9t5772bS7+7cc89t0r322msn85S+8vGDMR/QNbHz/YAMmp/TjLtq4ayzzprURaLOedCQaduNRfQVtUHbFPvDD6Tg830wrA0kPnjUBgKf7/mEfABrqv1FKpfJB1DxQUTrep/I+Xgdg+fjdarlU0unppae8/R9cJuW37R6+z6Y6fqx3Nt/Pvahf/Y0Zsr7rPL2C5k+ZXd9+r74vqyprVMrp9dl2n50Xcuc59W3T3i/nUn5xNsvypHbQevEfqmNU5L7Ud/9O61sWHjaP35uy1PsP+1b/+OU9+Ha/s19KeS+XutftTGqNt/7l3iZZpO/5ONkWt29XMHn9y2LH9NtPD3Pbxpfvzbe+Dqu77jlfcP3XSyPO0Ft+UmtTLUxSOnnvullkryfvT0l18/r4GptsZjNOmhSwKNH6uIRPQVPCgTuuOOOZrkaqhZAxAsa9Arw22+/fa3BJqZaI+vxO72oQYGWHtHLlE++KPfPNdpJbUGT6qS6bbXVVpM7Rj/96U/LH/3RHzWd7F3vetekrPngqdV52nZjUTsog19k6Kf3qdp6PkjUBkiflw/6LA/ibfnnAzz6h/dNTVGm2oCQ2yHK5ttr0jqPPfbYGvXNchlr5fX2jvLWBjlXS09qdc77rGsAz6bVO9o3BsuZrh+8TD6vVp+Y+u7D2meZSXtLpJHLEP20Vrc+ZXd9+r7U6uxq69TKmY+/PvvR5W1qZZ9pu9XKHZ9nUz7JFwl5XuwHH7d8TAp5ft/96/sO617X2Jf7hfqD71vvw7X+qu19fU0x1tT6V1c/iXHB+2nw9GaTv+TjZFrd+5Q30vS29uM+8vJ2rPH0usoRasdq23lRYszydg5efqml4/Nq/S72lc93bWXKba11chDl+Yc8v29fif3uPM/FbtZBU9w10t0lfUfpU5/6VPO9nXjbXHRib6Qrr7yyma8gK9bRrTrlkyc9vuev/F7IoEkXs9tuu+3kTpkieX13So8WXnXVVeWBBx5oyu0Hj9e5z3Zj0XZQig/W+ul9qraeDxK1wdrn5UEgy4NjW/55MOgzmNYGldwOXh/XtTyXsVbetvaOfth1MV9LT+2Wt/H0va6+b7KueoV84pjp+sHL5POG2Ie1z1mf9vbxyPtsrW59yu769H2p1dnV1qmVM9elz35sE22cx9DZtFut3PF5tuVTfn685DbV74cccshkuZcz5Pm+T9r0XQ8Lp2vs076NZepn3m9crb+2Hceh1r+6+kmk19b/Pb3Z5C/5OJlW9z7lldyeoXbcS4wX3p6Zp9dVDpnpebG2jquVv5aOz6v1u6izz3dtZcr7Sb/ndDz/2vxpfSVE/n6NrPnrRdAkerxso402al7CoDsyemQvqFHVOIcffvjkpQ76qc96iYReJqE7ONpu//337/1qb32PSXe09NKJoHQPPfTQJjh56KGHmnnRkbyDZNpJtaBJAZnKpLrdcsstzTxPT0GjXsE+LWjqs91YtB2U4oN1bdCozfdBojZY+7w8cGc+oNcucrVODAZd9Qm1QcW38zq4tuV5fi2f6L+18nmbOG2T28jLXJvnZWgrd5i2fNq+dr6+eJl8ntehppaGb+efXVd715b5vFrdpuVZ06fvS63OrrZOrZxel2n7cZooq/5wNpt2q5V7Jv22xtsvKB3lp+Vd5Qy5vH33b60+WLe6+pD2eSyr9U9X279t/S3U+ldbf8rzYzsve6wT6c0mf8nbTat7n/JKrSxaVjt/i2/v8v6RrvVry3xebf/5Oq7WNrV0fJ73O22vgGO2j+eJ2lV/8FFaMZ4Fzz/kctT2Txdfv9YWi9mcgqZ4IYSCmBywiBpbgYECjyOPPLJ5EUS8sCECKT0Cp5ckaN5ee+3V3InRHagjjjii3HnnnWvkFRRo6e6WvwhCZTjttNMm343SjpkWmGgn6cDL/6fpox/9aFNmTQoCI724Q/abv/mbzQsd/uAP/qBsvfXWa+Rx7733lo033rhpr69//evNen22G4u2g1JikM3LdNDlA7I2oPsgURusfV6UwweXHGDENn7wah0fpHzQyF8yrQ0q3g5xLOS6a/v4cmnkm+ukdWt/3Yp1ovw53bhjm5f7SS3EYNu1vurufxTwtvGTb9an3nmwnOn6sY23v88bYh/W2mcm7e1tFeNTrF+rm0wru+vT96VWZ1crU22e133afnRaL6+bT6qzabda3fLnmZZPamnGfF1wxEVHqB2ftTGnz/71iwyse94vM+2vWFbb55LHjlofjmM2jydaP75A78dc0GcPJlSWnH+t/8dYn4+r2eYfefWpe5/yRlmivDHGxXZaL17akJfn+mWa72XyckSatT/cRFtF+rWxYVoZavu8lo7Py/0u8oiy6advn7XtM9E8PTmm5Z6/6trVf6b1Fa2X2yH3kVjeVe7FZk5Bk8QLIfTmvPzCg2hYNdypp546CUQU6Oj/IAU9+qaXOyjo0vpa58Mf/vDke0Q1ehzw4IMPbtbVNvpulcqRX1OuHeMDg4udrfVies973lM++9nPNt9DyvRooN7wF/U488wzy3nnnbdGHspf82MdBYp9thuLroEiDlhfFgNQTH5A+8mpduDX5kVZIl0fmPN2sY5+/+53v7vWAexlzOWpHfC1dojjISbfxvuiL/c04iSS8/FyeltmtTJ6GXTxltfxuvq+qemqd9uJY6bre1vV5nnbzHUf6ndPs097x7r+it9a3YLnM63NPa9a36/VuSbyjnVr5awdf1370fm6+VzjdenTbrW6+WfP05e7PFbUyuf7JNbPr4T2bcO0/dvnOMPC6ton6pt5mZ9nNPlY4ceZ+HjsF/V+zIW49mnrT+L9X+c9T282+fsFcZ+69ylvXifG5Tjua3nkcdvVxgzxcuQxZibnRamdP7JaGWrp+Lzod1HnWlvXxpjg57AQdfR9E/mrzl3t622U+4r3NS+f95nFbmrQNI2CFd3l0Usdsmgo3wnAYuaD1Jh1nfgBTNd2cdR2UTlTbekDQxqqvy4F61Nd+6oFcTLf10NLcV/MKWh65ZVXmgrH/13KCJqwFK1PgUTbQAmgn7aLiqEuBpbaX2GxNK1v54K243Z91TbOzHc7zXf682FWQdPzzz/f/JPWj33sY80jZ9/73vd8FYImLGoaHBQc5YNVfbX2KNOYqc5LbdACFoOuwKhrWV86h65v4xHmn/pV7pdtj5iOnepbCxTWN113s+czqIlH+mr5LmazCpqikd/xjneUb3zjG5OXJWQETVjs4jny2nO4ANBG5zWNGW0XmkMETcB88O+fdPVjjFtcA7WNU/MZNC1VswqaamqBEwAAAAAsdYMFTQAAAAAwRoMFTdxpAgAAADBGgwVNAAAAADBGgwVN3GkCAAAAMEaDBU0AAAAAMEYETQAAAADQgaAJAAAAADoMFjTxnSYAAAAAYzRY0AQAAAAAYzRY0MSdJgAAAABjNFjQBAAAAABjNFjQxJ0mAAAAAGM0WNAEAAAAAGPUGjS98sorTExMTExMTExMTExM6/3UGjQBAAAAADruNM0U32kCAAAAMEaDBU0AAAAAMEaDBU3caQIAAAAwRoMFTQAAAAAwRoMFTdxpAgAAADBGgwVNAAAAADBGBE0AAAAA0IGgCQAAAAA6DBY08Z0mAAAAAGM0WNAEAAAAAGM0WNDEnSYAAAAAYzRY0AQAAAAAYzRY0MSdJgAAAABjNFjQBAAAAABjRNAEAAAAAB0ImgAAAACgw2BBE99pAgAAADBGgwVNAAAAADBGgwVN3GkCAAAAMEaDBU0zpSDrtttuK9ttt13ZYIMNykUXXeSrAL28+uqr5YADDigrVqzwRVOtXLmyLFu2rOmDt956qy/GLMU+OeaYY3zRjGh7paP05sNc+s4Q1Od22GGHsmrVKl80uPnIa123n+gYVr30E1gMNG7NdexbTBbDcd5HnM+HOJcPmdaYzcd5ZTFrDZryxWRMCnAuvfTS8vrrr/vqM77TFOmrsS+55JImgMLSpoNG+3PaAaSBd8ggZbYDepR3qHLMtyiv17N2rM5noNEHQVM/C3nCmY+81nX7SQ6auNDBQtHYlMfcfGwttaBJx2/X2LAYjvM+hjz+h0xrzPJ5Zb7P14vB1KBpp512KieddFI5/vjjm4bR4HDqqafOOEhyN998c5PWdddd54uwROmg2XPPPTsDkRh8F0PQNPRfqJX/fA4YtROxPvvJTvlrftsJcGhLLfjMZtt3hjIfgYzU0q3Nm6t13X7ix/F81BMIbX8QOuecc5Zk0OTHT81iOM6XgqVyLhyynHm8XR/6ydSgKR/4zz//fNlnn33KNttsUx5//PE11p+poe82YN2LA3GPPfZoDR60vxVYaRpq38/2QO1zspiJ+QyaIiDNZZ3P/GZiyAF4oc227wxlvi7wa+nW5s3Vum4/8eN4MZQJ46V+prG46zhaSkGTjpNpZeWY6mepnAuHLKefV/zz2MwoaBJ91vw4QT388MNl//33bwKgjTbaqBxxxBHl2WefbZap8TT/85///GSd73//+5M7DTF5egcffHCTlpbpkcDLLrusvPnmm61pal4EYd/5znfKUUcdNUlXn3/xi1+Uww8/fDLvG9/4xuRO2S9/+cvypS99qWy55ZbN8k022aR88YtfLK+99toa+Z133nnlwgsvnDwGpTxeeuml/3+rlPL222+X66+/vuy4446TtlBbvfHGG5N6eTs988wzk+3HIA7EK664Yq0L/KA2Ofvss5s+EAdsLSCIdXP/i4E79x2lkQd0rR/LugKK6C8xxUEedfD5IY6LnMfq1avXKlfO2/PKA1UMMGoz3y7TennZUIOel612vGuK40BTPl7z/Fw/P8nGha3qGe0XbZvT8PbOfcDLWiuzr+Pt4/sv+mLbxUCfvjmT/peXR3t4nbvq0Ke/5Dwin2jn6DO5Daa1kfeJbCZ193rV0vX+NC0dlTPacDH+QQHjE8eHHzdZHh9CV//39eO4yvN8LPJzVe7vsX2Mb1peK2+s58t8DMjjZIzlPibG+KJyRX1ynX2c8/L78kgjjytKL8qc54Va2Xz9trZwnta08dPHrrzM69pnX0V+Dz744Brb1uob59Xcht7f5lrOMO0cNtS1yWI1o6DprbfeKocddljZaqutyiOPPFIeeOCBJtj40Ic+VK699tpJUPGxj32saejYOQoSbrjhhiZQURp33333JLA5/fTTy1/91V81wUukt8UWWzRBylVXXVX22muvZr0LLrig2b6WpkQH2X777cuZZ55ZzjrrrCYAUnl22WWXcuKJJ07Kt+mmm5b77rtvUk8FM5dffnkT9ChgUzrnnntuszzyU50PPfTQcuWVV5bdd999jXVUp5NPPrmZp2VKS9/TOuGEE5p2iHrpLp0eR4xyLF++fK0OuZTlgyUuojK1tQb9n/3sZ2sM1H4yCPlEEmnnNGNgyYOiH/xtF8Pig6JoAMiflV8MHD4YaJ4GutiHtQs1nxfHlQ9g3lYuTkAhBtR8kpkppZnTiHbM5Y0BMpdP5ciBk7dLTivKHPWOtPM+83k5r9wHnLetf/a29s8S9WvrJ336Zt/+l/uSRHn8RFdbZ6b9pdY/Yltvs7yeHxO1fZLNpO7T+pr3q9p2Xt7Iy7er1R8Yivph17jh45b3Y+//3l9rY0Nepzbm5vEl0vfjwmmZ3zXzMUfyOBlpe91znX1crY0jXefanIaPfT4v19HHr2innK+2yXVr42n1GT9r+6U2r8++ivxq/aLtvBqmnUdqZarNq+2TWrq1vu39Yyx6B0260/Otb32rCVY+8YlPlJdffrkceeSRZdddd23+0h4UrGy88cbl3nvvnex0BVoKLLIYdGIHabnSU0Bzzz33TNbTXSvloTs4Tz/9dGuakZ6CsAikVBbNU7qxbqyn4Ed0hyh/P0uPHerxQwVPuksU+elOVdztiraJdRSAqdwHHnjgGnefJOqlOsQdOMntNBb5oKsNxmr7POjmA3jahakPAlltQJaubcQHxRqVMQaEaet7fn3qpfR9sHTeXqLfu+o2TVtdfL4PkuKDYm2w9XU8XanVPbe35LbKfNs+bV1Ly8vp+qTbp//V6i+5vn3y8nq38XaMeb6t7zvl421RSyvMpe55vpcj5Plt69TSr80DhqS+peOpFjzlY7atL3r/z8d+HD8+L9LMv9fSazsuXe080mec9O28/Nre0+0aR8SXezlqdfJyeVv7OXkmPK0+46d/ltnuq1p+4mNrDobE90XI7Tmbcnp7BN9v4vtuTKYGTRHZx6Q7KU8++WQTAOy8885rLY9JDampNqCI5sV6Eul95CMfKa+88soa66rxo/O0penp5Xn5ZRO+vd4E+N3vfrcccsghzV2qeCwwOqWvL9HhYh0FYJ5P6NNOY+EHovZbtFs+kGOQyAPNtIM8p+V84AzTBsy2QSD6TUw+kGtebUDw/NqOobx9bcBx3l7SZzuJ/htT7te1tvG82ga/aQOw75NaW9fq4PNq+Ud+eX9Pa2uvV/Byuj59sy2N3B/a2jvXd1odfP0utfVq8/K+i3p43pp8uzCXuud9orr7H1lCHPtt69T6Vtt+A4YWx23u43l86NP//TjStpoffd/HL833Y1RTXCd5em28bJ5P8PT8+PJ0auN2bfyZdq7NaXgZavN8LIj2mw1Pq1b+PH7WPsts91UtP5/vZZQ+55HZlNP3caiVU3Xx/T8WU4OmeHueHo/7h3/4h8ndFjWQ7v7st99+5bHHHms+a9L3dPQz36XxziBxsMROm8+gKc/L2+su0Oc+97kmUNLjdVqmR+n0ParoHLX8osPFOpGP3gjoYl1vp5jiO09j4Aei9peC0WjHOIh8YNZ2tQucPGh2DX5tg44+1w7y4AOO71epDQiRXx6ExPNTurWLvKyWvvP2Ei/7TLUNgJ6Xn7hCnu/7XXyf1Mpbq7vPq+Vfmzetrb1ePt/7TujTN9vSyP2hrb1zfafVQbx92tTWq83L+66tjbrMpe45v666x7Hftk6tb7XtN2A++BiYx4c+/V/imInH15VmbKuvNOS+33U+lLbj0nnZvEyhll4ug37P29TG6Dz+RHvlvH188jRqZfB5PhZMa6cunpaXT3y/+2eZVgavQ6jl5/O9jNI2TmazKaf3lTzfy6l0fP+PxdSgqa3iutjX42mbb755uf/++6uvIFdjesARNC8HNJGe8lR6QW/s+/Vf//XJ421taXp6bfPy9rUDN+od82r5+XZ33XVX2XDDDdd4hC+01WuM2g7EuJMXB7YPzLXtYp3of2r/2gGb1631ibZtxAec2sFfm9e2zPOr1ct5GjXeXnle2/E5jde9bb6fuMTr5Z/F94mnK7W6+zzP35eHWhmytvaK7bzvhFq6npbXNeT+oO3jDz++TtSnlpdrq7+rrVeb53l6e0/Tp+61fS95vpcj5PkxNvs6tbZtyxOYD34c5OOorS/6fP3Uxa6+6xPbqv8r3TxP/FzjvDxtdOzkdHxsC7VxUuXVeT0HeaE2juTxpzYW+TxPo1Ynn+dtOq2dunhaXj7xccs/y7QyeB1CLT+Z1rdqZXC1daaVszbOSj6HBd93YzLroEluueWW5i5NvLjhxhtvbL5TpLfRiRrZA46geR7QKPjQyxtqL4LQ96mkLc1aerV5efvnnnuu7Lbbbk2e559/fvnmN79ZfuM3fqOpU77Y8fyiw8U6esRP3/PSeiqvyq304kUQ09ppLGoHYhz4upMXYpDI66mf5QM29l0+eSid3B+1vaa2QWfaIOADjn+OPGNA0HydvIIPav5ZVF6fl78AW9umRul4/bwfBv2u9fukmfOunTD1u/f/tu3yOj7P21Zqdfd5foKoXTQHL5d4W/t4UKufm9Y3va4h979YJ6cT9fH6TquDL6/p297Rh6JNam3k/T7rU3fxetX6mrbxk7K3vacT5fftanUFhlA7HtTfch/M41Z8ntb/Y14+/vK8fIzF2OHXJfpfUXk7Py6d0vG7ErUxoDZOKg8FTXoZUq5HrO/z8jHp41Mcxz4W1trHy9B1nol0czoqhyYt67ob7WnVxhQfP708kc5s9lXshzz++b7xMgbvb5LPI7U8+5Zz2jmslvaYzClo0t2l22+/vXk7nXakJj2y9+1vf7tZHju41nia5wem/OM//mPzKFukp7RvuummyZ2stjRr6dXm+fY//OEPJ68J192sH/zgB00HiI7h60scKLnz6BXlZ5xxxuTV5boD9+Uvf7l5BLCtna6++upJmmPgA4jEATRtXmwb7aP29kHT14kDte0g1ee8j1xtwIk+E+nn12nGMeH5hyiHluV844QTkw/gnk5NV108/Wi/Pnxb3y72QV6vVt44TjTpd98ntbau1d3nRd65bX3K7en18fErl1OT7oLW+k7m/c77ptc1+D7zOuh35e9t0FUHb58ukU6sX9u2dsx6G/k2Wd+6i9fLt5F8/Hndg/fFqJcfx54/MAQ/D9SOkTw+5Hl9+r+npXn+RwHxcuR12o5LVzv+xceAtnGyrWy1+vv4k491zfdXV3satTr5vNp5xsfvPB52jRGelpdfau3n58JIa6b7KvJTu+R9kfPyMmbe32r7w9PsKqf0OYfV2mRMWoMmAItH1+A4n/zEBSx2bRchANY2lzF+Kf9xQmVfzGNELUhbCpZqufsaLGiqfacJwHDmcnKbrXWRJzAXYz9pA0Oa7R/klvofJ/SVgZnWeSEtxXFsqfeJPgYLmgDMr7jtvZADEkETlpJ4vGSsj4YA86H2WOA0S/GifilZiu2ra4Wleuexr8GCJu40AeND0AQACPHHO/++C4a1FIOm9cFgQRMAAAAAjNFgQRN3mgAAAACM0WBBEwAAAACMEUETAAAAAHQgaAIAAACADoMFTXynCQAAAMAYDRY0AQAAAMAYDRY0cacJAAAAwBgNFjQBAAAAwBgNFjRxpwkAAADAGA0WNAEAAADAGI0qaHr11VfLAQccUHbYYYeyatUqXwwAAAAAMzY1aLrrrrvKsmXLyk033dR8fvnll8vpp59e3vOe95QNNtigmfT7Pffc45suOA+arrjiivKud72rPPDAA74qAAAAAPTSGTStXr267L777uWEE04ob731VnnppZfKgQce2ARKe+21VznppJOa6aMf/Wi5/fbbffMF50HT66+/Xj7xiU80k34HAAAAgJnqDJp0p2arrbYqDz30UPNZd5023HDDcvLJJy/KFz940CR33HFH2WSTTZqfAAAAADBTrUHTG2+8UQ4++OBy0EEHTe7S3HvvvWXjjTcuhx9+eHnzzTfXWD+CqBUrVjR3om644YbmMb6NNtqo+axtnnnmmcn6SvPP/uzPypZbbtks32677ZptcjD28MMPl/33379ZrnSOOOKINdJ48MEHyz777NMsVzqXXXZZs34Oml544YWy9957l2OPPXZRBnoAAAAAFrfWoOnxxx8v22yzTTn//PMn8xTofOpTn5o8nvfDH/6wvP3222tsF0HT+9///vKZz3ymXH311WX58uXNvHhMTgGXHuvTHaCzzjqrXH/99U2ApsDolltuadLR95AUCCkouu6668qFF17YfLdKaemO0k9+8pPy7ne/u0njlFNOKZdccknZcccdmzth/iIIPV642267leeeey6VFAAAAACmaw2a/vmf/7kJUm699dY15ivoueCCC5pgRYHQ+973vibA8TtNX/jCFybztI3uWOlRv0ceeaTcd999ZdNNN23uDIUI0g477LDmLteRRx5Zdt111/Lss89O1lGApTtduuOl35XPtddeO1n+2GOPlW233XatoEllirwBAAAAYCZagyYFSwpKPGgKzz//fPnKV77SBE+6IxRvqIugybfTHSvN1wsjLrrooub32qTvJCmA2nnnnddaFtP3v//95oUU22+/fXnqqacmedS+0yQqiwLAlStXTuYBAAAAQB+zDpqCXjWuu0ZHHXVU87ktaNIjdHGXKNa55pprmuAmTwrGfvGLXzSBz3777dfcPfJ19JhdLTgiaAIAAAAwtNagKV76kIMfzbvzzjvXeKGCvlukO016rE6vJY+A6Jxzzpmsp0BI303SnaEnnnhi8hY+vZzBXygh8RIKBTr333+/L27oe0pKI78VT2/5U1k8aFKZ3vnOd5Yf//jHk3kAAAAA0Edr0FR7EUTcfYr/0aS32Smw0Qsc4p/fRtC02WabNa8mv+qqq5r1cyClO0Lxcgj91IsetJ4Crwhs9EIIpbvFFluU8847r9x4443N2/i+9KUvNcsVeGm58tdjgnoRxC677NJ8d8mDJl4EAQAAAGC2WoOmeNRNd3x050f0uu8TTzyxbL755k3Ao6Dlwx/+cPmHf/iHtV4EceWVV5ZPf/rTze8KbPR68fwPZn/5y1+Wz372s5MXSujnJz/5yUmwo/T0/ScFQvFdJr0dT2/ji+V6RfnWW2/dLNNLI2677ba1Hs+LV47rxRK6EwYAAAAAM9EaNInebqfH3eKf23bxoMm/07Su8M9tAQAAAMxFZ9C0evXqsvvuuzePt/W9S7OYgibd2dL/hor/7QQAAAAAM9UZNIm+W6TH6+I7S20W452mK664orzrXe+avA4dAAAAAGZqatA0U4spaAIAAACAuRo8aAIAAACAMSFoAgAAAIAOgwVN+R/eAgAAAMBYDBY0AQAAAMAYDRY0cacJAAAAwBgNFjQBAAAAwBgNFjRxpwkAAADAGA0WNAEAAADAGBE0AQAAAEAHgiYAAAAA6DBY0MR3mgAAAACM0WBBEwAAAACM0WBBE3eaAAAAAIzRYEETAAAAAIxRa9D0yiuvzGh6+eWX15rHxMTExMTExMTExMS01KfWoAkAAAAA0HGnCQAAAABA0AQAAAAAnQYLmnh7HgAAAIAxGixoAgAAAIAxGixo4k4TAAAAgDEaLGgCAAAAgDEaLGjiThMAAACAMRosaAIAAACAMSJoAgAAAIAOBE0AAAAA0GGwoInvNAEAAAAYo8GCJgAAAAAYo8GCJu40AQAAABijwYImAAAAABijwYIm7jQBAAAAGKPBgiYAAAAAGCOCJgAAAADoQNAEAAAAAB0GC5r4ThOwflu5cmXZYYcdmp9zoe2XLVtWNthgg3Lrrbc28/RTnzX/nnvuKQcccEA55phjfNO1vPrqq73XBYD5pHFMY+SqVat8EdZTQ50354vOnTr36jyq82mcUzVPy9SndV7uU/6ZrLtYtQZN+cLloIMOKq+//rqvUt54441mmdbZcccdGQjWc9r/OvinnRRWrFixxgUxxmGIwT/6UO4bnu5MAqGZrAsAXfIFY22adu4jaILz89tiomu1CJaCzqX5fDqTQGgm6y5WvYKmTTfdtNx3332+SjNPywiaINr/e+6551oXvVk+6bStg9mJttVAty4MMfjX0liMFxq1kwmA9YtfQE6zGMcyrFu1c95i4f17XV9j1NT+0DqfpgZNKox+nnXWWb5KOeWUU8o73/nOsv322xM0YdJ599hjj9YLSnVsBVaaFqqTry/W9YA2xOBfS2MxXmgQNAHwi8ppFuNYhnWrds5bLLx/r+trjJpFFzQddthhzSN4u+66a3n22Wcny/W75h199NFl//33XyNoevvtt8v1119ftttuu+aOwpZbblkuvPDC8uabbzbLVTnNP++888qZZ55ZNtpoo2b62te+Vn75y1+WU089dTJPy2M7eeqpp8qJJ55YNtlkk0naZ5xxRnnttdea5dGA++67b/n85z/fpKGdrvJofQ/+zj333LLhhhuWO+64Y435mLlo+yuuuKIJimqDgPbF2Wef3Rx43snjsb2YagdrbJvvVOW7or5dm+iDMeUL4KhHLPPbyTHIqZ6Rb5wIc7p+cowBKK/jacd6uWzeTrXyXXvttWu0gaauga0rjzix62dO08uR95fWU3v0Gfxz3rn+vv+V1uGHH77GPO2n1atXrzVw1x6bUXnbBvm2MsQyTbk8sS9r+RA8Aesnv6j0sdnPAR40xbkrjyE+DuZx18cfH7uyyEvjso9VOY/a+OVl8HNq1DvG0Rhfvf61tDNPJ9Lyevr43ZVP7VpBk9rDt/Nzmufr6/i5P85R3j5t552aWtA07Zqm7fzt5e/qH9KWj7eTJt0k8WsM5et9WvI1jqbYP7V128oQy7R+bBfrRLt6PlGm+TQ1aFIFFHAosNDPoN/f8Y53lDvvvLNpkAia9EKICy64oFlfwc2NN95YjjvuuOazAieJim611VblhBNOKBdddFHZYostmnX22muv8ju/8zvl8ssvnzRS5Pvkk0+WD3zgA03ApB143XXXleXLlzfrnHTSSU1wlXe20o7vYj3xxBPNHbG99967vPDCC828l156qQmuNOl3zE20vfavOrUf6OpTCqZ+9rOfNX0md26tmw+mOPjjYIvPPgj4gBPred6ZypbT0TYaYPUz+n0e7KK/RnljHS9bHhxq5YiBLs/zsuinBuSgPH25l0/ra37fgXpaHlHfqIsozbx//HPse98/Lk6QwfP2/Rnr1PqGn6g9XU2+rkwrQ+yn2Ka2L7Ustw+A9Y+PJTEW5+V5nMhjWYxbeWzycSXG+zj3TMsvi3E81s/XRj7Px8faeJvLFWNkPofn839Oq2uc9HSizD4vj8/T8ony5m1UP6Xp82rnsNy+fr6Nz237NG/n57E2vq5/9vOP95E418lM+se0fMTTq51Pvf5a1nZ95etOK0O0d96mT3+YT72CprirFC+E0KTfNcVffSNoUnCiO0xf+MIXJm/UU5CiYCUCljgwDj300MldJAVAmpcDmFtuuaWZpwBJdFdIn/VX9RBliUaMBtxmm23K448/PllPZTn55JPLxhtvXO69995mnn7q82WXXTZZD7OXO6/2hQKkPJDoYNIUB0Z0cj9wQp7vB1PQ53wAix+Y2bQDzAeJ2vxaef1Ajnm5HHlgD7VBKPPytpVPpqXVxvOo1SWv4+uHWrtktT7hZa6l4e3o2/hJJPN1+5Shtp+8DF15Alg/dI3H4uNGfH7wwQebn3lbrVN7QiPy8HFqGs9btG1tXoxltfFXfH5tjFQ63ha+nfP2q53nvd7T8vH1Jc5ZtXlxHmsb0719chArkV+eVytjG28jbef7OO9Lb7NQq3eXafnEOl37wrfxNnW19LvK0NXesd20PIfWK2gSBSzxQghNWqY7QFGBCJr++q//evKXAp+iIVQ5ffaG17z8+Fwugx6/O/DAA5u7RXpEL1M68ZeJaMBa548XV0Qe+qnH+x566KE11sPseOfNB0Q+Ifggo5+1/ZXX8wMlL/d+lvuaU/5+0Ry8XFkuow9ysdzz9Hk+AAWfH/0+1ye3Qa18UmujNm15iJdb8r5ta8Nau2RxjNemKHMtDS+P17M28AZft08ZfH/EdrkMWrfWZwGsP2pjRVyPxJTHDY0j8Zdz3642JscU68b45eNzjY9ZUhu38rx8nsv83FOrtz57uTX5H+AyT8fH69q8afn4+uLXJrV5beeRfL6rnZ9E20U9vK2myWn2uaaJflJr1779o08+0mf/5H7Wdm0Q8rp9ylBrby+D78f51jtoUmChAEPfMdIdm/iOU1QggqbYaeecc07zOU+6K6XvO8U63vA+L5dhiKAp7krpjpfuQunnkUceWd5666011sPseOfV/jvkkEMmg3HboNJnoPYDxZf31XVQd6WXy1g7kPNg0DbPB6CQ5+tnHgxzm3aVT2ptVNOVh3i5fZ22Nqy1S9a2n7NaGl4er2fbyU583T5lqO0nL0O+0ACwfspjRe3aw8cNfY6gycePtnG1Jq55fJzOPG+pjVt5Xtv46Oee2hjZNQ638XR8vK7Nm5aPry9+jqvNa0s375fa+am2Tlz39JHT9HbuonXUB2rB07T+0TefPvsn97NpfTiv26cMtfb2Mvh+nG+9gyYFFgowNttss+aRNt15kqhABE2PPPJI810lvRyi7XtCsbO94X2el0GP6el7TzfccMNkHT3ep8f84o5RbeDKrrzyyuZuk8qv70bxAojh1Dqv9t13v/vdZhCJju8HS+3A8Pl+oAQ/qKeplTFrSy/Pr5U3DwZt82pp5/LUyubzammEtjbKPL3aPC+3rxPHpbehPtcG8FBrN1dbx8vj9axdCARft5a+q7Wxl6ErTwDrhzxW+BhRmxef43u9eQzxcXiaaet73lIbt/K8tvHR59fGyFra03g6Pl7X5k3Lx9eXWlv5vLZ0+7SPqB5KS+t3nYOdp+lt0qVW1+D1c33y8XVq+eV+Ni1P75OevvO2ES/DtDyH1jtoEgUYClry/22KCkTQpDtJn/vc55oASBHnVVdd1Xxf6YgjjmheGiGqnAdItXleBgVk+q6SvwhCZTrttNOa7y1FA9Y6v8QLIbSNvxEQc1PrvHGQ6O5kiD6T19M+zgdTrBP73g+UEP0mp6V+k1904JRGvrhX2tNeBJHXrx3IPhjU5qku3sdzvWt1jG2ifrXy5S97ThuE+uTh5Rbft76/YnlX0BR5+7EZd6WlT9t6HSLvXG9to8nX7VOGWht6GfwzgPVPHit87IpxqW3cqI1FPq5KftFPnKdy+vncl9XGKI2DPvb5PC9DlDOPibUxsnZuUhoaW9t4Oj5e1+ZNy8fXj+XeVj6vdh6JvPL5189PQevoj8P5D8SidGvfVQueptLpuqbJ56pc19n0j658pM/+8X6mZW3XV77utDJ420R6tXN6LtN8mlHQFG+bixdCSBQ4v3L8jTfeKF/5yleauz9qEL32+8Mf/nAT9Eg0lDe8z6uV4dFHHy0HH3xwk6bW10sn9CKHeKFEdBQfGEK8EELbxt0yDKN2kEb/mDZPtJ+1X2LqGjiz6Dsx+YmiRum05RX9ri292oHsg0FtXgxAuZ6+jecdr/H2QSWvk/t6XlZrK/HtPQ8vt9T2rdcjtsvt4mI/drW9p+HlqfWFKJ+3a23daWXwE4W0lcHbH8D6w8eKfF7ReBFja75IzJ9j3MoXmX4ejPRr45afQzPPS1Q+H69q87wMfi7xegc/t3T9EU08na7x2s8TbfnU1q+dv7rm1dKV2vkpxLbeLkrf2zerpdl1TdO2b2baP6QrH+mzf9r6Wa2MtXW7ylBrm7Yy9K3zXLUGTTMVb8pb7CJo4gUQWGg+AAEAgKWvFoSJLu496MTSNVjQtFT8/Oc/L+9///vLJz7xicndMmAhEDQBADA+tbsooj/S1+5MYWlab4ImPdb3Z3/2Z80/z9Ut1/vvv99XAeYVQRMAAONSe2QM47TeBE3xDOzWW29dbr/9dl8MzDuCJgAAxiO+v8O5ff0wWNC0VL7TBAAAAAAzMVjQBAAAAABjNFjQxJ0mAAAAAGM0WNAEAAAAAGM0WNDEnSYAAAAAYzRY0AQAAAAAY0TQBAAAAAAdCJoAAAAAoMNgQRPfaQIAAAAwRoMFTQAAAAAwRoMFTdxpAgAAADBGcwqaFCjddtttZdttty0bbLBBueiii5r5//zP/1x23333Zt4JJ5xQbrnllrLxxhuX8847z5NYy6uvvlqWL19edtxxx/Lkk0/6YgAAAABYUK1B08qVK8uyZcuawCdPO+ywQ1m1alWzzr/8y7+UzTffvPyX//Jfyp//+Z83AdTPf/7z8v73v7/Z9oILLijXXHNNufXWW5vPF198sWezFgVNH//4x8see+xRnnrqKV8MAAAAAAtqatC00047lZNOOmkynXHGGeXFF19s1rn55pubQOq6666bbKe7TO94xzvKWWedlVIDAAAAgKVpatB0zDHH+KKJFStWNEGT7iQF/a55WgYAAAAAS92sgiY9QnfAAQes8dieHtP7xCc+sdbjfAqiaoHU22+/Xa6//vrmu0tattFGGzV5Pffcc03a+TFAefjhh8v+++8/WfeII44ozzzzTLMs0td3pi688MLJY4VHHXVUeemllzrzPProo8vhhx/efOfq3nvvnayr7fbdd9+y6667lmeffXYyHwAAAMD6ZVZB01tvvVXuvvvuJihR8HH66aeXv/zLvyx/8zd/0/weActNN91Unn766bWCJm1/8sknN/P0wojLL7+8XHLJJc1LI1avXr1W0PTAAw+ULbfcsuyzzz7No4ARGOmFEQrgIv2tttqqHHrooeXKK6+cvIji3HPPnZrnt7/97WZ+fqTwvvvuK5tuuulkewAAAADrp6lBU9wxiikHUX0fz/N5EZAceOCBa9wJkriLFUGTgp0jjzxyrTs+CnDi7lCkrztGb775ZrM8yn/wwQeXN954ozNPpav099577/LCCy9M0leg9tBDD62xLgAAAID1y9SgyV8EcdVVV03WyUFT/J8mD5Bq83QnSJ/zCySCB00KaHbeeee1greY2h7/07ZKQ2kpza48RXeUIghT4KQA6qCDDiqvv/66rwoAAABgPTI1aKo9nhdme6cpttPb95wHTRH87LfffuWxxx6bzItJd5E8ffGgqStP0R0l3VnSHSYFTrorpe8/AQAAAFi/DRY0zeRO01133VU23HDDNR6nCx40KSjSI3Yqy/3337/GusHTFw+auvKUyEcvf/i93/u9tR4HBAAAALB+mho0+eN5f/iHf1j+/d//vVlntnea9MhbvGlvr732ah75O//881tfBHHLLbc0b7rbYostmjfk3Xjjjc0LJ770pS9V0xcPmrry1HLRnSUFVpr00ogIBAEAAACsv6YGTQoy8qR5WiazDZrktddea/5Rrh6J0zK9svzLX/5y849zPWhS8HL77beXXXbZZVIOvTb86quvbk3fg6auPPWyCYkXQujRPL04AgAAAABag6b1UQRNvAACAAAAQBgsaBrDo2x6SYQeA7ziiit8EQAAAID11GBB01J22223lbPPPrv5ztT++++/1v9xAgAAALD+GixoWsp3muK7WQqYnnrqKV8MAAAAYD02WNAEAAAAAGM0WNC0lO80AQAAAECbwYImAAAAABgjgiYAAAAA6EDQBAAAAAAdBgua+E4TAAAAgDEaLGgCAAAAgDEaLGjiThMAAACAMRosaAIAAACAMRosaOJOEwAAAIAxGixoAgAAAIAxImgCAAAAgA4ETQAAAADQYbCgie80AQAAABij1qDplVdeYWJiYmJiYmJiYmJiWu+n1qBpprjTBAAAAGCMBguaAAAAAGCMBguauNMEAAAAYIwGC5oAAAAAYIwImgAAAACgA0ETAAAAAHQYLGjiO00AAAAAxmiwoAkAAAAAxmiwoIk7TQAAAADGaLCgCQAAAADGaLCgiTtNAAAAAMZosKAJAAAAAMaIoAkAAAAAOhA0AQAAAECHwYImvtMEAAAAYIwGC5oAAAAAYIwGC5q40wQA66fXXnut/PKXvyzPPfdc70nra7uZmmleWhcAgLkaLGgCAKx/XnrppbUClZlM2r6v2eY1kzwAAKgZLGjiThMArF9018cDlNlMfe44zTWvPnkAANBmsKAJALB+mcljcl1Tn0fo5ppXnzwAAGizaIKmV199tRxwwAFlhx12KKtWrfLFi9aFF15YNtxww/K9733PF83YUm0DLG0rV64sy5YtK7feeqsvGswxxxzTTGMSx+tiq5f2p8YQ/RTtV+3f+DzkvvDAZC7TNL7+bKalbNp+XSheDiwti3XcWkjz1QYcGwvD21lj4UJdN7cGTXEhtcEGG5SDDjqovP76675KeeONN5plWmfHHXecU4GXasBw8cUXD3bBuVTbIFO5VX71iZiGHpgwLIKm2ZmvE+9s5H1YO6EQNPXLY76p3dVn1Hdmatp+XShejvXZihUr1jjXaZrPcXQIi2ncWlfmqw04NhaGt/OiC5o23XTTct999/kqzTwtm2nQ9OKLL5bjjz++HHLIIZOTx1IIGG677bay++67l7/+67/2RYNYCm3QpXbxrXqcc845a6y3FCzkQThT0U90wl4qhrxQXxcWc5t72fyE4obcFx6UzGWaxtf36YQTTih/+7d/u9b8meTRx1zGBt9XMzFtv86HWl3XRTkWm/jjoAfAcQ4c6viaq7n0N8wcx8bC8HaujVPzZWrQpILo51lnneWrlFNOOaW8853vLNtvv/2MgqbagLMUAob4q9J8/SVpKbRBF7XPYjlZzNVCHoQztRRPhENeqK8Li7nNNVbvueeek77qJxQ35L7woGQu0zS+fkxHHHFEue6668r/+l//qwma4rOv1yePPuY6Nsx2+2n7dT7UyrouyrHYdN0xjOub+bpOmInFPG6NEcfGwvB2ro1T82Vq0HTYYYc1j+Dtuuuu5dlnn50s1++ad/TRR5f9999/jaDpxz/+cTn44IPLRhtt1AQZ2223XbnhhhuaN+ypcn47Wwf16tWrJwHD3XffXfbbb79m2dZbb11uv/32VLJSHn744SZPLVceOkk+88wzzbJI/7zzzitnnnlms1zT1772teaLwKeeeupknpa/+eabzXZ6/FDfT1JZPd0YeLzcyqsWSL388stNPptvvnmzTD+/853vNMu62mYMQVNX2TVfF3c+oOSLuDzI50cfPN3YJven2qMqcQJrWycOviuuuGLyR4LDDz98jf0ceXs/8LRC2wGs+uQTrT/a4SdZP1a07T333DO5AxxTPiF6mn5xHO2mKbbNA5C3V0y5rjE2tOXhaeQ8u/h23r5RTo0PeT/U0o361dKptYF428V8r28sq12QeB/RlPdr3iaX0S/AfN/X6hgirTDthOL7Iurd1Y+8bwYPSuYyTePr50ljdZT1y1/+8lrL++YR2vpPnq8pt+u0/hv6XlTnfaC0NEb12a/er71c3tc8L005Ha9r7l9ehpxeLZ8x8OOrJtd/KYxbtXS8fJF3Xs/3fd9xK8pw9tlnT9okjgcvt6fh/Tm3SyyfyXWGxD7K1wFRL2+XruO21je8vL5fZSbnja7297brOga9P2nK/SPPy7w98vI+5zfVy8tVGxO78vF2zuNQ3s/B9/dcTA2alPn111/fvOxAP4N+f8c73lHuvPPOpjA5aFLw8elPf7r5a983v/nNpjLxiN/TTz9dvvWtb5Utt9yy7LLLLuXaa69tBhM9sqd0FEwoLQU9J598cvNZd7KeeOKJJu0HHnig2XafffZp0ldeKufy5cubhomDdquttmoe17jooovKFlts0ZR/r732Kr/zO79TLr/88kknjjqp7Mr//PPPLzfeeGM57rjjmuVHHnlk890tlfGoo45q5p1++unNOqpL7NjY2U899VTZY489mnnRBgqgvvGNb0xtm9ixfiAsFVH+2qAgMxnM/CDR8twucUDmg0Pr57yjD+d0on/4AO0Hce1iwA9GDbBeF6kNAD5PZcp5Rjny8lwXracTjH62DQDeRrFezifaLZfNB6DMy+3rRh7RLrF+LlscIz6QZTPZV7ldIr+ctu8nbZ+3qbWB0smPkfr+qLW5z6uVxeuV+3ek7W3mbexlyyK9rv3pfTm3j7eNTOubmQclPv3kJz9pxu+2Oz8zCWh8/TzloKkrrz6m9R9vT/H9LG3jg/ebGi3LeUQf6SpHW7/Ox2+s52OC5xX9zfOQ3L9q6fep31JWaxOX14m+sVjHLfE+0HXu8LEsyuzjjpcti2197PE0PI9ot67zi9bpe52Rx1yVJddXZjIWipc/1s/l1ba18T/ve98unzfa9psfi9omrhlqvD9FuXye99s+/a1Wvyi35ns7e9mn5ePtrPnRDvn3vH1efy56BU1xVyleCKFJv2uKO0Q5aHrrrbfWSEsnMTXilVde2XyOBsoNF42t4OaOO+5o5unuy7HHHttsq7tNSldBjN/10qODG2+8cbn33nsnO/7QQw+d3EWK/Pfdd9/JPzm85ZZbmnl6xDDyevvttydpvvDCC2Xvvfcuu+222+RkGwdnPmB83rnnntt8vuCCC6r/u6qrbaINfIcvNdEmPiDOZDDLA4j4QaXlfuD5QJjTzfJ8PxiDH3ie9jSed05vWjt4XV2tLG2Dgs+vtZuvE2r7Qr97G+S6+UkmeHu4tuUz3VdaJz+qJt5etTZwvo1/rs1rq3ueX2tTX8f7XpdaX/L96elFm8ZYmduzll7exnlQ4tNCBE1DPp7Xp/94e0pb+7TpWr/t+O+zX73/qcyeT07H03Seh/g2nketDcdEbeLt7HIb6PfFPG75/gw+v5Z/rkOtr7RpGwf1ea7nlz5jWK0NfB/1ScfV2qy2bp7fVqc+5408Vnje03jZanl4OzlfXktD/Pzm9W0b84Ln43XNfSTWzWn5GDUXvYImUTAQd0Q0aZnu0kQBc9Ckn7pTpCBFj9dF9BoVjgbKDRfp+EGnbeLErkBp5513nqTnk9bRlPOSmJe/l+X1U8D0gx/8oLmbpDw22WSTZptcnlyWkOfpjpQevdtmm23K448/PlknU1pf/epXq23T1gZLVbRN3u/TBiE/OILP9wM+xPzagRPyQesHX17H90P0I59fo/TySVBlyge8+p73X01az7d13hZSG4jyutEOtXZrawOln+saaXmZc5vkema1fIOXMeuzr/L82Ee1aVrfiXGptk2tzX1eW93z/vRtgj5HPXM7+3qudkx5O3lfVjn12S8SYtuuvuk8KPFpIYKmmIZ4EUSf/uPt2dV/2yitWntK2/HfZ796mvrs9dAUf9BqGzeC5yFeDi9vV93GoNYmLq/j7RUWy7jV1ge8X9fyz/WcybjlZcjzvP6aIo+2MTaXrTYm+jqef20fzXQslJyOt1+W27ytTvm48vIGnx/He1v5Mt+fnlbbvJn2N9HnqG+tv0Waua268vH95cek1vN9XdsPs9E7aHrooYeax+L0PSA9Nhd3e6JAETTpkTUtU+BwySWXNI+1XXPNNWtUOBojN1yk44ORttG2qnBsp+87PfbYY83nPCloicEn77TaPK9f/L8l3cnSo3cPPvhgk4/viChLyPOiDrpI0GN6TvO62qatDZay3Jk1zXQwCz7fD/gQ87sOlHzQ+sGX12nbD7HP25ZLzt/rnQfDmmnLvS2kNhDldaMdau1Wa4PaPE+rpu0EUMs3dKXbZ1/l+W3tkNXK4se2t7F/rs1rq3ven75N0Gcvd4x3PnZl3rfE28n7ssqpzxr/PN1pfc95UBJTflwuTxobFUj5+n0CGl9/NtM0ffqPt2dX/22jdvc+GNr2QZ/96mm29ckwrb6eh3g5cv31u96K68fomHj9a/Lx3LZ+nj9tP0ht/w4xbrXl7f26ln+tf/QZt7wMeV7XcdTWn3PZamOir+P51/ZR23HYJafTVZ/c5m11yvl7eUNtfsxT+/v+ynx/dqUV82bT32K7qG+tv0WfiXSn5eP7y/thbjv9nt/UPVe9g6Z4NG6zzTZrHoXTnSeJykTQpML7wRINEPOigXLDRTp+AObGizs5Ktf9998/WSer5V+bl+tXy1vBn+qU5/mOrM3T4376rO9quVo5ctvUyrHU5c7tB4ZEndsGs+AHiR/w4unX1vH5nm7wg9B5XjWqg/LxQWLattOW19qorR4+v9Ymvk4t/VDbPtMyHxB9H9e0pdtnX6mckWfbOpnnVauvz/PPtXm5HFme79vU1nFdy9RX/ALB28D7ctRfyz1wmtb3nAclPi3knaY+0zTedjXenuJ9apqu9WO/+D7Q57hDFJ9r+zXr6jsyrb6eh9S20XrRp4a8QFmsam0d/BiqtZcslnGrLW+f7/lLrX+Err7nZQi1PDIt8zQjrdjO27+2jufvdW1LZxpPp60+eX5bO/U5b3h+Wde+ES9bLY88b9ry2ueQ61Irl8ofY14tDZ/n9a6lqbppvrbx8sxF76BJ9F0j3Y3J/7cpKhNB01133dWsozsquouiR+K0LAcL8X2heIOdXtaQ356XK65tclCi7yJpO73cQY8A6q6QXszwpS99qVmu9Twwqc3L9YtgTOt88YtfbE7wKosCxFye+P6RXiihO1P6DpWXTxcJ7373u5t5erOgtvnsZz/bvAhiWttEW3obLBW1Lz77IOefo/18MMttGvM8Hd+nmpfbLvax94V84eEHX/D5yjd/qbLPgKp1oty+npdVcvupzLmcnr8PeDEvpxntlterbed19X2UxbGU66PtVPb43dvc93FNbbvavtLnrn1c6yuiL5XGNrU28HlRZu9feR0fyKNP5HWifN6Xc7qiz1FmrZvbNy9zkZ7vj64TSq6Ht18s7+qbmQclPs0kaFJ+HgBmvv5splp7ZX36j7dvzPN2jDbTvNpx6X0g830QfWumQVOtXFo/f8m6llcsb6urz9M2qpOeQumq11jE/vB+Eu1dGwMW67gV69T6aN7O05HcB2czbnlfGer8ot9z3r6O51/r05FO37FQPJ1aef28Fn2p1mf8vNF1XZTbSXx8cL4/vU1q83wb72++fl4vyhn19W1y3abl4+1cq6vm6Q84Q9/5nlHQpJco6Ls48UIIiQpH0KSXL+gNdPGdIH1HSK/b9gNZL3aI7/ToDpZOaErHKx6NFY2plytoW715T/M1Ke+rr766WR4HnXdSn+f1e+SRR5pgSOupXHoNuJdH9Y836Glbvf7ZyyePPvroGq8VV/kUME1rm2hLb4OlItoiTz7IxgETy7VNPkCiDfKrSDXlAVBiG02xTq3dYj+3reMHXxZpa7keB83l0ZT3eRul4XnmZV1t5e1Z678+39P0wcsHI8ltEMeKT36xlpd5/bzNfR+38e1q6WpevBa2rY55EK6tUyuL98vof11tXjtBeDq53aS2jehz9HFvX+/7zuvjfdpPKL5+5Jfz8X7k7RU8KPFpJkGTytFVV19/NpPaZNojN9P6j0T75Hb1/ht10bZ5vegj08aPvA9i/Zns1+Dl8j4pvr9z2byu3r/yen7Mjp23W61tl8K4JV6X2nLPP/fBmYxbbWUQT8f7lPdnpeFl83bxdTz/tj4t3i7eBlktHS+v10e8vN6P+lwX9ckn8zbzNqnN83J6f/P1gz7nsuZ9rDJHP4pxZ1o+3s4+FuY0uvbXbLQGTTNVe1McMFNtB53zAx7j5wMl/p/aCWOheFAyl0nHfNdx7+vPZlJbretxY13ur/nEmFzHuDX/xt73+l4X4T9F0DTtj1MzNVjQBAyh7+Aw9kESa+Pio67vMTMf9A/DPTCZzaR09GhX176da17aXm009El0JtblvppP83WBMgaMW/Nv7NcDYx035tN8/XFqsKCJO00YQt/BYeyDJNbGxUe7eDRjoS9aX3vttbWCk9lMSmeauebVJ4/5pjErP6YyFv74Df4T49b8G/v1QN/rIvw/89legwVNwBD6dvaxD5JYGxcfi5O+6+kBykym+Ifjfcw2r5nkgf4iWJ+Pv+iOBePW/Bv79UDf6yKs/dKPoRE0AQDmRHdxZvr4nNafzd2fmealdQEAmCuCJgAAAADoMFjQxHeaAAAAAIzRYEETAAAAAIzRYEETd5oAAAAAjNFgQRMAAAAAjNFgQRN3mgAAAACM0WBBEwAAAACMEUETAAAAAHQgaAIAAACADoMFTXynCQAAAMAYDRY0LUavvvpqWb58edlxxx3Lk08+6YsBAAAAYKqpQdNPf/rTcuyxx5bNN9+8bLDBBmWjjTYqBx98cHn44YfXWG8x3mlS0PTxj3+87LHHHuWpp57yxQAAAAAwVWfQdPPNN5dNNtmkCZZ22WWXcvzxx5e99957Ejx95zvf8U3WmRdffLEp3yGHHNIESwAAAAAwhNag6bHHHivbbrtt2XLLLcs//dM/rbHskUceKTvvvHN597vfXX7yk58089b1naZVq1aVHXbYoRxwwAEETQAAAAAG0xo0rVixormjdNlll/mixvXXX98sP+uss5rPt956a/P5/PPPL5deemlZtmxZ83m//fYrjz766GS7t99+u9l2u+22a5YrKLvwwgvLm2++2SyPfP/kT/6k7Lrrrk06K1euLD/+8Y+bxwJ1h0vLtf0NN9zQBGuRd54UPK1evbr5qWBKQVXk/73vfa+5cxbrqoz/+I//OCljpHfeeec1ZYu6HHXUUeWll15q1lG+N9100yQdletzn/tceeONNybpAAAAAFj6WoOmww47rGy11VbNXaWaxx9/vLz3ve9tApn/+3//7yTQ+K//9b+WAw88sFx99dXl6KOPbubtvvvuTQCjQOOCCy4oG264YTnxxBPLjTfeWI477rjms4ITiaDJ73Bp+ac//ely3XXXlW9+85tNILTpppuW++67rzz99NPlW9/6VrONgphrr7223H333c0jezloivyV/l577VWuuuqqJjDaYostmm0feOCBJq+oi+p/6KGHliuvvLKpg+ade+65zTp33XVXEyh99KMfbcp0ySWXlCOPPJK7XAAAAMDItAZNfofGab7eShePw0WgcdBBB03utihIOfnkk5ugSEHGE088UbbffvtmXjzO98ILLzTfk9Kk3yNoijtY4a233lrjswIVraeARmqP5+lnrkfkv88++5Tnn39+ktYdd9zRlFEvvMh3rg4//PDJHTDd7dIdJwWJqt9FF13UrKPAK+qiu1jr+jFFAAAAAMNqDZoUHPS506Q7UgpobrnlliaIUNCT6WUSmq8g4/bbb29+r00R2ETQpMAl07KvfvWrZd999y1bb731ZLvIr0/QFPnrEUJPO28bQVOui6+jRw532mmnZj3d3brmmmvK66+/vka6AAAAAJa+1qBJj6EpINCjbjWanwOLWqAhuhOk+bozFOucc845TRCSJz2+pzs1taBJrwvX95u22Wab5jE4PXqnIGVdBk3y2muvlW9/+9vlfe97X7O+HkuM7zwBAAAAGIfWoElvxdPb8fy7RfKv//qvzdvzFMToLXsSd5ryI236qc/x3SPdtdLdq/333781uKgFTbUgJtabSdDUlv/f/d3flY033njy2GAtP0//V7/61RqP5X32s5+dPIYIAAAAYDxagybR2+HibXX6ztFJJ500+T9N+v9NevQuRKCh9fVCBL0IYvny5WsEUnqMT2+Y07x4EYPuQB1xxBHlzjvvbNKpBU0KRBSQ6G6T7jDp+076PlUObOK7Ucr/zDPPbB4H9LfnKcg57bTT1sg/XgShADAeRewTNOnFFHrRhd4EGC+meM973tP8M2AAAAAA49EZNMnDDz9cfvu3f3vyT271U581P4s7TXr07tRTT22CF02nnHJKefnllyfr6Xs/evRPd7AiyPrwhz88CVhqQZMCLj1SF2XQq7/1j3U9sNHjd/F9JwVuzz333BpBU6Sl16jHK8+Vv76/lV+L3ido+su//MtJGpr8teUAAAAAxmFq0NRXLdAAAAAAgKWOoAkAAAAAOhA0AQAAAECHwYKmtv/TBAAAAABL2WBBEwAAAACM0WBBU/zPIgAAAAAYk8GCJgAAAAAYo8GCJu40AQAAABijwYImAAAAABgjgiYAAAAA6EDQBAAAAAAdBgua+E4TAAAAgDEaLGgCAAAAgDEaLGjiThMAAACAMRosaAIAAACAMRosaOJOEwAAAIAxGixoAgAAAIAxImgCAAAAgA6tQdMrr7zCxMTExMTExMTExMS03k+tQdNM8Z0mAAAAAGM0WNAEAAAAAGM0WNDEnSYAAAAAYzRY0AQAAAAAYzRY0MSdJgAAAABjNFjQBAAAAABjRNAEAAAAAB0ImgAAAACgw2BBE99pAgAAADBGgwVNAAAAADBGgwVN3GkCAAAAMEaDBU0AAAAAMEaDBU3caQIAAAAwRoMFTQAAAAAwRgRNAAAAANCBoAkAAAAAOgwWNPGdJgAAAABjNFjQBAAAAABjNFjQxJ0mAAAAAGM0WNC0kF599dWyfPnysuOOO5Ynn3zSF8+rVatWlR122KEccMABTTnWZVnwn1auXFmWLVtWbr31Vl+0hmOOOaaZMDPq5+rzK1as8EVLymLa/+qrGks0psyHudZV5dtggw2a40rH11C8L/U9dheb+dh/agulOWR7Y/Gb636fj76YKf2hx4HFTmNnXOdhWHM9N61LrUFTnMh00sxT24G5kHea1Ik//vGPlz322KM89dRTvnhe1YKmdVWWxSbaxvvMQlwM9b3wWsoH67rkF7pL1WLa//N9oTOXus71Iq6L96W+x+5iMx/7bz7bHcNTHx7ifDfX/T4ffTEjaFp34rpqqZ97s7mcm9a1qUHTTjvtVE466aTJdMYZZ5QXX3zRV583yuv4448vhxxyyDrvvOJBU82PfvSj8qEPfahcfPHFvmjUom3ySSP+Wj2bE8l8WMoH67rkF7pL1bra/7WLmtq8Ic2lrvNZtrH0pfloo7lePGNhtF0HxHXTTI+7ue73+eiL6xONRb4vF4u5jOOL1VKu09SgaV1XrG1wWlf6lCcChaV+UTBTtaBJFtMBspjKspSM5UJ3Xe3/2kVNbd6Q5lLX+SzbWPrSfLTRXC+esTB0XLVdA7SdB7vMdb/PR19cnyzWoEn7c88995x1v1is5nJuWtdmHTTFbek8MPzLv/zLGttE8HDeeeeVCy+8cPK431FHHVVeeumlyXZvv/12uf7665vvBWn5Rhtt1KRx0003rXXrWx179erVzc88SCiN733ve2WXXXaZrLvffvuVf/zHf5zk06c8r7/+erNsu+22m5TliCOOKM8880yz3IOmuACIsqjcXuZzzz237LvvvmWbbbYpjz/++KQ8TzzxRNl+++3LQQcd1OS71LWdLPKAFIP7FVdcMdmfMVD5ow6579UOsnzxVTvpRHlyerV08j7zRxDiOIjlXQNrTj/WV9minHle5vXOy6Ne0W6+Tq3eMu0k6v3U95nX++yzz+5sa/E8u/KIdfUz5+PliGM2ptz+Xkbfr333f+b9M+eZ91OtH7T1I2+HaKO+beD18D5aW6dWV2/Ltnbw8vY9RmPbmLTc+7p40OT9qW+7TNv/uay1Y0r7WNvP9jjx/i45T6WtPPxY6Sp3lO3uu+9eY8zI60T7xTGZy9VVXgzD+2tNPufF+tFfuvqkftb6lafpYpsHH3ywNQ/x49eXt/WfWpl8PGkrm/g50PtmHhNyGT1P8TrUjkm/vvBjLubXyhXLfPyM9Gvrev762TZ2tZWlRtv58q7t+7Zj1C3Xp3Ze8bxqY1VXv5Y+56YufcbE4H3D1+lb7y6DBU36TlNb0LTVVluVQw89tFx55ZVl9913b+YpkJC33nqrnHzyyc08Lbv88svLJZdcUk444YTy6KOPlm9961tlyy23bIKha6+9tmk4PbKnxouOoLwvuOCCJo299tqrXHXVVU1gtMUWWzTbPvDAA73Lo/SU9vnnn19uvPHGctxxxzXLjzzyyKas0QH8oIuy3H///eX0009vtlEwpjQeeeSRJn3Nu+666yZtqEBxww03bH6OQbRNHiAkHyCxD7xf6XM+sKNdo53jwPRBO+b5iSzKkg/g6LM5bz94Y7BTOl4flUMXKm0DnNLJx0Q+MPO8fJAqj3POOWeSRhx3sX58znXPaeRBMvN6ZdpOJ5XgZfIySNRN+dTy9HnT8oi2yQO+ts311Oe8TW5/39+Rf9S57/533j/zgO/zctre3rX61vrvtDaIfZHziu1i/9TK43X19vJ+52rlnXaMxjq5bDW1vpLL1rddpu3/XL/aMZXTr+nTh72/5s+xX/zY6ip3lM3HCG0T68Q2eZ3Ytqu8GIbv95q8TuzTvI3vm9wvYn/nY8iPGRfHjB8jeezwYyKWRz5aLx8Tmh/LvM5dY7Pz/itetqhfnGOCjzleRq9DtIOP8aq3j1t5HU9XfEz3Osc6vl+7xi7ft13tJkrf93lXXfq2Y4zTXfXLfVI8rz79Ouqby6LfPe8ukU8t3ZyG1zHKm/dFn3pPMzVoUgZ5isyi4vnAbguaDj/88PLmm2+uke7BBx9c3njjjXLfffeVTTfdtBx44IFr3H0K0Ti54tEY0UBxx2afffYpzz///GTbO+64owlKjj322Caw6lMerae7VuGFF14oe++9d9ltt93Kc889t1Z5vCwS+eSO8tBDDzUB3GGHHdYEX5r0+6677lqeffbZyXpLmQ8I4h3SDyrxg7M2v5Z2HtQ8jdogWNtGt75jv0nsT23vaU6T0xYfZPI8HwiDL4/+mevt62hZrqvqM5Nb+t62Xg/xPL19p7WV51HrB3kdX9+pfN6GWjeOQy9fqNUty2kEpVWbF+lP60dSS3daG0hbefP8PnWt5d/F12/bvz5f+dXKknnbeBp926Vr/zvPz4+pPrwMOT9fFrxu08rdVra8Tm1cqWkrE+ZG7Tmtj+cxobZPpx0Dmp/3b06vpnbMSNvYIF6GtrFG+vT1Nm1lyPPb+nTOS7/Xzms+ztXawXmZ/LPkdNvq7PNr+ed1fD93iTbxPN1M21Fq43StP8x0rPI0au0qXX3N1fIRL0utXX1+n3pPMzVo8hdB6C6OKIMcNHXdacqFiZ0XBdfdHq2T78Bkvr5EJaPBbr/99iYN3R3q2rZPeRQw/eAHP2juEu28885lk002abaJvHx9L4vU8lGQpLtV8YieJv2uu2wL+ebB+RRtk4Ps3C6SO3qe5x1Zom2jj6k98yCWB9DawVE7CHyAzWXNUx449LnPAe4DQe1grM2rtVss93rV0vC2aGvPLI7vnKe28zYP0/LM+ya05SG1fhDtoGXatu0iIcri+0xTpNln/9fUylUb+PO8Pv2olm5tXm6Dtn0heR/3qWtus9q6zsvW1qe8jNPaV7wveR/3vKXWLt7Wef/nbXxfeH5d+vbhtv6a8+pT7ray1dKp7ceu8mIYtf7pvG/4PvV96Ot4f6qNr1lbmXy+HxN+XKjv+EW/p+Nlm6ZtfMrpeHuEPL/Wt2PK5/RaO0icy2PK41ltjM9jWVedc/1q+Ueb5zEyl7mNj61ZW136tGNsX8s/5s92rKrl42WJ+bX8a2r5+Py5np/a5tdMDZraElJDqAHzDp1N0BTp3HzzzZN1Ml9foiFi5w0ZNOn7TLo7pQBHj9bpGWF9Nyry8vW9LFLLR+LOlwJETbrDpjttY+GDQ01tUOnb4fPA5dv4gdXnYPU02uQBpO14ED/wfACpzfPjyJd7vWrrSK6vfu/aB1qeT4x5v3mbh648a9t05SG1fpDX6TpJ1fJzffZ/Ta1cSsf7SZ7Xpx/V0q3N67MvJOc5k7pG+rXxKfOytdXRy1jL03lf8j7ueUvfdgl+XHXl12Ymfbitv+a8+pS7rWy1dHz/TSsvhtG2j7I8PtTW933o6+S+ot/19uCu/GrHjM/3Y8LLkLfRerkv9enrbdrGp5xOW1ny/D751tpB2/m1rI/p/lnyWNaVd65fLf/acRj16rqmqI0X0+rSpx2lbZyO+bW8nfdZqeXjZYn5tfxravn4fJXT9594PdrybZtfM+ugSUGOdvhZZ53VfNbdEs1TUBDbxMGXGy06UFTwrrvuarbJj8xlvr5EQ0Tn1HeG9D2l/ffff41H/P7u7/6ubLzxxpO7OdPKU3vBxNNPP928oCLmeXm8LFLLR/R4nx7z0wCof4g7lhdAhNrg4GqDSp+DQvIB4Aejr6vlfhDF9tE/fZtpamXP/MDzAcTnTVsutTL6OrGe+tXPfvazZllbGWv7KM/zNvJ1cp4xUOl7hvmEMi2P2NbbMq/j6ztva9dn/9fUypVPSrV5tX3kaunW5nm92+qZ58+mrrU6ZV62tjr6/LbyZt5/PQ3PW/q2i3j60pVfjedXm5fLqbR0vvT+qs/54rOr3NJWtry/avXzsrXNwzC69qO3e22f+j6sraPtlYfmTfuXK7VjRqKcnp/U5rUty+l7/aZpG2um9WnJ7dIn31o71PL3ef5Z8j5uy9vn1/L3dbLa+iHaJG9XK+dM21Fq/dfLWVsn8zTF89f2Xt5YpyvtrJaP5Hq3rePza3Xyek8z66ApvqOz+eabl69+9avlK1/5SvPihRw5qxAePEQBo7IKGj7xiU8068VLHHTHSC+C0PL4TpHeYnfmmWeWiy66aK3gRgHRaaedtkYa8SIIPQKnoKpPeRTU6LtNWueLX/xiczdI8zfbbLNJXl7+6AC54997771NsKZ5X//619d40YNeCKEgUXlcdtllk/lj0KfztQ0S6jN5ftuBpe01X1NOww+O6L95X+v33D8jDz+o44uWSsO/WF0re/AD0geQ2jzfJsoYy71etTRink6s+lKpt1lW21br579AxnGS92OsU8tTk8/vk4e3pfcfbZ8vOJVufGm2Vsa8v/rs/5paubSd95E8b1o/ktp+rOXlbVCrh5bldqmt43XVNrmtanXKamXrc4x6f67x/uFtU8vb22Xa/vdyTDumnJdRpvVhb58os//FvqvcsS9zOr5/a2WrzfPyatm0fYN+Yt/6MRT7Krdzrb/5/qqtozy0jv7om/drTfSrXB7va35MxBgRaddeMBDLvK9rftvY7KKtvE3yHxkiv1ze2rjqx5jo2OkaO3xe5O1t5dvV2ivXOdaZlk4eu/Kx3rZ+pvTzvvf1vS4zaUc/n3vbev8RH6u8z3q/8bFLot9F2yq//Ki/izRq9e4qf5Ql78M+9Z42Ts46aFKgcsMNN5Stt966KYQeYdPb7fI20ei5gNGB8g587bXXmn+aqyBM6ysQ+/KXv9x8D0j0+F3ko8fmFNxo+1xR3aVSEJJfFa4ASG/gC33KowBLgZfWU56qY87L148d42VRgKcyaLr66qsn+UWwqRdX6AUWY5IHhzZ+0GfRoWOqnSgiD++XtQM4+nBOzwfCPMh4vr59W7lDW9q5Hj4v6hN55Fd7S61enkbQZx/Ua7xe8VrkvN/iWInpu9/97ozynJZHrR/U+k8MsL5vxMvo6XkZavvf1cql7fJ4VZvX1Y9C9O9Iv5ZXrQ28Hr5NbR2vq7eV18fVyibTjtFp7Svef72P1/KutYvXKW/jx1VXfm28Tfv04dw+sa7n1VXuKJvy8v0ZvP1CV3ljm9x+mDs/HtrGQu8Dvg9r64jS9z5WE/1M+zyXJ+9vPyb8XON18bHWy9E1NjvP29sp2iO/Rl9TbZzycubxplZO3ybnUxu/Y35tLPM6+/Ja/nns8mPU13V+npGuuvRtx6ibj1delj5jVW0/5r7gda6dm7x8WZ8xMXjf8HWm1bvPONkaNGF+RNA0phdAYHGoDbAA1p3ahcW6oIsCjQ1+UYTFrXbhPka1i23MfPzo246LqV+prF3lnWkbdJlW7z7j5GBBEwFAP+ocuvuk73IBQ+k7WAJYOIvlDxm64NAf6rB05DsUY8f5q920C/2sbzvOJM35pnGpKyBayKCpzzg5WNCEbtdcc035/Oc/37zCXP83qvbSC2C2ao8FAFg4fvKPR1vWh4teDG+xBNwLoe/F/vooguc+bdO3HacFD4vJQgZNfQwWNHGnqZt2lE6g+v9PtX/iC8xGDKj+jDiAhaULlfw8PQETZkPjuMbz9emPYH0v9tGtbzsOETwslNEGTQAAAAAwRoMFTdxpAgAAADBGgwVNAAAAADBGBE0AAAAA0IGgCQAAAAA6DBY08Z0mAAAAAGM0WNAEAAAAAGM0WNDEnSYAAAAAYzRY0AQAAAAAYzRY0MSdJgAAAABjNFjQBKxLr776ajnggAPKMccc44tGZeXKlWXZsmVlgw02KLfeeqsvXi+o3moDtcVszHV7AKjR2LLDDjuUVatWTT4z1gDjQdCEwehEoROGLujztBCBzPoQNEX7rq/BUpjrhchctweAmvkKmuKPZev72A+sa4MFTTyeh7Fe1K9YsaIJyBSYrUs6cap953oCXldm045+ETJTs8lzocy1bgAWl/k8puczbQD9DBY0AQRN84ugaeZmk+dCmWvdACwu83lMx9MUGtMArBuDBU3caUKfoMkf4fNHF7StX+R6unFiuuKKK5o0tP7q1avXOqF4XjndOAGdffbZzc/ad4RinfyoYaShxwBj0vzIVz/z+rk8EfRE+WvrSKQZk9b3dPOJWctrZQxd7ZXrH3l5u3m7dMnfufK8amX0vHK9vB1imV+Y+H5S/vfcc09rnr69tLVhLe2ZBK25DnnbtrqJt8lM8wQwv3y8iMfCfWzxz7Vt83jt46c/br6Y/wgErA8GC5oAD25cnBBykBAnkNhGP/2k4OnGNvmE4n+F821E6/vFcJ8L0tqJKi56c/rK85xzzpl89ufQ47OfVHMZPC8tz9tr21xere91UNk8j7b28rz9Il3z/KTfxttceSgoi7p43USBnJfd6+/5+7wIXkNOs5anb+9tmMvdlfY0vq3vay+H1I6RmeQJYH75OJzHfT+m/XPXWOPpxhjtY4iPGQAWzmBBE3eaEBfN+a9oObDwi8iQ52tdv8j1i3G/+JQ4wcTFpn56XvmkVDshtaldePvFfY2XKS6Iox61ddraSPyk6u0SfH6f9srb1eZ5HjVePldrR+cXBf7Z59XqkdXyzNt31W9a2l3UBnvuueca5fb0anXr2v8A1r3acdu2rO9YIzrufazx9KaNsQDm12BBE9B1UogLxtoyzYsL2/x78HT9RCJ+QaoTkAdv+S6Kr9+lduHddnEbZc155qDJT3hejgisPMiJZXn72oV5yCfgPu0l3s5t87pEu9faptaOMT+3V9tFR/B5+uzbhVqeefuuNpSutLvEdrWpbb90HSMAFoc4TvOxHPyY7jvW5DR9yunpp9LwcwOAhUHQhMF0XWB3XRBq3nwETX5Cy3z9LrUL71rQFBf/UU7Pw4Oe2johLrpz8OTbd52E11XQJPkCILeRt2Okned5Wf1z2zyJ9s/LPE/peyGT1dLuUuvHzuvRdYwAWFxi/Or6Q0jfsabvsa9tCZqAdYegCYOZdoFdCzR8vp90RCeI/FhbbR0PAmoXy5mv36WWltellp7P86Cntk7my3z7tvb2+X3aq7Zd27y+PF9vR19em+ef2+YFL6/nKXl7X7/LTNb1fVVTq4f3KwCLWx5j/JieyVjT59jvM64AmD+DBU18pwnTTgoR/OQLda2b76ZEGrFOXNznOzh+Ysrr5QDD89L68YVdX79LLb/aCc7nKe38V8jaCc/LofJFPr6str2W+aN8KsO04MTTltr+83la3+sdVAa9tCB4vv7Z6xN5da3j6age+WUTXl7PszbP2zDS1Fv/2tKO9mvr67HcA7a8f2t1q/XbeBGE5nldACwsHfP5uO8bNMW6tbEmts3nOZk2pgJYWIMFTYBfsNbERWHtee0QJ494PC1OFF0XwrUgwPPyk5Wv3ybWVRpxcvQASaL+kV+8zrsr6PFyKM3YPgdcbduL1snbeLn6tldt/80kUPD2bsszt2Muu9bXBYJvF20S83N9cpox5fLV8qy1h7ehPnelrbq2PWoTatt7f/O6ibdjbisvN4CFlc9P+fiMZfkY9c9SG2va0q5tm/MDsLAGC5q40wSMm07eOmFz0f7/Lm48OAWA+VL7QxeAhTVY0ARg3HQH5OSTT/bZ6yVduLTdcQOAodXuWgFYWIMFTdxpAgAAGFY8sssfaoB1a7CgCQAAAADGiKAJAAAAADoQNAEAAABAh8GCJr7TBAAAAGCMBguaAAAAAGCMBguauNMEAAAAYIwGC5oAAAAAYIwGC5q40wQAAABgjAYLmgAAAABgjAiaAAAAAKADQRMAAAAAdBgsaOI7TQAAAADGaLCgCQAAAADGaLCgiTtNAAAAAMZosKAJAAAAAMaoNWh65ZVXZjS9/PLLa81jYmJiYmJiYmJiYmJa6lNr0AQAAAAA6LjTBAAAAAAgaAIAAACAToMFTbw9DwAAAMAYDRY0AQAAAMAYDRY0cacJAAAAwBgNFjQBAAAAwBgNFjRxpwkAAADAGA0WNAEAAADAGBE0AQAAAEAHgiYAAAAA6DBY0MR3mgAAAACM0WBBEwAAAACM0WBBE3eaAAAAAIzRYEETAAAAAIzRYEETd5oAAAAAjNFgQRMAAAAAjBFBEwAAAAB0IGgCAAAAgA6DBU18pwkAAADAGA0WNM3UihUrygYbbFBuvfVWXzTx6quvluXLl5cdd9yxPPnkk74Y6yH1iQMOOKAcc8wxvggAgHVK5yado3Sumq2VK1eWZcuWdV4fzZbS3GGHHcqqVat80Sio/buuD7z+Q+wvrD9ag6Y4aBXYHHTQQeX111/3Vcobb7zRLNM6CmxmchD2DZo+/vGPlz322KM89dRTvhiLjPa/BqO2AdkHq9kgaBpW7DMdj32p7XXs+jSTNBYr9VGNexr/AKCm68J8iIvwxRA0aTzvs95i07VvxOs/xP5y87n/sG71Cpo23XTTct999/kqzTwtGyJoevHFF8vxxx9fDjnkkEE7LxZOXIBrv9YGLR+spon0GHhmZibtNu0EU1PbZlrAvJRobBr6JApgPGpj4HyayZg+TZ/zsK7/tM5C/fGoT5n6mrZvZptX/MG27x8HZ5sPFrepQZN2un6eddZZvko55ZRTyjvf+c6y/fbbzzloikGBi5WlK/bh2WefXf0ry0wHkSFPFOuTvu2m9fbcc88ZnxjbTkpjuQvYt/0ArJ/axsD5MuSY1Oc8rOuzhaxfnzL1NW3fzDavmQZNM10fS8PUoOmwww5rHsHbddddy7PPPjtZrt817+ijjy7777//JGh65plnmt89+FEnzo+95KBJkz/qo+1Xr17d/JxNB8fCywN77dZ+bbBSv8j7PU4KtT6heXkgavtrmOcTfc3zaNNWptqJxMsQeT/44IPNz0gjD5yxzd13393UJdbxtMXL7uvECSLK/Pu///trrN9VX83Px2lu29wGtWPZyxG87V30kUjb1/X65P18xRVXTP6Qo2260qqV0U9i3sfy+rXtAUC6xoe8LMYc/SExj/Uae3z8yuN0Pq/4OJXX9TR8rJY8lsc46uNuFmXO5YlxXT/jCSQvs/j5Ki+PdGNZXA/m8kUZo2z5iSdN3uZe/3z+aOPnKF/f21vLvBya+pxHtE5tn2Dpmho0qQNcf/31ZcMNN2x+Bv3+jne8o9x5551Np5hL0PT000+Xb33rW2XLLbcsu+yyS7n22mubC0o9skfQtHTEAKZ9Wrvr4IOV+oIG8Lw895GcXsgXvn4R7MvFB63o1z7YB19f68W6fYOmtoE/yhSfa3XN6ev3nE7ULZcvTji5PrV2q9G2tbbL6UVaeT0/yWTeHk77Oy9TOtPqE+3lY0pXWt7XJJfNy6n1zjnnnMm63g8AIHSNgXlZjKm1ax+f5+cMH598TK/Nq42ntfOfj42Z1tETCHl5nNdyWl5mHzMjryift1kev6eN1xJtGWnUzk3Rtm37RjyvXC7PM58X/Npi2vrieWHp6xU0xV2leCGEJv2uKe4GzSVokjgA8nbRSel0S4MP4j5oThtAfHv/LD5w1QbqGMS0fe3xMx+8s65lfYOm3M9DLqe3S8jt4+kGn+8nRam1m4t2rLWt19HbuKuN2tq8jfeJWn3a2svltGr1y/vP83XTlgNYf3WNgXmZn68kxufavHzuzOO8L5dp5yNPI0wb27Tcx+DaeS2XqW3cj7aotUNWK5O28/Xzen5eCl37RjyvvL4vy2p16Fpf2vYBlq5eQZOce+65kxdCaNIy3W2KjrRQQVNsV7sVinWrbWCP/VcbYKKf5X3qfSKn5wOXD9b5RFJLe1q/iW38BCHTTlJSq6PP921Cnl87cYkHA7UTRK3dnKeT5/mJyk9OtTxDW90yP4Zze9XS7kqzK628v7y+8VnbeH1FeflfWwFAauNUyMtqY2ptfPZ5Pub5clEefl7TFOeutnNI2zkq1LarbZPLFOdNL4umaAut52N08PTz+OxTrKd0a2N3174Rz6u2v5SPp13bl13ri/KoBZNYunoHTQ899FDz+NyZZ55ZTj755Ml3nKLTLFTQ9Mgjj5Qbb7xxMt1///2TPLBu1Qb22Ifa/7XBKvcJ394/5/TyABWDp18Yz+XCNwZ477M+GPvJzesY8nzfJuT5tROXeB1rJ4hauzlPJ8/zwX8mQVNbuaV2jHt71dKutVeftPL+1++1N3NGOn7Sm0vfATButXEq1C7C5yto8rE6axuLfZx0te1q2+QyzWS8jGu/nJ6nXzs/ubb6d+0b8bxq69fOC7V92bV+zCdoGpfeQdNbb71VjjzyyLLZZpuVjTfeuLnzJNGRImh65ZVXykc+8pGyzTbblMcff3yNdfwCdDZBExav2sAu0Zf0ZdgYWGvr+jz/LLWBKwZ5fQ8uD9y17WfC8/LgQZR27tc+IIc8MPsJMeT029bx+V0Dfle9ayclr2/wetfylGn51trG59XS9jqLb9c2T2lpvurg9cq8jrW0AEBq41TIy2pjam2c9Hk+5vly8THL+bkpaLuusU3bebq18TCXqVa+Lr5+Lf2uNhYt83JGe3dt53l15ZPbuLYvne8T349Y+noHTXLHHXc0L4TI/7cpOlIETf/xH/9RvvCFLzQB0W/91m+Vq666qixfvrzZritoeuGFF8ree+9dNtpoo+Zu1kUXXcTb85YYHwiz2N+xL2sDkPpa7hO1ddrm6S6CJh/QlKb3H3+BQKYvcca6nlccE1G+qK8HTaqDX4DnekU6uVwxz9sjr1M7IdQGfC93G23n7Vjbzk8EtTyjjr5t5ieQaL9pJzDfrjavlpaoXNE38vaan/up19E/A0CojVMhL6uNqbXzpM/z8a2WTu2coXT8xQV5HKude5zW8btGHmiIl9nPVxLnWuWvP5pGOXxbr6/4eTPWi5dH1eqv37VN274Rr0veX9POC77fp63veWHpm1HQ9NJLL5V999138kIIiQMz/58mPbZ3+OGHTx5vuvDCC8tnPvOZzqBJbr/99rL11ls383VX67nnnmvSptMtDT4QZtFP8r6MPqb9rSlehZq3j4Ez+krt5CH6XPurmqgPRxrTBlRft5ZPLIuy5sE+PqsuOR0f+GOdXH/PS6aVxwfx4O1W4wN8V9v6iSOXKdqizzHq7eevv63Vp3ZClWlpSfRJTzO3jyYPkGrlAACpjYFx/sljR21MrZ0nfV5tzKuN6X4O9XNg5J/Hue9+97trjZOZl0XivFYbW/N63i7eDnmZn5di25yPj9NeBq+/2nna2O11yet7fn5eyPkpr2nr+7kTS19r0ARg5nxArqmdENeFxVKO+VQ7sU8zm20AYCymBR6YrhYwY+kjaAIGtJSCJhn7ybHP/nD8dRDA+mwxnaOWqtmce7D4ETQBA+ozUC6mE1LcVRnjX8Nm85c+7T9/xAUA1jcaN6edy1AXj/HxtML4DBY06QUQwPpuqQVNYxXfdxrzXTQAALBwBguaAAAAAGCMBguauNMEAAAAYIwGC5oAAAAAYIwGC5q40wQAAABgjAYLmgAAAABgjAiaAAAAAKADQRMAAAAAdBgsaOI7TQAAAADGaLCgCQAAAADGaLCgiTtNAAAAAMZosKAJAAAAAMZoRkHTq6++Wg444ICyww47lFWrVpVXXnmlfOxjHys77bRT+fd//3dffVG55ZZbysYbb1zOO+88XzTvVqxYUTbYYINy6623+iIAAAAAi9ycg6aPf/zjZY899ihPPfWUr76oKGBZtmxZufjii33RvCNoAgAAAJauOQVN6IegCQAAAFi6CJoWAEETAAAAsHR1Bk0PPvhg2WeffZoL/i233LJcdtllZf/991/j8bwIon7xi19Mgqodd9yx3HbbbWXXXXdttv3gBz9YHnnkkfL3f//3k3n6+aMf/WiS19tvv12uv/76st12203yu/DCC8ubb77ZLFfAofn6TpLm61E7fT7qqKPKSy+91Kzz2muvlTPOOKPZNtK44YYb1theAUzQI4Unnnhi2WSTTSbra3ulIzlIvPvuu8t+++3XrLf11luX22+/fZLOj3/843LwwQeXjTbaqFmuOijfeKMgQRMAAACwdLUGTT/5yU/Ku9/97iagOOWUU8oll1zSBEMbbrhhNWjS5wgytI4CpW984xvld37nd5qAQdu+//3vLxdddFE57rjjmnn77rtvE/AouLjgggua7RTE3Hjjjc06+qwASSLo2Wqrrcqhhx5arrzyyrL77rs3884999wmjVNPPbUJXE4++eQmDf2M7zB50PTkk0+WD3zgA5P6XXfddWX58uXNOieddFITrEV9lKbKr7IrTX3efvvtyxNPPNGkpTJ++tOfbtL45je/2bTHpptuWu67775mOUETAAAAsHS1Bk1nnXVWc6F/7bXXTuY99thjZdttt60GTflOk95Spzsz8sILL5S99967SUt3kiTWUwCkO1AKPhSEKCCJuzOxnSb9HkHP4YcfPrn7tHLlyuaOk+7yPP/88+XAAw9s7gIpzfDWW281Pz1oUqDl9Xv99dfLQQcd1KSptKOcCoDuueeeZh2V79hjj20CurvuumuNPIKCJ6WtwE4ImgAAAIClqzVoUgCiQCa/Fc+/09R2p0l3ZeI7TzFvm222KY8//vgkrWOOOWYSnOhRNwUVtSnS9qBHNF/Llb7yueaaa5q7QJoUSN1///2TICxvr8fvavWTHOB4fWvriJZ99atfbe6cKWiLskdZfX0AAAAAS0dr0FQLFjyIaLvTVAuaPK0cNEVAc8455zTr5Gn16tXN9536BE3y85//vJx22mmT7zzpsT8FTvMVNGl7fT9LQaEeYdQdNgVvBE0AAADAOLQGTSeccELzCNodd9wxmffQQw81L0uoBU36PNugSY/T6VE9vWQiXurgpgVNKsuvfvWryTIFcbvsskvZbbfdynPPPbfW9voek+oXL4oQPfan70upjqprW9lzEOTp5uUETQAAAMDS1xo06fs6esxNgc1XvvKV5i6KghAFN0MHTfpO0Oc+97kmsNhrr73KVVdd1Xwv6Igjjih33nlns34tOMlBk+5IffKTn2zerqeXQJx55plN+RUEvfHGG2ttr0BNd4f8RRAKpHSnSnen2sqegyC1k7bR3SbdYdJ3wVR/giYAAABgHFqDJgUNugsT39FRUKDXiLc9njeXoEn0Ega9nCFeF66A58Mf/vDkpQ4e9EgOmnQ36Y//+I8nrw/XT72J75lnnmnd/tFHH13rVeF6rXq8aKKt7DkI0rrnn3/+JF+9Av073/kOQRMAAAAwEq1B00zFCxcAAAAAYEwGC5oAAAAAYIwGC5q40wQAAABgjAYLmgAAAABgjAYLmrjTBAAAAGCMBguaAAAAAGCMCJoAAAAAoANBEwAAAAB0GCxo4jtNAAAAAMZosKAJAAAAAMZosKCJO00AAAAAxmiwoAkAAAAAxmiwoIk7TQAAAADGaLCgCQAAAADGiKAJAAAAADoQNAEAAABAh8GCJr7TBAAAAGCMBguaFrMXX3yxHH/88eWQQw4pr776qi8GAAAAgFaDBU2L+U7TqlWryg477FAOOOAAgiYAAAAAM9IaNL322mvljDPOKFtuuWXZYIMNmp833HBDs+yYY44py5YtK//yL/8yWf/WW29t1luxYsUan88///xy2WWXNevr83777VceffTRZh0FMApkFND80z/9U9l///2bdbTuhRdeWN58881J+k899VQ58cQTyyabbDIpj8qnckoERvvuu2/5/Oc/XzbaaKOmnFGOPBE8AQAAAOirNWg69dRTm8DjlFNOKTfeeGPz8+KLL26W1YKmW265pRo07bTTTmX58uXl6quvLkcffXQzb/fddy+rV6+eBE2bbrpp+cAHPlC+8pWvlEsuuaQJfrTeFVdc0aT15JNPNssVMKkc1113XZOm1jnppJOa4CqCJs074YQTyuuvv95s+/TTT5dvfetbTZC1yy67lGuvvbbcfffd5a233pqUHQAAAADatAZNBx54YNl6663LI488MpkXgUYtaGq703TQQQdNAhg9wnfyySeXDTfcsNx1112ToEmf77jjjklaDz30UBPkHHzwweWNN94o5557bpOWAp6gNJW2yrFy5cpJ0LTNNtuUxx9/fLKe8HgeAAAAgNlqDZquueaa5k6TJgUv999//+R7SzMJmuJzuPnmm5v5F1100RqP5ymwCa+88kr5yEc+UnbeeefyxBNPNAHc9ttv3zyilyltpaW8ugKjrmUAAAAA0KU1aJKf//zn5bTTTpt8H+mCCy5oAqe5BE1XXnllM1+P2LUFTc8991zZbbfdyt57711+8YtfEDQBAAAAWGdag6Zf/epXk98VuOj7QApkFNDo5Q4R+IQIYDxoOvzwwycvdNBPfdZ3mO677741vtN0zz33TNLS75p35JFHNo8E6ntMeoQvXkQRaR166KHNY3x6nK8rMOpaBgAAAABdWoOmT37yk+W8885rXgJx5plnNo/pKUjRd4z0/SMFMe9973vLn//5nzffU9pss82qQZO2U/CjF0HEyxsikIqgSfN0J0kvgVCeW2yxxRqBlL5Xpe8q+YsgVAbdCdPdr67A6IUXXmjuWqksqks8GggAAAAA07QGTX/8x388eb23fup1388880yzTAGPXgn+jne8YxIExWN3HjSdc845kzfxxdv4Xn755Wad/Hje9ddfX3bddddmG/384Q9/uMb/ftJryvXdKqWhdbbbbrvmVeZxF6sraJLbb7+9ebGFtlUQp+APAAAAAKZpDZrmqu07TVnbd5oAAAAAYLEYLGjKd4WEoAkAAADAGAwWNDmCJgAAAABjQNAEAAAAAB3mLWgCAAAAgDEYLGjy7zQBAAAAwBgMFjQBAAAAwBgNFjRxpwkAAADAGA0WNAEAAADAGA0WNHGnCQAAAMAYDRY0AQAAAMAYETQBAAAAQAeCJgAAAADoMFjQxHeaAAAAAIzRYEETAAAAAIzRYEETd5oAAAAAjNFgQRMAAAAAjNFgQRN3mgAAAACMUWvQ9MorrzAxMTExMTExMTExMa33U2vQBAAAAADouNMEAAAAABgwaOI7TQAAAADGaLCgCQAAAADGaLCgiTtNAAAAAMZosKAJAAAAAMZosKCJO00AAAAAxmiwoAkAAAAAxoigCQAAAAA6EDQBAAAAQIfBgia+0wQAAABgjAYLmgAAAABgjAYLmrjTBAAAAGCMBguaAAAAAGCMBguauNMEAAAAYIwGC5oAAAAAYIwImgAAAACgA0ETAAAAAHQYLGjiO00AAAAAxmiwoGmhrFq1quywww7lgAMOKK+++qovnndPPfVU2XXXXcv+++9fXnrpJV8MrOWYY45pJqzt1ltvLcuWLSsrV670RXOi9DRODJ3uuqKxTmPeihUrms+ql9pN7QcA6yONfxrndV0ILITWoClOyhtssMFk2nLLLcuFF15Y3nzzTV99we40LYagaY899igf//jH10n+i13sn9xv1veAoW/QpHXWVb9eVwia+lnfg6b56ifAbGis1rmtdvzFObC2DMMiaMJCmxo06Y7KjTfeWM4///zJxbACp3VlIYOmH/3oR+VDH/pQufjii30RKmoXctpf55xzzhrrLQVDDsZ9gqYh8wu6wF6I46Sv+ahjm7EHTUNbCn1lsZUR668ImryPymyDpvWlf9eO7dkaMi2gj6lBU77Y+9nPfla23nrrcuCBB5bXXnttjfXHeKdJB6QGxvm6UBkbtdO04GCpGHIw7hM0afnQ/WyxnYSHbNNpCJpmZin0ldlejAJD03h9yCGHNMeMj+2z7aeL7RicL7Vje7aGTAvoY0ZBkx5N23777cthhx1W3nrrrfLKK680B7nmnX322c36+qz5r7/+ern00kvLdttt1wQeG220UTn44IPLo48+Oknvxz/+cTNPy7SO1r3hhhsmAZh+3n777eV973tfs3zHHXcs3/nOd9YKmt5+++1y/fXXN8sjL5X7jTfemJrHM888U0488cSyySabTJbff//9k78k5UmDmgdt+fNtt93WfN9J6+qn7lQFtceZZ545yUeP91155ZWjCspUj64BTPP33HPPtS5kc1CRLw41Rdt7urFNBLaaao/vxP5pWycurq+44opmmX4//PDD19jvOe84LmJZ2wkzL58WNNXaxdPJZYg28pNynHRXr17d/Mx1yMeLpz2tTXL+ub19n3i6ebkfTzm9ael4+bJcHk3RzlGHSD+W+7Hm5cptGts++OCDnWl4eftc+HTlK97PNL7moMmDwtofLHyd6DeRptK/5557WvtK1F/9wJflY7NW31w/339xPLQd3942vszrCSy06IdxnObjN8aDPM+PPU2xvLasdkzV1o1ja9o5IdKKcnedN/uOe16WXKe8PMYuLf/v//2/r7F+Prb7jKN5bIixKacBzLfeQZPuLOkxq4033rjcddddzbwImtSBf+u3fqv88pe/bObrO08KRDR/+fLl5brrriunnHJKEzB84AMfKE8++WSznh7z+/SnP90s/+Y3v9l0/k033bTcd999zXLlo2Bniy22KOedd14zbbXVVmscUAreTj755Gbe7rvvXi6//PJyySWXlBNOOKFZ3pWHAplPfOITTT2/8pWvNIHXkUceWX7wgx80gdPpp5/epHvUUUc1jyg+8sgjkwM78o/Pm222WfngBz/Y5K80tN2+++7bvCxCAdqpp57azNtrr72aYOnoo48uv/Zrv9bM88FoqYpB0gfhoLby4EDyhVAeiHO7aLlfPGmdfAGl9XPe0YdzOnGyiME91vEBunYx33YRGmWIvpDziwvDrgs95eX562TgF5qxTt8TpH+W2bRJ3ic+L9erq8yRj7epz6uVz9MNvj+URjwKGunktJWX9w+lHXx5tEtX+WoXSF5vNy3fyMPTzMeE113zvY/5Ovk4k9yutb4S9ff+XZvnx2rOx+vndan1Je8XoVZOYKHlPq4+mfuqjwnxOfdvH0cinWl924+tOIb7nhPi2MtpaJ3ZjntddYoy5bSldmx7m4nS9rLnz5GfpwXMp6lBkw6emHSRf9lll01eBBFBkwKpe++9d7KtAhIFJgpW8ksjtG0+WSrgyRTYaLmCCi3THS2lo7+GBv2ueXHwRF56ZLD2NruuPJ599tmy8847N4GM/jovCnB050pi8MgDWxzckX983nbbbctjjz3WrBODhQI8BVqPP/542WabbdZ4457y0QWepz8Gqo/q5YOl2qpv0JQHY/FB1QdQiW2jPf0EE/L86Od+sqkN7NrG91Vez09Qoa0cQdt1LZecT98TpH+WtrJ4mygvP9H5/qy1UebL/XNtXlv5anzbrLZfvX8472O1Oktu19q+q7VfF8+31gZeds9jWjl8e1frK7X21Xq1ebGt8tIxnpd73irntLz8c9t6wLqQj1E/Z/nxXDu2avP9s/PjqLZs2jmhdux5un3HPU/H1/F2CbVjeNr45eNdqKUFzKepQVO8COKCCy4oH/nIR5qL4QhQImhSp/3FL34x2faiiy5q1vuLv/iLapp5cPnqV7/a3JHRd6UiONMBFAGN8lQ+IQakODDjETcFQzVdeShw+ZM/+ZPms+6CHXvsseWnP/3pZFsdkB7UeP7+OaiOMfDojtmGG27YvEwjq6U/JqpXrp/aqm/Q5G3i82sXlnl+20lENC/2V9/BONKL/pOnWE/5ermlrayhdsKI+bV82urmJzL/3LadTGsTb4+2eW1lbls/z+sqX03eJ97utTp4H4r1/I9DkX+tvD5f+837g6baRUfWlm9bG3jZvX61PuTrKE3fJ8H7Sqzv69bWy/Mij9rUdex6Xv45qC4elAELzftwHM/qt+qb6rtxDLedF7wv144t13YMt40bnqaXO+T5bceej3vT6uRjVqilP20c1Ta1tqmlBcynqUFTPsAUZCiwUGe++eab1wiacqftEzTF/zvSHRg9Tnf33XeXa665ZnJyjYHHDxSfHxdpKo+bloeoTg8//HBTJj0KqOmmm25qlsUAlQ96z98/B6WXD3hPR1Tm2vwxyYOapqUeNNXSC20nkrayBm2Tl9f6VC5PW1n8BOmf27aTaW3i7eHzppW59tnndZWvS+Sdj6VaHWp9KAc3kU7kXyuvz2/b51268m1rAy+718/7UG2dEGNmrpv3FanVv7Zenpf7UZva8eB5+eeguhA0YV2r9WEdB+qz8V2gOIbbxgjvy7Vjq40fw23jhqdZK7fPbzv2+ox7uU4+ZoVa+m3phbZxpZYWMJ9mFDTpUbf4vo7u7LTdafrbv/3b5s6KAqz8eN63v/3tZls9pqfO7gFDDAT6qe9Q6Y6W/jfUQw89NFnnjjvuaNKOAyju4ujL+/7/o6blocfw8jZ6cYPy04sj9BKJ2vZxgRP5++eQL4yiLQ866KDme1SifCMA7Roslrp84ZYvDkMMrNHP2gZavwCsDf6efm0dn+/phtpg3JZe0DLvB16/GtU1L6/lnee1tZHn7yfMWKdWlmltMq1M05bXPtfmtZWvj1zfWh1yu3lfEZ/nZQu5jLU27uJ5+Ly2/hLrxD73+tXKofTa7nh5Odq29/rX1pvW7q62jz0v/9y2HrAu1PpwHLvxVr2uY6s23z9PUxs3pp0TauX2saDtGOsz7uX5bWWqpd+WXmgby7SdpwXMp6lBUzyepxccxON5unujuzhtd5oUcHzqU59q1vUXQfz6r/968/2hCHaUlu7+nHXWWZO338VBFm9tijtFelmDXiSRv9MUL3PQevpu0lVXXdU8BqcXQehA68pDZVY6Slt1PO6445plp512WpO/vqel72upfl//+tebF0XEABP5++egwSUO8lzGj370o00Z1S7vf//7RxU01b6wXxu0/UShNojBOAZazYtBPOZ5Ot52mpf7YvThvI4Pvm0XebX52jaXK9aLL/XX8vP61Si9XDfPO/pYrpufLKJsOZ3ayalWxj5tUksrz/NtamX2dTyNWMfLV+tXom3zvsgn3lpe+SReO6FHn4o029o0r1Mrr+rS9r/JZpJvrpv3d69flCO2ifaP/ap89RarqEcsz3l27d+Q27g2r3asitoj0qlduHleXr9Qyx9YaLU+LHEc5uM3jrW8vh+v4seAm3YM9zkn+DgS86Zt52NSnzrVxrpYz4/taeNobVyJbbraDBja1KBJB0pMCnr0VjwFTNJ2p0l0p0hvn9Odm7ytXvEtutOi4CZewa031Ol14vmA1jp6+12UY7/99msesVN++eBRXmecccYkr80337x8+ctfboKVrjxefPHF5g5VvI5c2yud+B9Uyl+vCY/H9q6++urJYBH5++egwSRfiKre8SprpaW36SkI8wFsKVM9cn/R5CeWaK9Yrm3yCSgGx/yaUk219o0p1qkNnt6PfZ3aAB4i7doJpSu9nJ/Xr6ZWhtyWWuavVo12inWUvl9Q5nVqJ5uuOnh5aid0nzetzOJt6mmIl8/3ffB94XX0OvhJ3POJ8sZJP8qWX7mtKV/o1NLJx32Nr+/5itftu9/97lpl9/p5+0f5tY73F69Hra/U9o33sdq8Wl55jKsdD7W8vK/EPN8WWGhd/TCOw3x8+XmvNkbUjsG25dOOYU21c0Kf82bfcW9anXy8zWrHto+LbenFcv2ucdHLD8yn1qAJ8y++++WD0fqsa6DNuk5aS03fOmNh1S7kFwtdTKxv3+2JizTGS2B2+pw3F/O4B6xrBE3ryPPPP1/22Weftb6ztb7rG0D0GfyXEk5Ui89i3ieLuWzzxf9qDmBm+pw318exBeiLoGmBfPGLXyy///u/33y/S48Mxm3tz33uc2v9L6n12foaNInqw0Xh4rFYLx76HiNjon3hj+sAmJk+583FOu4Bi8FgQZNe3Y12epHEe97znsnzuHohxaWXXjp5mx7+n74XhH0Gf2AuFtvFQ/4OAX0fwEz1OW8utnEPWEwGC5oAAAAAYIwGC5q40wQAAABgjAYLmgAAAABgjAYLmrjTBAAAAGCMBguaAAAAAGCMCJoAAAAAoANBEwAAAAB0GCxo4jtNAAAAAMZosKAJAAAAAMZosKCJO00AAAAAxmiwoAkAAAAAxmiwoIk7TQAAAADGaLCgCQAAAADGiKAJAAAAADq0Bk2vvPIKExMTExMTExMTExPTej+1Bk0zxXeaAAAAAIzRYEETAAAAAIzRYEETd5oAAAAAjNFgQRMAAAAAjNFgQRN3mgAAAACM0WBBEwAAAACMEUETAAAAAHQgaAIAAACADoMFTXynCQAAAMAYDRY0AQAAAMAYDRY0cacJAAAAwBgNFjQBAAAAwBgNFjRxpwkAAADAGA0WNAEAAADAGBE0AQAAAEAHgiYAAAAA6DBY0MR3mgAAAACM0WBBEwAAAACM0WBBE3eaAAAAAIzRYEETAAAAAIzRYEHTYrvTtGLFirLBBhuUW2+91RcNZloet9xyS9l4443Leeed54vWS2qnZcuWlZUrV/qiwRxzzDHNNBMqzw477DCv5Voor776ajnggAOavln7PBuzaVMMbyH3w0LmBWB+6Jymc27bNcqYqc46r69atcoXDWLauXV9bvsxaw2atLMVENSm+eyIfb388svlggsuKDvuuOOkXJtvvnn5n//zfzbLpwU0Q5iWRwQJF198sS8aJfUJ9Q3vL3HxRdA0O9GubYNz5gO5f56N2bQphreQ+2Eh81qfxfFJWy8t2l9t5/4Yr2vLFtr6fOFO0IT50Bo0/eEf/mE56aSTylFHHVU23XTT8u53v7sce+yxzbwzzjijvPjii77JgvnRj340uTjfcsstyxFHHNGUa9999y2f+9znmnWmBTRDWIg8lpLFcLKYzcWeB02LoR7ZTOrkA7l/no2Z5L+uqZ6qr+q9VPTtb/O1H2ptNl95LWZDHCuz0Xf/Y/GIoKl2Ub4Q+7N2zM5V3/6/EPUbwroOmjBOrUFTiANk6AN0tlavXl123333stFGG5WrrrqqvP32275KYyECmoXIYylZDIPpbC72FnPQpLLsueeeve+C+UDun2djNm26rszHxcR869vf5ms/1NpsvvJazIY4Vmartg+weOnYOOSQQ5p95sdJ3+N5Luajv/Tt/wtRvyEQNGE+zCpouu+++5q7T4cddlh56623mnn6TtMNN9zQBBGXXnpp02H1+/nnn18uu+yyyeN+++23X3n00Ucn6Svouf7668t22203uXN04YUXljfffHOyTnbllVc26/3pn/5p5/eoIqBR2qeeemoTZGk688wz10j7qaeeau5UaZnW33///dcon/L44Q9/WPbaa6/J42a/9Vu/VZ5//vm1gqYnn3yyfOADH2jaS3fDog3ioMptedttt5Vdd921Wa6fWj+8/vrrTTk32WSTZvnHP/7xSb0X8wE6bTDNg5jq4Y/qaV4e5OL2drR728kpL+9zsRf7TZPSv+KKKyZBU+yzPH3/+9+vDo65vlG3Bx98cI0ytW0Ty6ed+JSur+Ptkpf7QO6f28RfTqNN8n6ptWmf9fM6yj/K0tY2se20dPP+i/7iaed28WWebhb7UX3C08n55jZvC2y93bxvaZnP09R2/ER6eZtaXbx/+L4L3i65Xl1tneXlXWUPef/6+l3LZrNfPN1aWwVvM01f/epXq8fOfBz3/ocbLG5xfES/yX21dh6sHWvTjhXvk9pefzT2dPyYjf6uPljrV94Xlce11167Vv/3Piy18errX//6WnnEujFmDHWc1HiZYpvIUz9z3bzdvZ19vGzbdzE/1yHaXsu97WdbnrPPPnutfLDuzCpoeumll5pH4d773veWf/u3f2vmKXj6zGc+U7bffvvy+OOPTzryTjvtVJYvX16uvvrqcvTRRzfzdKdIB78CEn0vacMNNywnnnhiufHGG8txxx3XfFbg5LS+HhfcaqutyiOPPOKL1xAn0m222abJ96KLLmp+1zwFUhJBzvve977yzW9+s5lUVwUxCqZE30fSNpqvAFB3tz796U+XZ599dpKH6qo2OfDAA5ug74EHHmi2jTaIzh5tudlmm5UPfvCD5fLLLy9HHnlks47aU2mojgryNE+BmoIllf/Xfu3X1khrMaqdLLI8iEoM8OIDjH+OASrWj7xye8T+8EEv0zq5DJFOvqCq1UPb+QCe6xP7Oqcdg5/v/5yuyurpZnHhmp1zzjmTPLxdfCD3zzV5P0gM6tEevtw/19bPJ4NoG5/nF7F90/W65W1q+8nT1YW3n+BDlDXWzydxn5f367SgyfuzttF+jN+9X9RE/b2+uY08n1obubY2m2lbR39vq4evr/ViXW2r/RJ8389mv0jeB56mqx0rXmZROkMf97V1sHjlfqX9nPe/78v4nI8d7yPO01A/0cVz9Jdav4xjNvchHw9q+cZ4WOv/NbWy1bbzY2+I48T5+JfbKfLM2/u+8vbxca6272Lc8npPS7tveXwM9bEY69asgibR3SPtyOuuu675rOBJQckXvvCF5sI/OshBBx3U3DkRzT/55JOboOiuu+4qTzzxRBNkaV7cNXrhhRfK3nvv3Uz6PYtOmjtZG3Uw5Z/T1tvsNO+EE05oPp977rlNkPPQQw9NtlN9ol5RPgVWCrBc5HHTTTc136nS3Sr9HqINfFDYdttty2OPPdbMizpFIKiAU+2oO14KokTl1wXWYj9won4qZ55iANBPHyD0+e67715r0NVA4XXN22uZ90nJA7WrDcrig1ttPc3zC+NcRq1buyDL5dTvXjbPO4u+4eV1OQ8fyP2zU76qVz6efJvcpjNdPy+vzYtt+qbr+9z7lPcLT2MaT0+0bW1e5FPrG5LboZZuqPW3mlr9vX7TjpsabzOp5ZXT6VNn17XMeZvU6jBtv3if8rZyteW1euY2Huq4r+WNxSv3ZR/fvO/Wjq+u+eL9w9W2rR2znk7XMdi3D3r9RL/nvP24Geo4yWrlyGp5+jbTxstaO4fcXpo8Ly973/J4G/TdL1gYsw6aFFDokbp4RE9BhoKhO+64o1muTlC7yL/55pub+brzc/vtt691gR2TnwzljTfeKAcffHATVCi46KJ88wW7qLOq06pTvvbaa82dIc83Jm2vwE51Ouuss9ZIO0Qev/Ebv9Gsp7tm+ZFBb4O2tlR54mCKPHVXK/O0FiMfAFwejEK0YW6TGCR8n+R+URvspDboBLWvX5jH/Dy4tdUj51k7KXjdfL629/po8oE0RDt4OcTTivbzAdY/u+hXtSm2yW060/WlVgafN5t0Y7vc7lrXj69Iu7Z/nKcntTTzPO8LIZc392nfF239zdXqn+f3OW5qavWr5ZXbJsZSz0eTbxdim7b+Xksz2mQ2+6WtT3n7B++TQfWJeb6va+Xy+drey6DJ2yHng8XNj4/ou9rvfjy37de281GIflM7nmp938sk+dzWdT6Rtv7vvH4xz4+LXL4hj5Mwrf1qeeay9xkv2/adxPZ77LFHtYy57aVveXz/9N0vWBizDprirpECGH0H6FOf+lTzfaW4OxInLN/R8d0cBVmxTjxulCc9vld7yYMCGG2TH+WoUb5aL3fAGNjyBYYCvx//+Mdr5Z9Puh7AhMhDjyXqLpPuNuXvS3kbtLWlyhMHnW8TItj0+YtJHgBqaoNG1De3SdvgkbUNZrUTR2gbZH1wa6uHPucLspxPrW4+v63MbWrtkPtwyCdQH2D9s8t1apPbdKbrS60MPm826Yq3e24LF8drbT8FT09qaeZ5Wnda0BSib9XGBe9vrpZenl/rL33U6lfLK7dN27HURxzz+UJDeeXP3iaz2S99+lTmfTLkdPR7bpdauXy+1vc0a/quh3Wvdnxo32mfx/d2ou+27dc+x1D0SR0vOb9a36+VKZ/bpo0Pbf3f+bEZcj31e14+5HESprVfLc9c9mntIV1liu2VXgTMmV9XzLY8ffcLFsasgybRXREFC3oFuR4v0yN7QTteB/rhhx8+CST0U5/1Egm9TEKPo2m7/CjaND/5yU+a15/rsbo777yz9WUQ6mBdQZOccsopzV0dvcCiJsq3zz77NC9+cJGHHvvTXSb9ngOnaIPo7G1tmS8Yooz5sUalp9e9jy1o0k8Nem2P5/kJINMyb8cYXNq2i7b18ulz1wVbUPp6Y5LW63tSyPWonei61AbRWhp5ng+w/tn5wF6T6zDT9aVWBp83m3TF273WPlnbvg2entTSzPNqaU7ri9O2r6nV37etrTNNrX61dHLbeL4zlfd/LS2fN5v90qdPZd4n8/z5Pu7b8sbiVDs+Yh/GW/Win7Tt/7b5Nd7PatvWyuTHQG2d0LcP+rEZlIfq/rOf/axJJx8TXv4w0+MkaytHqOXp23S1h3SVKbeX0qtdb+a2n1aeSM/LE+tM2y9YGHMKmuKFEAo8/LtB0YkUVOllB3oRhF4IkQMpPdan/6ukeXrpgV6yoDtQepudAqI2+t5QvO1Od4rUyY4//vjmArzr/zSp8+agSX8RUrn1ljoFUHoRhe4q6TtPqmt+KYPa4JJLLmle3nDooYeu9SII1UcBkz7HY3rRBtHZ29pS5YmLdgVKn/jEJ5rtPvrRjzZtonZ7//vfP6qgyQcILcuBS9sgFHcYY1/m9oj94YNOpmV54Ioy57y7Th6apzustZOC8s771utQK7PSiBcC1Ki8eX0feCPNyNfL7p9dLPc+mV82kU8sM10/b5PL4PNmk654e/hnpZW/QD2TPhpURi+Xz1O58mfvi0o355m397Zoo7R8DPD+7H1O8nFTU6tzn7b2vKXrJRu1F5ioLrX6R12jHp63+D7weblPhVyGmlq9RenO53E/rV9icWnrJ7Gv8/6PfZvXj/Xa9rcfs97//bPUyuQX7rW+mI/ZWhqudrzGfAVNGm89jaGOE6d1/dydXwThbeTHmZdBctvX9p3W1eTt4Gl528+2PDEWentj3ZhT0CTxQgg9ohavH5fY+erw+ZXfCk5efvnlyXoKEuKFDFpf63z4wx+e+na8hx9+uPz2b//25LXcmvQWPAVnEhctfjDkoEkUOOmxwkjjPe95T/na1742qYuCIdUxXomu/HTXR23hecTb+OKFENEG0dnb2lLlyQf+M8880wSW0R5qP73xb7EfOD4AuDxo1C64fF60X0y+fj5BRdv0GfRjEIo0o1zR/pLzrvUh3w+RRn4lsm8rXua832tqF4a5/FoWryTNF4pRPv9cE+vkcuf1vU1nu35ep2te33TFT0Q5Df2svaLX90nm6UltH/i86Pu53Lm83pc9vbb+lkV63n9zWcXzqq2TeZvpc5+2llwWTb5N5uvmfevHRfwbgGiLWt6+D2rzvE91HQeSy1Ern28/1HHvF1hY3GrHR1Af8T7g44Pvf+f9xft+32O21q887Xy8tPV/1zZeaZta3YY6TmqivWOKctfGjNo1yrTx0vddLK+dw6Is2g/e9rMtz3e/+9218sG6MzVomkYBhe406aUOWex4dvQw9OKM2iCDheUDYagNiENoyw/Awmk7Doc67j3YA5aitn481HGyPqoFZ1h35hQ0vfLKK83OjP+7lBE0DUffp9L3qvwRSCy8dXFSqP0FEcDCmc/jvvbXZmCp6bq4H+I4WV+1/cEG68asgiZdxOufz37sYx9rHh/73ve+t9YLGQiaZu+LX/xi+f3f//3m+136jlXcGtb3tfIjkFhYXRc383lSiHw5loCFN5/HfVxo8kcRLHVdx0LXMvwntVM+z8fYw/iweMwqaIod+Y53vKN84xvfWCtgEoKm2fv617/efLcqnmndcccdy6WXXjp5mx4WXnwfo60/c1IAxofjHugW14Nd3z/iOOnHv9MV34/C4jGroKmmFjgBAAAAwFI3WNAEAAAAAGNE0AQAAAAAHQiaAAAAAKDDYEET32kCAAAAMEaDBU0AAAAAMEaDBU3caQIAAAAwRoMFTQAAAAAwRoMFTdxpAgAAADBGgwVNAAAAADBGBE0AAAAA0IGgCQAAAAA6DBY08Z0mAAAAAGM0WNAEAAAAAGM0WNDEnSYAAAAAYzRY0AQAAAAAYzRY0MSdJgAAAABj9P8DOWWAqZba/DgAAAAASUVORK5CYII=)"
      ],
      "metadata": {
        "id": "5SdltHbVqfEC"
      }
    },
    {
      "cell_type": "markdown",
      "source": [
        "**7.What is a heatmap, and when should it be used?**\n",
        "\n",
        "**7A** - A heatmap is a data visualization technique that shows the magnitude of a phenomenon as color in two dimensions.\n",
        "The color variations represent the intensity of values — darker, lighter, hotter, or colder colors represent higher or lower values.\n",
        "\n",
        "It’s essentially a color-coded matrix.\n",
        "\n",
        "Often used to make patterns, trends, and correlations visible very quickly.\n",
        "\n",
        "**When Should You Use a Heatmap?**\n",
        "\n",
        "You should use a heatmap when you want to:\n",
        "\n",
        "**Visualize Correlations:**\n",
        "\n",
        "Show how variables are related (e.g., correlation between features in a dataset).\n",
        "\n",
        "**Example**: Pearson correlation matrix for numerical features.\n",
        "\n",
        "**Visualize a Matrix or Grid-like Data:**\n",
        "\n",
        "Any data arranged in a 2D grid (like confusion matrices, transition matrices, etc.).\n",
        "\n",
        "**Example:** Showing classification model errors.\n",
        "\n",
        "**Spot Patterns and Anomalies:**\n",
        "\n",
        "Quickly find outliers, clusters, or gaps.\n",
        "\n",
        "**Example:** Heatmap of website user activity (hot zones).\n",
        "\n",
        "**Summarize Complex Data:**\n",
        "\n",
        "Instead of reading tables full of numbers, a heatmap helps users interpret large datasets visually.\n",
        "\n"
      ],
      "metadata": {
        "id": "7k-0DYMcrYZ7"
      }
    },
    {
      "cell_type": "markdown",
      "source": [
        "**8.What does the term “vectorized operation” mean in NumPy?**\n",
        "\n",
        "**8A** - A vectorized operation means applying an operation simultaneously to an entire array (or arrays) without using explicit loops in Python.\n",
        "\n",
        "Instead of writing a for loop to apply an operation element-by-element,\n",
        "\n",
        "NumPy executes the operation under the hood using fast C-level optimizations.\n",
        "\n",
        "This makes the operation much faster, more readable, and less error-prone."
      ],
      "metadata": {
        "id": "LkFNzt5h2cmQ"
      }
    },
    {
      "cell_type": "markdown",
      "source": [
        "**9.How does Matplotlib differ from Plotly?**\n",
        "\n",
        "**9A** -  these two libraries are often compared because they’re both popular for plotting in Python, but they have different strengths.\n",
        "\n",
        "📊 Matplotlib:\n",
        "Type: Static plotting library (originally).\n",
        "\n",
        "Best for: Traditional, static, simple 2D (and some 3D) plots.\n",
        "\n",
        "Interactivity: Very limited out of the box (you can zoom/pan, but not much more).\n",
        "\n",
        "Customization: Extremely customizable (but sometimes verbose and tricky).\n",
        "\n",
        "Use Cases: Scientific publications, academic plots, quick data exploration.\n",
        "\n",
        "Output Formats: PNG, PDF, SVG, EPS (good for papers and printing)."
      ],
      "metadata": {
        "id": "kzZPGxJf2s5o"
      }
    },
    {
      "cell_type": "markdown",
      "source": [
        "**10.What is the significance of hierarchical indexing in Pandas?**\n",
        "\n",
        "**10A** - Hierarchical indexing in Pandas means that a single axis (rows or columns) of a DataFrame can have multiple levels of indexing — not just a simple one-dimensional index.\n",
        "\n",
        "* It allows you to organize and analyze complex data more naturally, like a table within a table.\n",
        "\n",
        "* It enables more sophisticated data manipulations, like working with grouped data or reshaping tables easily.\n",
        "\n",
        "**Hierarchical Indexing Important**\n",
        "\n",
        "1. Organize Complex Data\n",
        "\n",
        "Perfect when your data has multiple categories (e.g., year + city, department + employee).\n",
        "\n",
        "Easier than manually creating wide or nested tables.\n",
        "\n",
        "2. Powerful Data Selection\n",
        "\n",
        "You can easily slice, subset, and filter across multiple levels of the index.\n",
        "\n",
        "3. Enables Reshaping\n",
        "\n",
        "Functions like stack(), unstack(), and pivot_table() work seamlessly with MultiIndex.\n",
        "\n",
        "Easy to move between \"wide\" and \"long\" formats.\n",
        "\n",
        "4. Group Analysis\n",
        "\n",
        "When grouping data with groupby(), you often automatically create a hierarchical index."
      ],
      "metadata": {
        "id": "SL9Gw6wG3UOM"
      }
    },
    {
      "cell_type": "markdown",
      "source": [
        "**11. What is the role of Seaborn’s pairplot() function?**\n",
        "\n",
        "**11A** -  pairplot() is a function in Seaborn that plots pairwise relationships between all numeric columns of a dataset.\n",
        "\n",
        "It creates a matrix of scatter plots for every pair of features.\n",
        "\n",
        "On the diagonal, it typically shows univariate distributions (like histograms or KDE plots).\n",
        "\n",
        "It’s often used for Exploratory Data Analysis (EDA) to spot trends, clusters, and outliers quickly.\n",
        "\n",
        "It's one command that gives a very rich view of your entire dataset!\n",
        "\n",
        "\n"
      ],
      "metadata": {
        "id": "NCZLiiwF4GCf"
      }
    },
    {
      "cell_type": "markdown",
      "source": [
        "**12.What is the purpose of the describe() function in Pandas?**\n",
        "\n",
        "**12A** - The describe() function in Pandas generates descriptive statistics for a DataFrame or Series.\n",
        "\n",
        "It helps you quickly understand the central tendency, dispersion, and shape of your data’s distribution — without writing any manual calculations.\n",
        "![2.png](data:image/png;base64,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)"
      ],
      "metadata": {
        "id": "EvkUfsr24cUK"
      }
    },
    {
      "cell_type": "markdown",
      "source": [
        "**13.Why is handling missing data important in Pandas?**\n",
        "\n",
        "**13A** - Handling missing data is crucial in Pandas — and in data analysis in general — because missing values can:\n",
        "\n",
        "**Cause Incorrect or Misleading Results**\n",
        "\n",
        "Many functions (like .mean(), .sum(), or ML models) ignore or misinterpret NaNs, leading to wrong conclusions.\n",
        "\n",
        "**Example:** Averages or correlations can be skewed if missing values aren’t handled.\n",
        "\n",
        "**Break Computations or Visualizations**\n",
        "\n",
        "Some libraries or models can crash or raise errors when they encounter missing data.\n",
        "\n",
        "Visualizations may leave gaps or errors if NaNs aren’t managed.\n",
        "\n",
        "**Introduce Bias if Mishandled**\n",
        "\n",
        "\n",
        "If you drop missing data blindly, you may remove important information or introduce sampling bias.\n",
        "\n",
        "If you fill missing values inappropriately, you may distort the dataset."
      ],
      "metadata": {
        "id": "W7ZcapEsuh-x"
      }
    },
    {
      "cell_type": "markdown",
      "source": [
        "**14.What are the benefits of using Plotly for data visualization?**\n",
        "\n",
        "14A - Plotly is widely used for data visualization in Python because it combines interactivity, flexibility, and web-ready design — all in a user-friendly package.\n",
        "\n",
        "**Key Benefits of Using Plotly:**\n",
        "1. Highly Interactive Charts\n",
        "Built-in features like zoom, pan, hover tooltips, legend toggling, and click events — no extra code needed.\n",
        "\n",
        "Great for data exploration and dashboards.\n",
        "\n",
        "2. Web-Ready Visualizations\n",
        "Outputs HTML by default — perfect for embedding in websites, Jupyter notebooks, and apps.\n",
        "\n",
        "Fully compatible with Dash, Plotly’s app framework for building interactive dashboards.\n",
        "\n",
        "3. Wide Range of Charts\n",
        "Supports:\n",
        "\n",
        "Line, bar, scatter, pie, histograms\n",
        "\n",
        "Heatmaps, 3D plots, maps, sunbursts, treemaps\n",
        "\n",
        "Statistical charts and scientific plots\n",
        "\n",
        "4. Clean and Modern Look\n",
        "Beautiful default styling out of the box.\n",
        "\n",
        "Highly customizable if you want to go deeper.\n",
        "\n",
        "5. No JavaScript Required\n",
        "Built with JavaScript under the hood, but you only write Python.\n",
        "\n",
        "Ideal for users who want rich, browser-based visualizations without learning web dev.\n",
        "\n",
        "6. Easy Integration with Pandas\n",
        "Directly works with Pandas DataFrames and Series."
      ],
      "metadata": {
        "id": "lKQIe4IcvGA1"
      }
    },
    {
      "cell_type": "code",
      "source": [
        "#Example\n",
        "import plotly.express as px\n",
        "fig = px.scatter(df, x='age', y='income', color='gender')\n",
        "fig.show()"
      ],
      "metadata": {
        "id": "h53UfdW-vkOH"
      },
      "execution_count": null,
      "outputs": []
    },
    {
      "cell_type": "markdown",
      "source": [
        "7.  Responsive and Scalable\n",
        "Charts resize automatically and look good on any screen size or device."
      ],
      "metadata": {
        "id": "hDuahHjCvyRG"
      }
    },
    {
      "cell_type": "markdown",
      "source": [
        "**15.How does NumPy handle multidimensional arrays?**\n",
        "\n",
        "**15A** - NumPy handles multidimensional arrays using its powerful ndarray object, which is designed to store and operate on data in N dimensions efficiently.\n",
        "\n",
        "**What is a Multidimensional Array**\n",
        "\n",
        "A multidimensional array in NumPy is just an array with more than one axis (dimension).\n",
        "\n",
        "A 1D array: a list of values\n",
        "\n",
        "A 2D array: like a matrix (rows and columns)\n",
        "\n",
        "A 3D array: like a stack of matrices\n",
        "\n",
        "And so on…\n",
        "\n"
      ],
      "metadata": {
        "id": "Pq-LFXunv47Y"
      }
    },
    {
      "cell_type": "code",
      "source": [
        "#Creating Multidimensional Arrays\n",
        "\n",
        "import numpy as np\n",
        "arr2d = np.array([[1, 2], [3, 4]])\n",
        "arr3d = np.array([[[1, 2], [3, 4]], [[5, 6], [7, 8]]])"
      ],
      "metadata": {
        "id": "U8XJ56khwodO"
      },
      "execution_count": null,
      "outputs": []
    },
    {
      "cell_type": "markdown",
      "source": [
        "**16.What is the role of Bokeh in data visualization?**\n",
        "\n",
        "**16A** - Bokeh is a powerful Python library designed for creating interactive and web-friendly visualizations — especially useful for real-time dashboards, large datasets, and browser-based plots.\n",
        "\n",
        "**Role of Bokeh in Data Visualization**\n",
        "\n",
        "**1. Interactive Visualizations**\n",
        "\n",
        "Bokeh supports hover tooltips, zooming, panning, click events, and selection tools — all built-in.\n",
        "\n",
        "Interactivity is native, not an add-on (unlike Matplotlib).\n",
        "\n",
        "**2. Web-Ready Output**\n",
        "\n",
        "Bokeh renders using HTML + JavaScript via the browser.\n",
        "\n",
        "Outputs can be:\n",
        "\n",
        "Standalone HTML files\n",
        "\n",
        "Embedded in web apps\n",
        "\n",
        "Served via Bokeh Server (for live data and callbacks)\n",
        "\n",
        "**3. Large Dataset Handling**\n",
        "\n",
        "Optimized for handling millions of points using WebGL.\n",
        "\n",
        "Great performance for streaming or high-volume visualizations.\n",
        "\n",
        "**4. Easy to Use with Pandas**\n",
        "Directly integrates with pandas.DataFrame objects.\n",
        "\n",
        "Column names become axis labels and hover data automatically"
      ],
      "metadata": {
        "id": "Lskbkbz-w4t2"
      }
    },
    {
      "cell_type": "code",
      "source": [
        "#Example\n",
        "from bokeh.plotting import figure, show\n",
        "from bokeh.io import output_notebook\n",
        "\n",
        "output_notebook()\n",
        "\n",
        "p = figure(title=\"Simple Line Plot\", x_axis_label='x', y_axis_label='y')\n",
        "p.line([1, 2, 3, 4], [6, 7, 2, 4], legend_label=\"Line\", line_width=2)\n",
        "\n",
        "show(p)"
      ],
      "metadata": {
        "colab": {
          "base_uri": "https://localhost:8080/",
          "height": 617
        },
        "id": "n4EaVcL4xtmN",
        "outputId": "15b1753f-6bc4-4be2-9793-7cc34d9fa05a"
      },
      "execution_count": null,
      "outputs": [
        {
          "output_type": "display_data",
          "data": {
            "application/javascript": [
              "'use strict';\n",
              "(function(root) {\n",
              "  function now() {\n",
              "    return new Date();\n",
              "  }\n",
              "\n",
              "  const force = true;\n",
              "\n",
              "  if (typeof root._bokeh_onload_callbacks === \"undefined\" || force === true) {\n",
              "    root._bokeh_onload_callbacks = [];\n",
              "    root._bokeh_is_loading = undefined;\n",
              "  }\n",
              "\n",
              "const JS_MIME_TYPE = 'application/javascript';\n",
              "  const HTML_MIME_TYPE = 'text/html';\n",
              "  const EXEC_MIME_TYPE = 'application/vnd.bokehjs_exec.v0+json';\n",
              "  const CLASS_NAME = 'output_bokeh rendered_html';\n",
              "\n",
              "  /**\n",
              "   * Render data to the DOM node\n",
              "   */\n",
              "  function render(props, node) {\n",
              "    const script = document.createElement(\"script\");\n",
              "    node.appendChild(script);\n",
              "  }\n",
              "\n",
              "  /**\n",
              "   * Handle when an output is cleared or removed\n",
              "   */\n",
              "  function handleClearOutput(event, handle) {\n",
              "    function drop(id) {\n",
              "      const view = Bokeh.index.get_by_id(id)\n",
              "      if (view != null) {\n",
              "        view.model.document.clear()\n",
              "        Bokeh.index.delete(view)\n",
              "      }\n",
              "    }\n",
              "\n",
              "    const cell = handle.cell;\n",
              "\n",
              "    const id = cell.output_area._bokeh_element_id;\n",
              "    const server_id = cell.output_area._bokeh_server_id;\n",
              "\n",
              "    // Clean up Bokeh references\n",
              "    if (id != null) {\n",
              "      drop(id)\n",
              "    }\n",
              "\n",
              "    if (server_id !== undefined) {\n",
              "      // Clean up Bokeh references\n",
              "      const cmd_clean = \"from bokeh.io.state import curstate; print(curstate().uuid_to_server['\" + server_id + \"'].get_sessions()[0].document.roots[0]._id)\";\n",
              "      cell.notebook.kernel.execute(cmd_clean, {\n",
              "        iopub: {\n",
              "          output: function(msg) {\n",
              "            const id = msg.content.text.trim()\n",
              "            drop(id)\n",
              "          }\n",
              "        }\n",
              "      });\n",
              "      // Destroy server and session\n",
              "      const cmd_destroy = \"import bokeh.io.notebook as ion; ion.destroy_server('\" + server_id + \"')\";\n",
              "      cell.notebook.kernel.execute(cmd_destroy);\n",
              "    }\n",
              "  }\n",
              "\n",
              "  /**\n",
              "   * Handle when a new output is added\n",
              "   */\n",
              "  function handleAddOutput(event, handle) {\n",
              "    const output_area = handle.output_area;\n",
              "    const output = handle.output;\n",
              "\n",
              "    // limit handleAddOutput to display_data with EXEC_MIME_TYPE content only\n",
              "    if ((output.output_type != \"display_data\") || (!Object.prototype.hasOwnProperty.call(output.data, EXEC_MIME_TYPE))) {\n",
              "      return\n",
              "    }\n",
              "\n",
              "    const toinsert = output_area.element.find(\".\" + CLASS_NAME.split(' ')[0]);\n",
              "\n",
              "    if (output.metadata[EXEC_MIME_TYPE][\"id\"] !== undefined) {\n",
              "      toinsert[toinsert.length - 1].firstChild.textContent = output.data[JS_MIME_TYPE];\n",
              "      // store reference to embed id on output_area\n",
              "      output_area._bokeh_element_id = output.metadata[EXEC_MIME_TYPE][\"id\"];\n",
              "    }\n",
              "    if (output.metadata[EXEC_MIME_TYPE][\"server_id\"] !== undefined) {\n",
              "      const bk_div = document.createElement(\"div\");\n",
              "      bk_div.innerHTML = output.data[HTML_MIME_TYPE];\n",
              "      const script_attrs = bk_div.children[0].attributes;\n",
              "      for (let i = 0; i < script_attrs.length; i++) {\n",
              "        toinsert[toinsert.length - 1].firstChild.setAttribute(script_attrs[i].name, script_attrs[i].value);\n",
              "        toinsert[toinsert.length - 1].firstChild.textContent = bk_div.children[0].textContent\n",
              "      }\n",
              "      // store reference to server id on output_area\n",
              "      output_area._bokeh_server_id = output.metadata[EXEC_MIME_TYPE][\"server_id\"];\n",
              "    }\n",
              "  }\n",
              "\n",
              "  function register_renderer(events, OutputArea) {\n",
              "\n",
              "    function append_mime(data, metadata, element) {\n",
              "      // create a DOM node to render to\n",
              "      const toinsert = this.create_output_subarea(\n",
              "        metadata,\n",
              "        CLASS_NAME,\n",
              "        EXEC_MIME_TYPE\n",
              "      );\n",
              "      this.keyboard_manager.register_events(toinsert);\n",
              "      // Render to node\n",
              "      const props = {data: data, metadata: metadata[EXEC_MIME_TYPE]};\n",
              "      render(props, toinsert[toinsert.length - 1]);\n",
              "      element.append(toinsert);\n",
              "      return toinsert\n",
              "    }\n",
              "\n",
              "    /* Handle when an output is cleared or removed */\n",
              "    events.on('clear_output.CodeCell', handleClearOutput);\n",
              "    events.on('delete.Cell', handleClearOutput);\n",
              "\n",
              "    /* Handle when a new output is added */\n",
              "    events.on('output_added.OutputArea', handleAddOutput);\n",
              "\n",
              "    /**\n",
              "     * Register the mime type and append_mime function with output_area\n",
              "     */\n",
              "    OutputArea.prototype.register_mime_type(EXEC_MIME_TYPE, append_mime, {\n",
              "      /* Is output safe? */\n",
              "      safe: true,\n",
              "      /* Index of renderer in `output_area.display_order` */\n",
              "      index: 0\n",
              "    });\n",
              "  }\n",
              "\n",
              "  // register the mime type if in Jupyter Notebook environment and previously unregistered\n",
              "  if (root.Jupyter !== undefined) {\n",
              "    const events = require('base/js/events');\n",
              "    const OutputArea = require('notebook/js/outputarea').OutputArea;\n",
              "\n",
              "    if (OutputArea.prototype.mime_types().indexOf(EXEC_MIME_TYPE) == -1) {\n",
              "      register_renderer(events, OutputArea);\n",
              "    }\n",
              "  }\n",
              "  if (typeof (root._bokeh_timeout) === \"undefined\" || force === true) {\n",
              "    root._bokeh_timeout = Date.now() + 5000;\n",
              "    root._bokeh_failed_load = false;\n",
              "  }\n",
              "\n",
              "  const NB_LOAD_WARNING = {'data': {'text/html':\n",
              "     \"<div style='background-color: #fdd'>\\n\"+\n",
              "     \"<p>\\n\"+\n",
              "     \"BokehJS does not appear to have successfully loaded. If loading BokehJS from CDN, this \\n\"+\n",
              "     \"may be due to a slow or bad network connection. Possible fixes:\\n\"+\n",
              "     \"</p>\\n\"+\n",
              "     \"<ul>\\n\"+\n",
              "     \"<li>re-rerun `output_notebook()` to attempt to load from CDN again, or</li>\\n\"+\n",
              "     \"<li>use INLINE resources instead, as so:</li>\\n\"+\n",
              "     \"</ul>\\n\"+\n",
              "     \"<code>\\n\"+\n",
              "     \"from bokeh.resources import INLINE\\n\"+\n",
              "     \"output_notebook(resources=INLINE)\\n\"+\n",
              "     \"</code>\\n\"+\n",
              "     \"</div>\"}};\n",
              "\n",
              "  function display_loaded(error = null) {\n",
              "    const el = document.getElementById(null);\n",
              "    if (el != null) {\n",
              "      const html = (() => {\n",
              "        if (typeof root.Bokeh === \"undefined\") {\n",
              "          if (error == null) {\n",
              "            return \"BokehJS is loading ...\";\n",
              "          } else {\n",
              "            return \"BokehJS failed to load.\";\n",
              "          }\n",
              "        } else {\n",
              "          const prefix = `BokehJS ${root.Bokeh.version}`;\n",
              "          if (error == null) {\n",
              "            return `${prefix} successfully loaded.`;\n",
              "          } else {\n",
              "            return `${prefix} <b>encountered errors</b> while loading and may not function as expected.`;\n",
              "          }\n",
              "        }\n",
              "      })();\n",
              "      el.innerHTML = html;\n",
              "\n",
              "      if (error != null) {\n",
              "        const wrapper = document.createElement(\"div\");\n",
              "        wrapper.style.overflow = \"auto\";\n",
              "        wrapper.style.height = \"5em\";\n",
              "        wrapper.style.resize = \"vertical\";\n",
              "        const content = document.createElement(\"div\");\n",
              "        content.style.fontFamily = \"monospace\";\n",
              "        content.style.whiteSpace = \"pre-wrap\";\n",
              "        content.style.backgroundColor = \"rgb(255, 221, 221)\";\n",
              "        content.textContent = error.stack ?? error.toString();\n",
              "        wrapper.append(content);\n",
              "        el.append(wrapper);\n",
              "      }\n",
              "    } else if (Date.now() < root._bokeh_timeout) {\n",
              "      setTimeout(() => display_loaded(error), 100);\n",
              "    }\n",
              "  }\n",
              "\n",
              "  function run_callbacks() {\n",
              "    try {\n",
              "      root._bokeh_onload_callbacks.forEach(function(callback) {\n",
              "        if (callback != null)\n",
              "          callback();\n",
              "      });\n",
              "    } finally {\n",
              "      delete root._bokeh_onload_callbacks\n",
              "    }\n",
              "    console.debug(\"Bokeh: all callbacks have finished\");\n",
              "  }\n",
              "\n",
              "  function load_libs(css_urls, js_urls, callback) {\n",
              "    if (css_urls == null) css_urls = [];\n",
              "    if (js_urls == null) js_urls = [];\n",
              "\n",
              "    root._bokeh_onload_callbacks.push(callback);\n",
              "    if (root._bokeh_is_loading > 0) {\n",
              "      console.debug(\"Bokeh: BokehJS is being loaded, scheduling callback at\", now());\n",
              "      return null;\n",
              "    }\n",
              "    if (js_urls == null || js_urls.length === 0) {\n",
              "      run_callbacks();\n",
              "      return null;\n",
              "    }\n",
              "    console.debug(\"Bokeh: BokehJS not loaded, scheduling load and callback at\", now());\n",
              "    root._bokeh_is_loading = css_urls.length + js_urls.length;\n",
              "\n",
              "    function on_load() {\n",
              "      root._bokeh_is_loading--;\n",
              "      if (root._bokeh_is_loading === 0) {\n",
              "        console.debug(\"Bokeh: all BokehJS libraries/stylesheets loaded\");\n",
              "        run_callbacks()\n",
              "      }\n",
              "    }\n",
              "\n",
              "    function on_error(url) {\n",
              "      console.error(\"failed to load \" + url);\n",
              "    }\n",
              "\n",
              "    for (let i = 0; i < css_urls.length; i++) {\n",
              "      const url = css_urls[i];\n",
              "      const element = document.createElement(\"link\");\n",
              "      element.onload = on_load;\n",
              "      element.onerror = on_error.bind(null, url);\n",
              "      element.rel = \"stylesheet\";\n",
              "      element.type = \"text/css\";\n",
              "      element.href = url;\n",
              "      console.debug(\"Bokeh: injecting link tag for BokehJS stylesheet: \", url);\n",
              "      document.body.appendChild(element);\n",
              "    }\n",
              "\n",
              "    for (let i = 0; i < js_urls.length; i++) {\n",
              "      const url = js_urls[i];\n",
              "      const element = document.createElement('script');\n",
              "      element.onload = on_load;\n",
              "      element.onerror = on_error.bind(null, url);\n",
              "      element.async = false;\n",
              "      element.src = url;\n",
              "      console.debug(\"Bokeh: injecting script tag for BokehJS library: \", url);\n",
              "      document.head.appendChild(element);\n",
              "    }\n",
              "  };\n",
              "\n",
              "  function inject_raw_css(css) {\n",
              "    const element = document.createElement(\"style\");\n",
              "    element.appendChild(document.createTextNode(css));\n",
              "    document.body.appendChild(element);\n",
              "  }\n",
              "\n",
              "  const js_urls = [\"https://cdn.bokeh.org/bokeh/release/bokeh-3.7.2.min.js\", \"https://cdn.bokeh.org/bokeh/release/bokeh-gl-3.7.2.min.js\", \"https://cdn.bokeh.org/bokeh/release/bokeh-widgets-3.7.2.min.js\", \"https://cdn.bokeh.org/bokeh/release/bokeh-tables-3.7.2.min.js\", \"https://cdn.bokeh.org/bokeh/release/bokeh-mathjax-3.7.2.min.js\"];\n",
              "  const css_urls = [];\n",
              "\n",
              "  const inline_js = [    function(Bokeh) {\n",
              "      Bokeh.set_log_level(\"info\");\n",
              "    },\n",
              "function(Bokeh) {\n",
              "    }\n",
              "  ];\n",
              "\n",
              "  function run_inline_js() {\n",
              "    if (root.Bokeh !== undefined || force === true) {\n",
              "      try {\n",
              "            for (let i = 0; i < inline_js.length; i++) {\n",
              "      inline_js[i].call(root, root.Bokeh);\n",
              "    }\n",
              "\n",
              "      } catch (error) {throw error;\n",
              "      }} else if (Date.now() < root._bokeh_timeout) {\n",
              "      setTimeout(run_inline_js, 100);\n",
              "    } else if (!root._bokeh_failed_load) {\n",
              "      console.log(\"Bokeh: BokehJS failed to load within specified timeout.\");\n",
              "      root._bokeh_failed_load = true;\n",
              "    } else if (force !== true) {\n",
              "      const cell = $(document.getElementById(null)).parents('.cell').data().cell;\n",
              "      cell.output_area.append_execute_result(NB_LOAD_WARNING)\n",
              "    }\n",
              "  }\n",
              "\n",
              "  if (root._bokeh_is_loading === 0) {\n",
              "    console.debug(\"Bokeh: BokehJS loaded, going straight to plotting\");\n",
              "    run_inline_js();\n",
              "  } else {\n",
              "    load_libs(css_urls, js_urls, function() {\n",
              "      console.debug(\"Bokeh: BokehJS plotting callback run at\", now());\n",
              "      run_inline_js();\n",
              "    });\n",
              "  }\n",
              "}(window));"
            ],
            "application/vnd.bokehjs_load.v0+json": "'use strict';\n(function(root) {\n  function now() {\n    return new Date();\n  }\n\n  const force = true;\n\n  if (typeof root._bokeh_onload_callbacks === \"undefined\" || force === true) {\n    root._bokeh_onload_callbacks = [];\n    root._bokeh_is_loading = undefined;\n  }\n\n\n  if (typeof (root._bokeh_timeout) === \"undefined\" || force === true) {\n    root._bokeh_timeout = Date.now() + 5000;\n    root._bokeh_failed_load = false;\n  }\n\n  const NB_LOAD_WARNING = {'data': {'text/html':\n     \"<div style='background-color: #fdd'>\\n\"+\n     \"<p>\\n\"+\n     \"BokehJS does not appear to have successfully loaded. If loading BokehJS from CDN, this \\n\"+\n     \"may be due to a slow or bad network connection. Possible fixes:\\n\"+\n     \"</p>\\n\"+\n     \"<ul>\\n\"+\n     \"<li>re-rerun `output_notebook()` to attempt to load from CDN again, or</li>\\n\"+\n     \"<li>use INLINE resources instead, as so:</li>\\n\"+\n     \"</ul>\\n\"+\n     \"<code>\\n\"+\n     \"from bokeh.resources import INLINE\\n\"+\n     \"output_notebook(resources=INLINE)\\n\"+\n     \"</code>\\n\"+\n     \"</div>\"}};\n\n  function display_loaded(error = null) {\n    const el = document.getElementById(null);\n    if (el != null) {\n      const html = (() => {\n        if (typeof root.Bokeh === \"undefined\") {\n          if (error == null) {\n            return \"BokehJS is loading ...\";\n          } else {\n            return \"BokehJS failed to load.\";\n          }\n        } else {\n          const prefix = `BokehJS ${root.Bokeh.version}`;\n          if (error == null) {\n            return `${prefix} successfully loaded.`;\n          } else {\n            return `${prefix} <b>encountered errors</b> while loading and may not function as expected.`;\n          }\n        }\n      })();\n      el.innerHTML = html;\n\n      if (error != null) {\n        const wrapper = document.createElement(\"div\");\n        wrapper.style.overflow = \"auto\";\n        wrapper.style.height = \"5em\";\n        wrapper.style.resize = \"vertical\";\n        const content = document.createElement(\"div\");\n        content.style.fontFamily = \"monospace\";\n        content.style.whiteSpace = \"pre-wrap\";\n        content.style.backgroundColor = \"rgb(255, 221, 221)\";\n        content.textContent = error.stack ?? error.toString();\n        wrapper.append(content);\n        el.append(wrapper);\n      }\n    } else if (Date.now() < root._bokeh_timeout) {\n      setTimeout(() => display_loaded(error), 100);\n    }\n  }\n\n  function run_callbacks() {\n    try {\n      root._bokeh_onload_callbacks.forEach(function(callback) {\n        if (callback != null)\n          callback();\n      });\n    } finally {\n      delete root._bokeh_onload_callbacks\n    }\n    console.debug(\"Bokeh: all callbacks have finished\");\n  }\n\n  function load_libs(css_urls, js_urls, callback) {\n    if (css_urls == null) css_urls = [];\n    if (js_urls == null) js_urls = [];\n\n    root._bokeh_onload_callbacks.push(callback);\n    if (root._bokeh_is_loading > 0) {\n      console.debug(\"Bokeh: BokehJS is being loaded, scheduling callback at\", now());\n      return null;\n    }\n    if (js_urls == null || js_urls.length === 0) {\n      run_callbacks();\n      return null;\n    }\n    console.debug(\"Bokeh: BokehJS not loaded, scheduling load and callback at\", now());\n    root._bokeh_is_loading = css_urls.length + js_urls.length;\n\n    function on_load() {\n      root._bokeh_is_loading--;\n      if (root._bokeh_is_loading === 0) {\n        console.debug(\"Bokeh: all BokehJS libraries/stylesheets loaded\");\n        run_callbacks()\n      }\n    }\n\n    function on_error(url) {\n      console.error(\"failed to load \" + url);\n    }\n\n    for (let i = 0; i < css_urls.length; i++) {\n      const url = css_urls[i];\n      const element = document.createElement(\"link\");\n      element.onload = on_load;\n      element.onerror = on_error.bind(null, url);\n      element.rel = \"stylesheet\";\n      element.type = \"text/css\";\n      element.href = url;\n      console.debug(\"Bokeh: injecting link tag for BokehJS stylesheet: \", url);\n      document.body.appendChild(element);\n    }\n\n    for (let i = 0; i < js_urls.length; i++) {\n      const url = js_urls[i];\n      const element = document.createElement('script');\n      element.onload = on_load;\n      element.onerror = on_error.bind(null, url);\n      element.async = false;\n      element.src = url;\n      console.debug(\"Bokeh: injecting script tag for BokehJS library: \", url);\n      document.head.appendChild(element);\n    }\n  };\n\n  function inject_raw_css(css) {\n    const element = document.createElement(\"style\");\n    element.appendChild(document.createTextNode(css));\n    document.body.appendChild(element);\n  }\n\n  const js_urls = [\"https://cdn.bokeh.org/bokeh/release/bokeh-3.7.2.min.js\", \"https://cdn.bokeh.org/bokeh/release/bokeh-gl-3.7.2.min.js\", \"https://cdn.bokeh.org/bokeh/release/bokeh-widgets-3.7.2.min.js\", \"https://cdn.bokeh.org/bokeh/release/bokeh-tables-3.7.2.min.js\", \"https://cdn.bokeh.org/bokeh/release/bokeh-mathjax-3.7.2.min.js\"];\n  const css_urls = [];\n\n  const inline_js = [    function(Bokeh) {\n      Bokeh.set_log_level(\"info\");\n    },\nfunction(Bokeh) {\n    }\n  ];\n\n  function run_inline_js() {\n    if (root.Bokeh !== undefined || force === true) {\n      try {\n            for (let i = 0; i < inline_js.length; i++) {\n      inline_js[i].call(root, root.Bokeh);\n    }\n\n      } catch (error) {throw error;\n      }} else if (Date.now() < root._bokeh_timeout) {\n      setTimeout(run_inline_js, 100);\n    } else if (!root._bokeh_failed_load) {\n      console.log(\"Bokeh: BokehJS failed to load within specified timeout.\");\n      root._bokeh_failed_load = true;\n    } else if (force !== true) {\n      const cell = $(document.getElementById(null)).parents('.cell').data().cell;\n      cell.output_area.append_execute_result(NB_LOAD_WARNING)\n    }\n  }\n\n  if (root._bokeh_is_loading === 0) {\n    console.debug(\"Bokeh: BokehJS loaded, going straight to plotting\");\n    run_inline_js();\n  } else {\n    load_libs(css_urls, js_urls, function() {\n      console.debug(\"Bokeh: BokehJS plotting callback run at\", now());\n      run_inline_js();\n    });\n  }\n}(window));"
          },
          "metadata": {}
        },
        {
          "output_type": "display_data",
          "data": {
            "text/html": [
              "\n",
              "  <div id=\"f8fe2c8d-816b-42b2-8f40-f7b5f0615bd9\" data-root-id=\"p1001\" style=\"display: contents;\"></div>\n"
            ]
          },
          "metadata": {}
        },
        {
          "output_type": "display_data",
          "data": {
            "application/javascript": [
              "(function(root) {\n",
              "  function embed_document(root) {\n",
              "  const docs_json = {\"24ec8423-352b-4942-86fa-f91c4c3dbb94\":{\"version\":\"3.7.2\",\"title\":\"Bokeh Application\",\"roots\":[{\"type\":\"object\",\"name\":\"Figure\",\"id\":\"p1001\",\"attributes\":{\"x_range\":{\"type\":\"object\",\"name\":\"DataRange1d\",\"id\":\"p1002\"},\"y_range\":{\"type\":\"object\",\"name\":\"DataRange1d\",\"id\":\"p1003\"},\"x_scale\":{\"type\":\"object\",\"name\":\"LinearScale\",\"id\":\"p1011\"},\"y_scale\":{\"type\":\"object\",\"name\":\"LinearScale\",\"id\":\"p1012\"},\"title\":{\"type\":\"object\",\"name\":\"Title\",\"id\":\"p1004\",\"attributes\":{\"text\":\"Simple Line Plot\"}},\"renderers\":[{\"type\":\"object\",\"name\":\"GlyphRenderer\",\"id\":\"p1042\",\"attributes\":{\"data_source\":{\"type\":\"object\",\"name\":\"ColumnDataSource\",\"id\":\"p1036\",\"attributes\":{\"selected\":{\"type\":\"object\",\"name\":\"Selection\",\"id\":\"p1037\",\"attributes\":{\"indices\":[],\"line_indices\":[]}},\"selection_policy\":{\"type\":\"object\",\"name\":\"UnionRenderers\",\"id\":\"p1038\"},\"data\":{\"type\":\"map\",\"entries\":[[\"x\",[1,2,3,4]],[\"y\",[6,7,2,4]]]}}},\"view\":{\"type\":\"object\",\"name\":\"CDSView\",\"id\":\"p1043\",\"attributes\":{\"filter\":{\"type\":\"object\",\"name\":\"AllIndices\",\"id\":\"p1044\"}}},\"glyph\":{\"type\":\"object\",\"name\":\"Line\",\"id\":\"p1039\",\"attributes\":{\"x\":{\"type\":\"field\",\"field\":\"x\"},\"y\":{\"type\":\"field\",\"field\":\"y\"},\"line_color\":\"#1f77b4\",\"line_width\":2}},\"nonselection_glyph\":{\"type\":\"object\",\"name\":\"Line\",\"id\":\"p1040\",\"attributes\":{\"x\":{\"type\":\"field\",\"field\":\"x\"},\"y\":{\"type\":\"field\",\"field\":\"y\"},\"line_color\":\"#1f77b4\",\"line_alpha\":0.1,\"line_width\":2}},\"muted_glyph\":{\"type\":\"object\",\"name\":\"Line\",\"id\":\"p1041\",\"attributes\":{\"x\":{\"type\":\"field\",\"field\":\"x\"},\"y\":{\"type\":\"field\",\"field\":\"y\"},\"line_color\":\"#1f77b4\",\"line_alpha\":0.2,\"line_width\":2}}}}],\"toolbar\":{\"type\":\"object\",\"name\":\"Toolbar\",\"id\":\"p1010\",\"attributes\":{\"tools\":[{\"type\":\"object\",\"name\":\"PanTool\",\"id\":\"p1023\"},{\"type\":\"object\",\"name\":\"WheelZoomTool\",\"id\":\"p1024\",\"attributes\":{\"renderers\":\"auto\"}},{\"type\":\"object\",\"name\":\"BoxZoomTool\",\"id\":\"p1025\",\"attributes\":{\"dimensions\":\"both\",\"overlay\":{\"type\":\"object\",\"name\":\"BoxAnnotation\",\"id\":\"p1026\",\"attributes\":{\"syncable\":false,\"line_color\":\"black\",\"line_alpha\":1.0,\"line_width\":2,\"line_dash\":[4,4],\"fill_color\":\"lightgrey\",\"fill_alpha\":0.5,\"level\":\"overlay\",\"visible\":false,\"left\":{\"type\":\"number\",\"value\":\"nan\"},\"right\":{\"type\":\"number\",\"value\":\"nan\"},\"top\":{\"type\":\"number\",\"value\":\"nan\"},\"bottom\":{\"type\":\"number\",\"value\":\"nan\"},\"left_units\":\"canvas\",\"right_units\":\"canvas\",\"top_units\":\"canvas\",\"bottom_units\":\"canvas\",\"handles\":{\"type\":\"object\",\"name\":\"BoxInteractionHandles\",\"id\":\"p1032\",\"attributes\":{\"all\":{\"type\":\"object\",\"name\":\"AreaVisuals\",\"id\":\"p1031\",\"attributes\":{\"fill_color\":\"white\",\"hover_fill_color\":\"lightgray\"}}}}}}}},{\"type\":\"object\",\"name\":\"SaveTool\",\"id\":\"p1033\"},{\"type\":\"object\",\"name\":\"ResetTool\",\"id\":\"p1034\"},{\"type\":\"object\",\"name\":\"HelpTool\",\"id\":\"p1035\"}]}},\"left\":[{\"type\":\"object\",\"name\":\"LinearAxis\",\"id\":\"p1018\",\"attributes\":{\"ticker\":{\"type\":\"object\",\"name\":\"BasicTicker\",\"id\":\"p1019\",\"attributes\":{\"mantissas\":[1,2,5]}},\"formatter\":{\"type\":\"object\",\"name\":\"BasicTickFormatter\",\"id\":\"p1020\"},\"axis_label\":\"y\",\"major_label_policy\":{\"type\":\"object\",\"name\":\"AllLabels\",\"id\":\"p1021\"}}}],\"below\":[{\"type\":\"object\",\"name\":\"LinearAxis\",\"id\":\"p1013\",\"attributes\":{\"ticker\":{\"type\":\"object\",\"name\":\"BasicTicker\",\"id\":\"p1014\",\"attributes\":{\"mantissas\":[1,2,5]}},\"formatter\":{\"type\":\"object\",\"name\":\"BasicTickFormatter\",\"id\":\"p1015\"},\"axis_label\":\"x\",\"major_label_policy\":{\"type\":\"object\",\"name\":\"AllLabels\",\"id\":\"p1016\"}}}],\"center\":[{\"type\":\"object\",\"name\":\"Grid\",\"id\":\"p1017\",\"attributes\":{\"axis\":{\"id\":\"p1013\"}}},{\"type\":\"object\",\"name\":\"Grid\",\"id\":\"p1022\",\"attributes\":{\"dimension\":1,\"axis\":{\"id\":\"p1018\"}}},{\"type\":\"object\",\"name\":\"Legend\",\"id\":\"p1045\",\"attributes\":{\"items\":[{\"type\":\"object\",\"name\":\"LegendItem\",\"id\":\"p1046\",\"attributes\":{\"label\":{\"type\":\"value\",\"value\":\"Line\"},\"renderers\":[{\"id\":\"p1042\"}]}}]}}]}}]}};\n",
              "  const render_items = [{\"docid\":\"24ec8423-352b-4942-86fa-f91c4c3dbb94\",\"roots\":{\"p1001\":\"f8fe2c8d-816b-42b2-8f40-f7b5f0615bd9\"},\"root_ids\":[\"p1001\"]}];\n",
              "  void root.Bokeh.embed.embed_items_notebook(docs_json, render_items);\n",
              "  }\n",
              "  if (root.Bokeh !== undefined) {\n",
              "    embed_document(root);\n",
              "  } else {\n",
              "    let attempts = 0;\n",
              "    const timer = setInterval(function(root) {\n",
              "      if (root.Bokeh !== undefined) {\n",
              "        clearInterval(timer);\n",
              "        embed_document(root);\n",
              "      } else {\n",
              "        attempts++;\n",
              "        if (attempts > 100) {\n",
              "          clearInterval(timer);\n",
              "          console.log(\"Bokeh: ERROR: Unable to run BokehJS code because BokehJS library is missing\");\n",
              "        }\n",
              "      }\n",
              "    }, 10, root)\n",
              "  }\n",
              "})(window);"
            ],
            "application/vnd.bokehjs_exec.v0+json": ""
          },
          "metadata": {
            "application/vnd.bokehjs_exec.v0+json": {
              "id": "p1001"
            }
          }
        }
      ]
    },
    {
      "cell_type": "markdown",
      "source": [
        "**17.Explain the difference between apply() and map() in Pandas?**\n",
        "\n",
        "**17A** - — apply() and map() are both used to transform data in Pandas, but they differ in scope and flexibility.\n",
        "\n",
        "Core Differences Between apply() and map()\n",
        "![2.png](data:image/png;base64,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)"
      ],
      "metadata": {
        "id": "RxTYs_WwyCno"
      }
    },
    {
      "cell_type": "markdown",
      "source": [
        "**18.What are some advanced features of NumPy?**\n",
        "\n",
        "**18A** - NumPy isn’t just about basic arrays — it includes powerful advanced features that make it essential for high-performance numerical computing. Here are some of the most important ones:\n",
        "\n",
        "**1. Broadcasting**\n",
        "\n",
        "Allows operations between arrays of different shapes without copying data.\n",
        "\n",
        "Efficiently expands smaller arrays on-the-fly."
      ],
      "metadata": {
        "id": "jrdKpL1fzGWa"
      }
    },
    {
      "cell_type": "code",
      "source": [
        "#Example\n",
        "a = np.array([1, 2, 3])\n",
        "b = 2\n",
        "a + b"
      ],
      "metadata": {
        "colab": {
          "base_uri": "https://localhost:8080/"
        },
        "id": "W91AK3pAzoot",
        "outputId": "f96ca376-5cc4-41a0-92f5-fd7c52e559ae"
      },
      "execution_count": null,
      "outputs": [
        {
          "output_type": "execute_result",
          "data": {
            "text/plain": [
              "array([3, 4, 5])"
            ]
          },
          "metadata": {},
          "execution_count": 4
        }
      ]
    },
    {
      "cell_type": "markdown",
      "source": [
        "2. Vectorization\n",
        "Applies operations over entire arrays without loops.\n",
        "\n",
        "Uses optimized C-based code under the hood (much faster than Python loops)."
      ],
      "metadata": {
        "id": "h5hz3qwDy50S"
      }
    },
    {
      "cell_type": "code",
      "source": [
        "#Example\n",
        "arr = np.arange(1e6)\n",
        "arr_squared = arr ** 2"
      ],
      "metadata": {
        "id": "eY8jLtPlz4kx"
      },
      "execution_count": null,
      "outputs": []
    },
    {
      "cell_type": "markdown",
      "source": [
        "3. Structured Arrays\n",
        "Like SQL tables: each element can have multiple named fields (with different dtypes)."
      ],
      "metadata": {
        "id": "rAV_ao7nz_Q-"
      }
    },
    {
      "cell_type": "code",
      "source": [
        "#Example\n",
        "dt = np.dtype([('name', 'U10'), ('age', 'i4')])\n",
        "people = np.array([('Alice', 25), ('Bob', 30)], dtype=dt)"
      ],
      "metadata": {
        "id": "tQwlB3Yf0DdK"
      },
      "execution_count": null,
      "outputs": []
    },
    {
      "cell_type": "markdown",
      "source": [
        "4. Memory Mapping (np.memmap)\n",
        "Handles large datasets without loading everything into RAM.\n",
        "\n",
        "Useful for out-of-core computation (like big image/video files).\n",
        "\n",
        "5. Masked Arrays\n",
        "Handles data with missing or invalid entries cleanly using masks."
      ],
      "metadata": {
        "id": "f2nQACfo0PrJ"
      }
    },
    {
      "cell_type": "code",
      "source": [
        "#Example\n",
        "import numpy.ma as ma\n",
        "data = ma.masked_array([1, 2, -999], mask=[0, 0, 1])"
      ],
      "metadata": {
        "id": "VHI-ks2b0Xyt"
      },
      "execution_count": null,
      "outputs": []
    },
    {
      "cell_type": "markdown",
      "source": [
        "**19.How does Pandas simplify time series analysis?**\n",
        "\n",
        "**19A** - Pandas simplifies time series analysis by offering powerful, built-in features for working with dates, times, and time-indexed data — with minimal code and excellent performance.\n",
        "\n",
        "1. Datetime Indexing\n",
        "Pandas allows you to use DatetimeIndex to index and slice time series data naturally."
      ],
      "metadata": {
        "id": "TU3EMP710cE1"
      }
    },
    {
      "cell_type": "code",
      "source": [
        "#Datetime Indexing Pandas allows you to use DatetimeIndex to index and slice time series data naturally.\n",
        "import pandas as pd\n",
        "\n",
        "dates = pd.date_range(\"2023-01-01\", periods=5, freq=\"D\")\n",
        "ts = pd.Series([1, 2, 3, 4, 5], index=dates)\n",
        "\n",
        "ts['2023-01-03']\n",
        "ts['2023-01']"
      ],
      "metadata": {
        "colab": {
          "base_uri": "https://localhost:8080/",
          "height": 241
        },
        "id": "o-PeXEZs02DJ",
        "outputId": "2200cfae-f431-42b2-8523-99d37d36f38e"
      },
      "execution_count": null,
      "outputs": [
        {
          "output_type": "execute_result",
          "data": {
            "text/plain": [
              "2023-01-01    1\n",
              "2023-01-02    2\n",
              "2023-01-03    3\n",
              "2023-01-04    4\n",
              "2023-01-05    5\n",
              "Freq: D, dtype: int64"
            ],
            "text/html": [
              "<div>\n",
              "<style scoped>\n",
              "    .dataframe tbody tr th:only-of-type {\n",
              "        vertical-align: middle;\n",
              "    }\n",
              "\n",
              "    .dataframe tbody tr th {\n",
              "        vertical-align: top;\n",
              "    }\n",
              "\n",
              "    .dataframe thead th {\n",
              "        text-align: right;\n",
              "    }\n",
              "</style>\n",
              "<table border=\"1\" class=\"dataframe\">\n",
              "  <thead>\n",
              "    <tr style=\"text-align: right;\">\n",
              "      <th></th>\n",
              "      <th>0</th>\n",
              "    </tr>\n",
              "  </thead>\n",
              "  <tbody>\n",
              "    <tr>\n",
              "      <th>2023-01-01</th>\n",
              "      <td>1</td>\n",
              "    </tr>\n",
              "    <tr>\n",
              "      <th>2023-01-02</th>\n",
              "      <td>2</td>\n",
              "    </tr>\n",
              "    <tr>\n",
              "      <th>2023-01-03</th>\n",
              "      <td>3</td>\n",
              "    </tr>\n",
              "    <tr>\n",
              "      <th>2023-01-04</th>\n",
              "      <td>4</td>\n",
              "    </tr>\n",
              "    <tr>\n",
              "      <th>2023-01-05</th>\n",
              "      <td>5</td>\n",
              "    </tr>\n",
              "  </tbody>\n",
              "</table>\n",
              "</div><br><label><b>dtype:</b> int64</label>"
            ]
          },
          "metadata": {},
          "execution_count": 8
        }
      ]
    },
    {
      "cell_type": "markdown",
      "source": [
        "**20.What is the role of a pivot table in Pandas?**\n",
        "\n",
        "**20A** - A pivot table in Pandas is a powerful tool for summarizing, aggregating, and reshaping data — especially useful when working with categorical data and statistics.\n",
        "\n",
        "**Primary Role of a Pivot Table:**\n",
        "\n",
        "To transform long-form/tabular data into a summary table that shows metrics (like counts, averages, sums) grouped by one or more categories.\n",
        "\n",
        "**Basic Structure:**\n",
        "\n",
        "A pivot table typically consists of:\n",
        "\n",
        "Rows (index): categories to group by\n",
        "\n",
        "Columns (columns): categories to split by\n",
        "\n",
        "Values (values): the data you want to aggregate\n",
        "\n",
        "Aggregation function (aggfunc): how to summarize the values (default: mean)"
      ],
      "metadata": {
        "id": "NILYekOe1a-T"
      }
    },
    {
      "cell_type": "code",
      "source": [
        "#Example\n",
        "import pandas as pd\n",
        "\n",
        "df = pd.DataFrame({\n",
        "    'Department': ['Sales', 'Sales', 'HR', 'HR', 'IT'],\n",
        "    'Gender': ['F', 'M', 'F', 'M', 'F'],\n",
        "    'Salary': [50000, 55000, 60000, 58000, 62000]\n",
        "})\n",
        "\n",
        "pd.pivot_table(df, index='Department', columns='Gender', values='Salary', aggfunc='mean')"
      ],
      "metadata": {
        "colab": {
          "base_uri": "https://localhost:8080/",
          "height": 175
        },
        "id": "Xt--KajZ14Y0",
        "outputId": "7de7a9e6-6613-4e8f-85f3-95530b05f35a"
      },
      "execution_count": null,
      "outputs": [
        {
          "output_type": "execute_result",
          "data": {
            "text/plain": [
              "Gender            F        M\n",
              "Department                  \n",
              "HR          60000.0  58000.0\n",
              "IT          62000.0      NaN\n",
              "Sales       50000.0  55000.0"
            ],
            "text/html": [
              "\n",
              "  <div id=\"df-1a48d42c-3f7d-409f-9222-b414e191be0c\" class=\"colab-df-container\">\n",
              "    <div>\n",
              "<style scoped>\n",
              "    .dataframe tbody tr th:only-of-type {\n",
              "        vertical-align: middle;\n",
              "    }\n",
              "\n",
              "    .dataframe tbody tr th {\n",
              "        vertical-align: top;\n",
              "    }\n",
              "\n",
              "    .dataframe thead th {\n",
              "        text-align: right;\n",
              "    }\n",
              "</style>\n",
              "<table border=\"1\" class=\"dataframe\">\n",
              "  <thead>\n",
              "    <tr style=\"text-align: right;\">\n",
              "      <th>Gender</th>\n",
              "      <th>F</th>\n",
              "      <th>M</th>\n",
              "    </tr>\n",
              "    <tr>\n",
              "      <th>Department</th>\n",
              "      <th></th>\n",
              "      <th></th>\n",
              "    </tr>\n",
              "  </thead>\n",
              "  <tbody>\n",
              "    <tr>\n",
              "      <th>HR</th>\n",
              "      <td>60000.0</td>\n",
              "      <td>58000.0</td>\n",
              "    </tr>\n",
              "    <tr>\n",
              "      <th>IT</th>\n",
              "      <td>62000.0</td>\n",
              "      <td>NaN</td>\n",
              "    </tr>\n",
              "    <tr>\n",
              "      <th>Sales</th>\n",
              "      <td>50000.0</td>\n",
              "      <td>55000.0</td>\n",
              "    </tr>\n",
              "  </tbody>\n",
              "</table>\n",
              "</div>\n",
              "    <div class=\"colab-df-buttons\">\n",
              "\n",
              "  <div class=\"colab-df-container\">\n",
              "    <button class=\"colab-df-convert\" onclick=\"convertToInteractive('df-1a48d42c-3f7d-409f-9222-b414e191be0c')\"\n",
              "            title=\"Convert this dataframe to an interactive table.\"\n",
              "            style=\"display:none;\">\n",
              "\n",
              "  <svg xmlns=\"http://www.w3.org/2000/svg\" height=\"24px\" viewBox=\"0 -960 960 960\">\n",
              "    <path d=\"M120-120v-720h720v720H120Zm60-500h600v-160H180v160Zm220 220h160v-160H400v160Zm0 220h160v-160H400v160ZM180-400h160v-160H180v160Zm440 0h160v-160H620v160ZM180-180h160v-160H180v160Zm440 0h160v-160H620v160Z\"/>\n",
              "  </svg>\n",
              "    </button>\n",
              "\n",
              "  <style>\n",
              "    .colab-df-container {\n",
              "      display:flex;\n",
              "      gap: 12px;\n",
              "    }\n",
              "\n",
              "    .colab-df-convert {\n",
              "      background-color: #E8F0FE;\n",
              "      border: none;\n",
              "      border-radius: 50%;\n",
              "      cursor: pointer;\n",
              "      display: none;\n",
              "      fill: #1967D2;\n",
              "      height: 32px;\n",
              "      padding: 0 0 0 0;\n",
              "      width: 32px;\n",
              "    }\n",
              "\n",
              "    .colab-df-convert:hover {\n",
              "      background-color: #E2EBFA;\n",
              "      box-shadow: 0px 1px 2px rgba(60, 64, 67, 0.3), 0px 1px 3px 1px rgba(60, 64, 67, 0.15);\n",
              "      fill: #174EA6;\n",
              "    }\n",
              "\n",
              "    .colab-df-buttons div {\n",
              "      margin-bottom: 4px;\n",
              "    }\n",
              "\n",
              "    [theme=dark] .colab-df-convert {\n",
              "      background-color: #3B4455;\n",
              "      fill: #D2E3FC;\n",
              "    }\n",
              "\n",
              "    [theme=dark] .colab-df-convert:hover {\n",
              "      background-color: #434B5C;\n",
              "      box-shadow: 0px 1px 3px 1px rgba(0, 0, 0, 0.15);\n",
              "      filter: drop-shadow(0px 1px 2px rgba(0, 0, 0, 0.3));\n",
              "      fill: #FFFFFF;\n",
              "    }\n",
              "  </style>\n",
              "\n",
              "    <script>\n",
              "      const buttonEl =\n",
              "        document.querySelector('#df-1a48d42c-3f7d-409f-9222-b414e191be0c button.colab-df-convert');\n",
              "      buttonEl.style.display =\n",
              "        google.colab.kernel.accessAllowed ? 'block' : 'none';\n",
              "\n",
              "      async function convertToInteractive(key) {\n",
              "        const element = document.querySelector('#df-1a48d42c-3f7d-409f-9222-b414e191be0c');\n",
              "        const dataTable =\n",
              "          await google.colab.kernel.invokeFunction('convertToInteractive',\n",
              "                                                    [key], {});\n",
              "        if (!dataTable) return;\n",
              "\n",
              "        const docLinkHtml = 'Like what you see? Visit the ' +\n",
              "          '<a target=\"_blank\" href=https://colab.research.google.com/notebooks/data_table.ipynb>data table notebook</a>'\n",
              "          + ' to learn more about interactive tables.';\n",
              "        element.innerHTML = '';\n",
              "        dataTable['output_type'] = 'display_data';\n",
              "        await google.colab.output.renderOutput(dataTable, element);\n",
              "        const docLink = document.createElement('div');\n",
              "        docLink.innerHTML = docLinkHtml;\n",
              "        element.appendChild(docLink);\n",
              "      }\n",
              "    </script>\n",
              "  </div>\n",
              "\n",
              "\n",
              "    <div id=\"df-6c2240ad-fe76-44e5-9871-5d53c45a285b\">\n",
              "      <button class=\"colab-df-quickchart\" onclick=\"quickchart('df-6c2240ad-fe76-44e5-9871-5d53c45a285b')\"\n",
              "                title=\"Suggest charts\"\n",
              "                style=\"display:none;\">\n",
              "\n",
              "<svg xmlns=\"http://www.w3.org/2000/svg\" height=\"24px\"viewBox=\"0 0 24 24\"\n",
              "     width=\"24px\">\n",
              "    <g>\n",
              "        <path d=\"M19 3H5c-1.1 0-2 .9-2 2v14c0 1.1.9 2 2 2h14c1.1 0 2-.9 2-2V5c0-1.1-.9-2-2-2zM9 17H7v-7h2v7zm4 0h-2V7h2v10zm4 0h-2v-4h2v4z\"/>\n",
              "    </g>\n",
              "</svg>\n",
              "      </button>\n",
              "\n",
              "<style>\n",
              "  .colab-df-quickchart {\n",
              "      --bg-color: #E8F0FE;\n",
              "      --fill-color: #1967D2;\n",
              "      --hover-bg-color: #E2EBFA;\n",
              "      --hover-fill-color: #174EA6;\n",
              "      --disabled-fill-color: #AAA;\n",
              "      --disabled-bg-color: #DDD;\n",
              "  }\n",
              "\n",
              "  [theme=dark] .colab-df-quickchart {\n",
              "      --bg-color: #3B4455;\n",
              "      --fill-color: #D2E3FC;\n",
              "      --hover-bg-color: #434B5C;\n",
              "      --hover-fill-color: #FFFFFF;\n",
              "      --disabled-bg-color: #3B4455;\n",
              "      --disabled-fill-color: #666;\n",
              "  }\n",
              "\n",
              "  .colab-df-quickchart {\n",
              "    background-color: var(--bg-color);\n",
              "    border: none;\n",
              "    border-radius: 50%;\n",
              "    cursor: pointer;\n",
              "    display: none;\n",
              "    fill: var(--fill-color);\n",
              "    height: 32px;\n",
              "    padding: 0;\n",
              "    width: 32px;\n",
              "  }\n",
              "\n",
              "  .colab-df-quickchart:hover {\n",
              "    background-color: var(--hover-bg-color);\n",
              "    box-shadow: 0 1px 2px rgba(60, 64, 67, 0.3), 0 1px 3px 1px rgba(60, 64, 67, 0.15);\n",
              "    fill: var(--button-hover-fill-color);\n",
              "  }\n",
              "\n",
              "  .colab-df-quickchart-complete:disabled,\n",
              "  .colab-df-quickchart-complete:disabled:hover {\n",
              "    background-color: var(--disabled-bg-color);\n",
              "    fill: var(--disabled-fill-color);\n",
              "    box-shadow: none;\n",
              "  }\n",
              "\n",
              "  .colab-df-spinner {\n",
              "    border: 2px solid var(--fill-color);\n",
              "    border-color: transparent;\n",
              "    border-bottom-color: var(--fill-color);\n",
              "    animation:\n",
              "      spin 1s steps(1) infinite;\n",
              "  }\n",
              "\n",
              "  @keyframes spin {\n",
              "    0% {\n",
              "      border-color: transparent;\n",
              "      border-bottom-color: var(--fill-color);\n",
              "      border-left-color: var(--fill-color);\n",
              "    }\n",
              "    20% {\n",
              "      border-color: transparent;\n",
              "      border-left-color: var(--fill-color);\n",
              "      border-top-color: var(--fill-color);\n",
              "    }\n",
              "    30% {\n",
              "      border-color: transparent;\n",
              "      border-left-color: var(--fill-color);\n",
              "      border-top-color: var(--fill-color);\n",
              "      border-right-color: var(--fill-color);\n",
              "    }\n",
              "    40% {\n",
              "      border-color: transparent;\n",
              "      border-right-color: var(--fill-color);\n",
              "      border-top-color: var(--fill-color);\n",
              "    }\n",
              "    60% {\n",
              "      border-color: transparent;\n",
              "      border-right-color: var(--fill-color);\n",
              "    }\n",
              "    80% {\n",
              "      border-color: transparent;\n",
              "      border-right-color: var(--fill-color);\n",
              "      border-bottom-color: var(--fill-color);\n",
              "    }\n",
              "    90% {\n",
              "      border-color: transparent;\n",
              "      border-bottom-color: var(--fill-color);\n",
              "    }\n",
              "  }\n",
              "</style>\n",
              "\n",
              "      <script>\n",
              "        async function quickchart(key) {\n",
              "          const quickchartButtonEl =\n",
              "            document.querySelector('#' + key + ' button');\n",
              "          quickchartButtonEl.disabled = true;  // To prevent multiple clicks.\n",
              "          quickchartButtonEl.classList.add('colab-df-spinner');\n",
              "          try {\n",
              "            const charts = await google.colab.kernel.invokeFunction(\n",
              "                'suggestCharts', [key], {});\n",
              "          } catch (error) {\n",
              "            console.error('Error during call to suggestCharts:', error);\n",
              "          }\n",
              "          quickchartButtonEl.classList.remove('colab-df-spinner');\n",
              "          quickchartButtonEl.classList.add('colab-df-quickchart-complete');\n",
              "        }\n",
              "        (() => {\n",
              "          let quickchartButtonEl =\n",
              "            document.querySelector('#df-6c2240ad-fe76-44e5-9871-5d53c45a285b button');\n",
              "          quickchartButtonEl.style.display =\n",
              "            google.colab.kernel.accessAllowed ? 'block' : 'none';\n",
              "        })();\n",
              "      </script>\n",
              "    </div>\n",
              "\n",
              "    </div>\n",
              "  </div>\n"
            ],
            "application/vnd.google.colaboratory.intrinsic+json": {
              "type": "dataframe",
              "summary": "{\n  \"name\": \"pd\",\n  \"rows\": 3,\n  \"fields\": [\n    {\n      \"column\": \"Department\",\n      \"properties\": {\n        \"dtype\": \"string\",\n        \"num_unique_values\": 3,\n        \"samples\": [\n          \"HR\",\n          \"IT\",\n          \"Sales\"\n        ],\n        \"semantic_type\": \"\",\n        \"description\": \"\"\n      }\n    },\n    {\n      \"column\": \"F\",\n      \"properties\": {\n        \"dtype\": \"number\",\n        \"std\": 6429.100507328636,\n        \"min\": 50000.0,\n        \"max\": 62000.0,\n        \"num_unique_values\": 3,\n        \"samples\": [\n          60000.0,\n          62000.0,\n          50000.0\n        ],\n        \"semantic_type\": \"\",\n        \"description\": \"\"\n      }\n    },\n    {\n      \"column\": \"M\",\n      \"properties\": {\n        \"dtype\": \"number\",\n        \"std\": 2121.3203435596424,\n        \"min\": 55000.0,\n        \"max\": 58000.0,\n        \"num_unique_values\": 2,\n        \"samples\": [\n          55000.0,\n          58000.0\n        ],\n        \"semantic_type\": \"\",\n        \"description\": \"\"\n      }\n    }\n  ]\n}"
            }
          },
          "metadata": {},
          "execution_count": 11
        }
      ]
    },
    {
      "cell_type": "markdown",
      "source": [
        "**21.Why is NumPy’s array slicing faster than Python’s list slicing?**\n",
        "\n",
        "**21A** - NumPy’s array slicing is faster and more memory-efficient than Python list slicing due to its low-level, optimized implementation and view-based slicing mechanism.\n",
        "\n",
        "**Here’s why:**\n",
        "\n",
        "**1. Contiguous Memory Storage**\n",
        "\n",
        "NumPy arrays are stored in contiguous blocks of memory (like C arrays).\n",
        "\n",
        "Python lists are collections of pointers to objects scattered in memory.\n",
        "\n",
        "**Result:** NumPy can perform vectorized operations directly in memory without extra overhead.\n",
        "\n",
        "**2. Views Instead of Copies**\n",
        "\n",
        "NumPy slicing returns a view of the original data — no data is copied."
      ],
      "metadata": {
        "id": "VRq9nPfv2R3r"
      }
    },
    {
      "cell_type": "code",
      "source": [
        "#Example\n",
        "arr = np.array([1, 2, 3, 4])\n",
        "sliced = arr[1:3]\n",
        "sliced[0] = 99\n",
        "print(arr)"
      ],
      "metadata": {
        "colab": {
          "base_uri": "https://localhost:8080/"
        },
        "id": "4teQOkrj2v5l",
        "outputId": "20856845-f70e-4076-e18f-f1d732059b44"
      },
      "execution_count": null,
      "outputs": [
        {
          "output_type": "stream",
          "name": "stdout",
          "text": [
            "[ 1 99  3  4]\n"
          ]
        }
      ]
    },
    {
      "cell_type": "markdown",
      "source": [
        "Python list slicing creates a new list (a copy) every time.\n",
        "\n",
        "**Result:** Slicing in NumPy is faster and uses less memory.\n",
        "\n",
        "**3. Low-Level Optimizations**\n",
        "\n",
        "NumPy is built in C, so its operations run at compiled speed.\n",
        "\n",
        "Python list operations are interpreted at runtime, which is slower.\n",
        "\n",
        "**Result:** NumPy can process data using fast, compiled loops under the hood.\n",
        "\n",
        "**4. Homogeneous Data Types**\n",
        "\n",
        "NumPy arrays store elements of the same data type, allowing SIMD (vectorized) processing.\n",
        "\n",
        "Python lists can store anything (mixed types), which slows down iteration and processing.\n",
        "\n"
      ],
      "metadata": {
        "id": "uiAybIDW27Xz"
      }
    },
    {
      "cell_type": "markdown",
      "source": [
        "**22.What are some common use cases for Seaborn?**\n",
        "\n",
        "**22A** - Seaborn is a powerful Python data visualization library built on top of Matplotlib. It simplifies the creation of complex visualizations and enhances Matplotlib's functionality. Here are some common use cases for Seaborn:\n",
        "\n",
        "1. Statistical Plots\n",
        "Seaborn is particularly designed for statistical data visualization, making it easy to create plots that show relationships between variables, distributions, and trends."
      ],
      "metadata": {
        "id": "gRapQtvJ3JNY"
      }
    },
    {
      "cell_type": "code",
      "source": [
        "#Example\n",
        "\n",
        "#Distribution Plots: Visualizing the distribution of data (histograms, KDEs, etc.).\n",
        "\n",
        "import seaborn as sns\n",
        "sns.histplot(data=df, x=\"column_name\", kde=True)\n",
        "\n",
        "#Box Plots: Visualizing the spread and summary statistics (min, max, quartiles) of a dataset.\n",
        "\n",
        "sns.boxplot(x=\"category\", y=\"value\", data=df)\n",
        "\n",
        "#Violin Plots: Combining aspects of box plots and KDEs for a more detailed distribution.\n",
        "\n",
        "sns.violinplot(x=\"category\", y=\"value\", data=df)"
      ],
      "metadata": {
        "id": "305VqHNR22ib"
      },
      "execution_count": null,
      "outputs": []
    },
    {
      "cell_type": "markdown",
      "source": [
        "**PRACTICAL ANSWER SHEET**\n"
      ],
      "metadata": {
        "id": "H5EqWxn7IJBI"
      }
    },
    {
      "cell_type": "markdown",
      "source": [
        "**1.How do you create a 2D NumPy array and calculate the sum of each row?**\n",
        "\n",
        "**1A** - To create a 2D NumPy array and calculate the sum of each row, follow these steps:\n",
        "\n",
        "**1.Import Numpy**\n",
        "\n"
      ],
      "metadata": {
        "id": "J_jl6MLrIIiu"
      }
    },
    {
      "cell_type": "code",
      "source": [
        "import numpy as np"
      ],
      "metadata": {
        "id": "dwVtj-TdI1Ni"
      },
      "execution_count": 3,
      "outputs": []
    },
    {
      "cell_type": "markdown",
      "source": [
        "**2. Create a 2D NumPy array**\n",
        "\n",
        "You can define the array manually or generate it using functions like np.array(), np.random.rand(), or np.arange() reshaped."
      ],
      "metadata": {
        "id": "WXAmgRUVI2ij"
      }
    },
    {
      "cell_type": "code",
      "source": [
        "#Example\n",
        "array_2d = np.array([[1, 2, 3],\n",
        "                     [4, 5, 6],\n",
        "                     [7, 8, 9]])"
      ],
      "metadata": {
        "id": "Y1dGyOFeJJy1"
      },
      "execution_count": 5,
      "outputs": []
    },
    {
      "cell_type": "markdown",
      "source": [
        "**3. Calculate the sum of each row**\n",
        "\n",
        "Use np.sum() with the axis=1 parameter to sum across columns (i.e., row-wise):"
      ],
      "metadata": {
        "id": "HLwvjSzmJUqJ"
      }
    },
    {
      "cell_type": "code",
      "source": [
        "row_sums = np.sum(array_2d, axis=1)\n",
        "print(row_sums)"
      ],
      "metadata": {
        "colab": {
          "base_uri": "https://localhost:8080/"
        },
        "id": "4rfFO0LvJM1j",
        "outputId": "f1da8b62-aad5-45fd-e058-4ec9fe9ce344"
      },
      "execution_count": 6,
      "outputs": [
        {
          "output_type": "stream",
          "name": "stdout",
          "text": [
            "[ 6 15 24]\n"
          ]
        }
      ]
    },
    {
      "cell_type": "markdown",
      "source": [
        "**2.Write a Pandas script to find the mean of a specific column in a DataFrame?**"
      ],
      "metadata": {
        "id": "tg7apt31KNPy"
      }
    },
    {
      "cell_type": "code",
      "source": [
        "#2A\n",
        "\n",
        "import pandas as pd\n",
        "\n",
        "data = {\n",
        "    'Name': ['Alice', 'Bob', 'Charlie', 'David'],\n",
        "    'Age': [25, 30, 35, 40],\n",
        "    'Salary': [50000, 60000, 70000, 80000]\n",
        "}\n",
        "\n",
        "df = pd.DataFrame(data)\n",
        "\n",
        "mean_salary = df['Salary'].mean()\n",
        "\n",
        "print(\"Mean Salary:\", mean_salary)"
      ],
      "metadata": {
        "colab": {
          "base_uri": "https://localhost:8080/"
        },
        "id": "Yi7aN_VdKdwQ",
        "outputId": "e1b1b647-3efc-40f0-d8a5-f327facb607c"
      },
      "execution_count": 7,
      "outputs": [
        {
          "output_type": "stream",
          "name": "stdout",
          "text": [
            "Mean Salary: 65000.0\n"
          ]
        }
      ]
    },
    {
      "cell_type": "markdown",
      "source": [
        "**3.Create a scatter plot using Matplotlib?**"
      ],
      "metadata": {
        "id": "7NO4I7h4Kkgk"
      }
    },
    {
      "cell_type": "code",
      "source": [
        "#3A\n",
        "\n",
        "import matplotlib.pyplot as plt\n",
        "\n",
        "x = [25, 30, 35, 40]\n",
        "y = [50000, 60000, 70000, 80000]\n",
        "\n",
        "plt.scatter(x, y, color='blue', marker='o')\n",
        "\n",
        "plt.xlabel('Age')\n",
        "plt.ylabel('Salary')\n",
        "plt.title('Age vs Salary')\n",
        "\n",
        "plt.grid(True)\n",
        "plt.show()"
      ],
      "metadata": {
        "colab": {
          "base_uri": "https://localhost:8080/",
          "height": 472
        },
        "id": "M_UY2mwBKitU",
        "outputId": "4ed2772b-afdb-47f6-8fa6-8063742b6419"
      },
      "execution_count": 8,
      "outputs": [
        {
          "output_type": "display_data",
          "data": {
            "text/plain": [
              "<Figure size 640x480 with 1 Axes>"
            ],
            "image/png": "[encoded data removed]"
          },
          "metadata": {}
        }
      ]
    },
    {
      "cell_type": "markdown",
      "source": [
        "**4.How do you calculate the correlation matrix using Seaborn and visualize it with a heatmap?**"
      ],
      "metadata": {
        "id": "e77NAEaCLGIw"
      }
    },
    {
      "cell_type": "code",
      "source": [
        "#4A\n",
        "#To calculate a correlation matrix using Pandas and visualize it with a heatmap using Seaborn\n",
        "\n",
        "import pandas as pd\n",
        "import seaborn as sns\n",
        "import matplotlib.pyplot as plt\n",
        "\n",
        "data = {\n",
        "    'Age': [25, 30, 35, 40],\n",
        "    'Salary': [50000, 60000, 70000, 80000],\n",
        "    'Experience': [1, 3, 5, 7]\n",
        "}\n",
        "\n",
        "df = pd.DataFrame(data)\n",
        "\n",
        "corr_matrix = df.corr()\n",
        "\n",
        "sns.heatmap(corr_matrix, annot=True, cmap='coolwarm', linewidths=0.5)\n",
        "plt.title('Correlation Matrix Heatmap')\n",
        "plt.show()\n"
      ],
      "metadata": {
        "colab": {
          "base_uri": "https://localhost:8080/",
          "height": 452
        },
        "id": "5851REnkK_1O",
        "outputId": "8a9984cd-2a88-457c-fecd-979fb078f7bd"
      },
      "execution_count": 9,
      "outputs": [
        {
          "output_type": "display_data",
          "data": {
            "text/plain": [
              "<Figure size 640x480 with 2 Axes>"
            ],
            "image/png": "[encoded data removed]"
          },
          "metadata": {}
        }
      ]
    },
    {
      "cell_type": "markdown",
      "source": [
        "**5.Generate a bar plot using Plotly?**"
      ],
      "metadata": {
        "id": "xKYGvW-FLgQ6"
      }
    },
    {
      "cell_type": "code",
      "source": [
        "#5A\n",
        "\n",
        "import plotly.express as px\n",
        "import pandas as pd\n",
        "\n",
        "data = {\n",
        "    'Name': ['Alice', 'Bob', 'Charlie', 'David'],\n",
        "    'Salary': [50000, 60000, 70000, 80000]\n",
        "}\n",
        "\n",
        "df = pd.DataFrame(data)\n",
        "\n",
        "fig = px.bar(df, x='Name', y='Salary', title='Salary by Employee', text='Salary')\n",
        "\n",
        "fig.update_traces(marker_color='skyblue', textposition='outside')\n",
        "fig.update_layout(yaxis_title='Salary ($)', xaxis_title='Employee')\n",
        "\n",
        "fig.show()"
      ],
      "metadata": {
        "colab": {
          "base_uri": "https://localhost:8080/",
          "height": 542
        },
        "id": "Zwy6mBfYLpdp",
        "outputId": "82048198-e894-465c-9c28-0a12a942e182"
      },
      "execution_count": 10,
      "outputs": [
        {
          "output_type": "display_data",
          "data": {
            "text/html": [
              "<html>\n",
              "<head><meta charset=\"utf-8\" /></head>\n",
              "<body>\n",
              "    <div>            <script src=\"https://cdnjs.cloudflare.com/ajax/libs/mathjax/2.7.5/MathJax.js?config=TeX-AMS-MML_SVG\"></script><script type=\"text/javascript\">if (window.MathJax && window.MathJax.Hub && window.MathJax.Hub.Config) {window.MathJax.Hub.Config({SVG: {font: \"STIX-Web\"}});}</script>                <script type=\"text/javascript\">window.PlotlyConfig = {MathJaxConfig: 'local'};</script>\n",
              "        <script charset=\"utf-8\" src=\"https://cdn.plot.ly/plotly-2.35.2.min.js\"></script>                <div id=\"3d6561f4-6cb9-4b5d-931b-b30d3f0f5c75\" class=\"plotly-graph-div\" style=\"height:525px; width:100%;\"></div>            <script type=\"text/javascript\">                                    window.PLOTLYENV=window.PLOTLYENV || {};                                    if (document.getElementById(\"3d6561f4-6cb9-4b5d-931b-b30d3f0f5c75\")) {                    Plotly.newPlot(                        \"3d6561f4-6cb9-4b5d-931b-b30d3f0f5c75\",                        [{\"alignmentgroup\":\"True\",\"hovertemplate\":\"Name=%{x}\\u003cbr\\u003eSalary=%{text}\\u003cextra\\u003e\\u003c\\u002fextra\\u003e\",\"legendgroup\":\"\",\"marker\":{\"color\":\"skyblue\",\"pattern\":{\"shape\":\"\"}},\"name\":\"\",\"offsetgroup\":\"\",\"orientation\":\"v\",\"showlegend\":false,\"text\":[50000.0,60000.0,70000.0,80000.0],\"textposition\":\"outside\",\"x\":[\"Alice\",\"Bob\",\"Charlie\",\"David\"],\"xaxis\":\"x\",\"y\":[50000,60000,70000,80000],\"yaxis\":\"y\",\"type\":\"bar\"}],                        {\"template\":{\"data\":{\"histogram2dcontour\":[{\"type\":\"histogram2dcontour\",\"colorbar\":{\"outlinewidth\":0,\"ticks\":\"\"},\"colorscale\":[[0.0,\"#0d0887\"],[0.1111111111111111,\"#46039f\"],[0.2222222222222222,\"#7201a8\"],[0.3333333333333333,\"#9c179e\"],[0.4444444444444444,\"#bd3786\"],[0.5555555555555556,\"#d8576b\"],[0.6666666666666666,\"#ed7953\"],[0.7777777777777778,\"#fb9f3a\"],[0.8888888888888888,\"#fdca26\"],[1.0,\"#f0f921\"]]}],\"choropleth\":[{\"type\":\"choropleth\",\"colorbar\":{\"outlinewidth\":0,\"ticks\":\"\"}}],\"histogram2d\":[{\"type\":\"histogram2d\",\"colorbar\":{\"outlinewidth\":0,\"ticks\":\"\"},\"colorscale\":[[0.0,\"#0d0887\"],[0.1111111111111111,\"#46039f\"],[0.2222222222222222,\"#7201a8\"],[0.3333333333333333,\"#9c179e\"],[0.4444444444444444,\"#bd3786\"],[0.5555555555555556,\"#d8576b\"],[0.6666666666666666,\"#ed7953\"],[0.7777777777777778,\"#fb9f3a\"],[0.8888888888888888,\"#fdca26\"],[1.0,\"#f0f921\"]]}],\"heatmap\":[{\"type\":\"heatmap\",\"colorbar\":{\"outlinewidth\":0,\"ticks\":\"\"},\"colorscale\":[[0.0,\"#0d0887\"],[0.1111111111111111,\"#46039f\"],[0.2222222222222222,\"#7201a8\"],[0.3333333333333333,\"#9c179e\"],[0.4444444444444444,\"#bd3786\"],[0.5555555555555556,\"#d8576b\"],[0.6666666666666666,\"#ed7953\"],[0.7777777777777778,\"#fb9f3a\"],[0.8888888888888888,\"#fdca26\"],[1.0,\"#f0f921\"]]}],\"heatmapgl\":[{\"type\":\"heatmapgl\",\"colorbar\":{\"outlinewidth\":0,\"ticks\":\"\"},\"colorscale\":[[0.0,\"#0d0887\"],[0.1111111111111111,\"#46039f\"],[0.2222222222222222,\"#7201a8\"],[0.3333333333333333,\"#9c179e\"],[0.4444444444444444,\"#bd3786\"],[0.5555555555555556,\"#d8576b\"],[0.6666666666666666,\"#ed7953\"],[0.7777777777777778,\"#fb9f3a\"],[0.8888888888888888,\"#fdca26\"],[1.0,\"#f0f921\"]]}],\"contourcarpet\":[{\"type\":\"contourcarpet\",\"colorbar\":{\"outlinewidth\":0,\"ticks\":\"\"}}],\"contour\":[{\"type\":\"contour\",\"colorbar\":{\"outlinewidth\":0,\"ticks\":\"\"},\"colorscale\":[[0.0,\"#0d0887\"],[0.1111111111111111,\"#46039f\"],[0.2222222222222222,\"#7201a8\"],[0.3333333333333333,\"#9c179e\"],[0.4444444444444444,\"#bd3786\"],[0.5555555555555556,\"#d8576b\"],[0.6666666666666666,\"#ed7953\"],[0.7777777777777778,\"#fb9f3a\"],[0.8888888888888888,\"#fdca26\"],[1.0,\"#f0f921\"]]}],\"surface\":[{\"type\":\"surface\",\"colorbar\":{\"outlinewidth\":0,\"ticks\":\"\"},\"colorscale\":[[0.0,\"#0d0887\"],[0.1111111111111111,\"#46039f\"],[0.2222222222222222,\"#7201a8\"],[0.3333333333333333,\"#9c179e\"],[0.4444444444444444,\"#bd3786\"],[0.5555555555555556,\"#d8576b\"],[0.6666666666666666,\"#ed7953\"],[0.7777777777777778,\"#fb9f3a\"],[0.8888888888888888,\"#fdca26\"],[1.0,\"#f0f921\"]]}],\"mesh3d\":[{\"type\":\"mesh3d\",\"colorbar\":{\"outlinewidth\":0,\"ticks\":\"\"}}],\"scatter\":[{\"fillpattern\":{\"fillmode\":\"overlay\",\"size\":10,\"solidity\":0.2},\"type\":\"scatter\"}],\"parcoords\":[{\"type\":\"parcoords\",\"line\":{\"colorbar\":{\"outlinewidth\":0,\"ticks\":\"\"}}}],\"scatterpolargl\":[{\"type\":\"scatterpolargl\",\"marker\":{\"colorbar\":{\"outlinewidth\":0,\"ticks\":\"\"}}}],\"bar\":[{\"error_x\":{\"color\":\"#2a3f5f\"},\"error_y\":{\"color\":\"#2a3f5f\"},\"marker\":{\"line\":{\"color\":\"#E5ECF6\",\"width\":0.5},\"pattern\":{\"fillmode\":\"overlay\",\"size\":10,\"solidity\":0.2}},\"type\":\"bar\"}],\"scattergeo\":[{\"type\":\"scattergeo\",\"marker\":{\"colorbar\":{\"outlinewidth\":0,\"ticks\":\"\"}}}],\"scatterpolar\":[{\"type\":\"scatterpolar\",\"marker\":{\"colorbar\":{\"outlinewidth\":0,\"ticks\":\"\"}}}],\"histogram\":[{\"marker\":{\"pattern\":{\"fillmode\":\"overlay\",\"size\":10,\"solidity\":0.2}},\"type\":\"histogram\"}],\"scattergl\":[{\"type\":\"scattergl\",\"marker\":{\"colorbar\":{\"outlinewidth\":0,\"ticks\":\"\"}}}],\"scatter3d\":[{\"type\":\"scatter3d\",\"line\":{\"colorbar\":{\"outlinewidth\":0,\"ticks\":\"\"}},\"marker\":{\"colorbar\":{\"outlinewidth\":0,\"ticks\":\"\"}}}],\"scattermapbox\":[{\"type\":\"scattermapbox\",\"marker\":{\"colorbar\":{\"outlinewidth\":0,\"ticks\":\"\"}}}],\"scatterternary\":[{\"type\":\"scatterternary\",\"marker\":{\"colorbar\":{\"outlinewidth\":0,\"ticks\":\"\"}}}],\"scattercarpet\":[{\"type\":\"scattercarpet\",\"marker\":{\"colorbar\":{\"outlinewidth\":0,\"ticks\":\"\"}}}],\"carpet\":[{\"aaxis\":{\"endlinecolor\":\"#2a3f5f\",\"gridcolor\":\"white\",\"linecolor\":\"white\",\"minorgridcolor\":\"white\",\"startlinecolor\":\"#2a3f5f\"},\"baxis\":{\"endlinecolor\":\"#2a3f5f\",\"gridcolor\":\"white\",\"linecolor\":\"white\",\"minorgridcolor\":\"white\",\"startlinecolor\":\"#2a3f5f\"},\"type\":\"carpet\"}],\"table\":[{\"cells\":{\"fill\":{\"color\":\"#EBF0F8\"},\"line\":{\"color\":\"white\"}},\"header\":{\"fill\":{\"color\":\"#C8D4E3\"},\"line\":{\"color\":\"white\"}},\"type\":\"table\"}],\"barpolar\":[{\"marker\":{\"line\":{\"color\":\"#E5ECF6\",\"width\":0.5},\"pattern\":{\"fillmode\":\"overlay\",\"size\":10,\"solidity\":0.2}},\"type\":\"barpolar\"}],\"pie\":[{\"automargin\":true,\"type\":\"pie\"}]},\"layout\":{\"autotypenumbers\":\"strict\",\"colorway\":[\"#636efa\",\"#EF553B\",\"#00cc96\",\"#ab63fa\",\"#FFA15A\",\"#19d3f3\",\"#FF6692\",\"#B6E880\",\"#FF97FF\",\"#FECB52\"],\"font\":{\"color\":\"#2a3f5f\"},\"hovermode\":\"closest\",\"hoverlabel\":{\"align\":\"left\"},\"paper_bgcolor\":\"white\",\"plot_bgcolor\":\"#E5ECF6\",\"polar\":{\"bgcolor\":\"#E5ECF6\",\"angularaxis\":{\"gridcolor\":\"white\",\"linecolor\":\"white\",\"ticks\":\"\"},\"radialaxis\":{\"gridcolor\":\"white\",\"linecolor\":\"white\",\"ticks\":\"\"}},\"ternary\":{\"bgcolor\":\"#E5ECF6\",\"aaxis\":{\"gridcolor\":\"white\",\"linecolor\":\"white\",\"ticks\":\"\"},\"baxis\":{\"gridcolor\":\"white\",\"linecolor\":\"white\",\"ticks\":\"\"},\"caxis\":{\"gridcolor\":\"white\",\"linecolor\":\"white\",\"ticks\":\"\"}},\"coloraxis\":{\"colorbar\":{\"outlinewidth\":0,\"ticks\":\"\"}},\"colorscale\":{\"sequential\":[[0.0,\"#0d0887\"],[0.1111111111111111,\"#46039f\"],[0.2222222222222222,\"#7201a8\"],[0.3333333333333333,\"#9c179e\"],[0.4444444444444444,\"#bd3786\"],[0.5555555555555556,\"#d8576b\"],[0.6666666666666666,\"#ed7953\"],[0.7777777777777778,\"#fb9f3a\"],[0.8888888888888888,\"#fdca26\"],[1.0,\"#f0f921\"]],\"sequentialminus\":[[0.0,\"#0d0887\"],[0.1111111111111111,\"#46039f\"],[0.2222222222222222,\"#7201a8\"],[0.3333333333333333,\"#9c179e\"],[0.4444444444444444,\"#bd3786\"],[0.5555555555555556,\"#d8576b\"],[0.6666666666666666,\"#ed7953\"],[0.7777777777777778,\"#fb9f3a\"],[0.8888888888888888,\"#fdca26\"],[1.0,\"#f0f921\"]],\"diverging\":[[0,\"#8e0152\"],[0.1,\"#c51b7d\"],[0.2,\"#de77ae\"],[0.3,\"#f1b6da\"],[0.4,\"#fde0ef\"],[0.5,\"#f7f7f7\"],[0.6,\"#e6f5d0\"],[0.7,\"#b8e186\"],[0.8,\"#7fbc41\"],[0.9,\"#4d9221\"],[1,\"#276419\"]]},\"xaxis\":{\"gridcolor\":\"white\",\"linecolor\":\"white\",\"ticks\":\"\",\"title\":{\"standoff\":15},\"zerolinecolor\":\"white\",\"automargin\":true,\"zerolinewidth\":2},\"yaxis\":{\"gridcolor\":\"white\",\"linecolor\":\"white\",\"ticks\":\"\",\"title\":{\"standoff\":15},\"zerolinecolor\":\"white\",\"automargin\":true,\"zerolinewidth\":2},\"scene\":{\"xaxis\":{\"backgroundcolor\":\"#E5ECF6\",\"gridcolor\":\"white\",\"linecolor\":\"white\",\"showbackground\":true,\"ticks\":\"\",\"zerolinecolor\":\"white\",\"gridwidth\":2},\"yaxis\":{\"backgroundcolor\":\"#E5ECF6\",\"gridcolor\":\"white\",\"linecolor\":\"white\",\"showbackground\":true,\"ticks\":\"\",\"zerolinecolor\":\"white\",\"gridwidth\":2},\"zaxis\":{\"backgroundcolor\":\"#E5ECF6\",\"gridcolor\":\"white\",\"linecolor\":\"white\",\"showbackground\":true,\"ticks\":\"\",\"zerolinecolor\":\"white\",\"gridwidth\":2}},\"shapedefaults\":{\"line\":{\"color\":\"#2a3f5f\"}},\"annotationdefaults\":{\"arrowcolor\":\"#2a3f5f\",\"arrowhead\":0,\"arrowwidth\":1},\"geo\":{\"bgcolor\":\"white\",\"landcolor\":\"#E5ECF6\",\"subunitcolor\":\"white\",\"showland\":true,\"showlakes\":true,\"lakecolor\":\"white\"},\"title\":{\"x\":0.05},\"mapbox\":{\"style\":\"light\"}}},\"xaxis\":{\"anchor\":\"y\",\"domain\":[0.0,1.0],\"title\":{\"text\":\"Employee\"}},\"yaxis\":{\"anchor\":\"x\",\"domain\":[0.0,1.0],\"title\":{\"text\":\"Salary ($)\"}},\"legend\":{\"tracegroupgap\":0},\"title\":{\"text\":\"Salary by Employee\"},\"barmode\":\"relative\"},                        {\"responsive\": true}                    ).then(function(){\n",
              "                            \n",
              "var gd = document.getElementById('3d6561f4-6cb9-4b5d-931b-b30d3f0f5c75');\n",
              "var x = new MutationObserver(function (mutations, observer) {{\n",
              "        var display = window.getComputedStyle(gd).display;\n",
              "        if (!display || display === 'none') {{\n",
              "            console.log([gd, 'removed!']);\n",
              "            Plotly.purge(gd);\n",
              "            observer.disconnect();\n",
              "        }}\n",
              "}});\n",
              "\n",
              "// Listen for the removal of the full notebook cells\n",
              "var notebookContainer = gd.closest('#notebook-container');\n",
              "if (notebookContainer) {{\n",
              "    x.observe(notebookContainer, {childList: true});\n",
              "}}\n",
              "\n",
              "// Listen for the clearing of the current output cell\n",
              "var outputEl = gd.closest('.output');\n",
              "if (outputEl) {{\n",
              "    x.observe(outputEl, {childList: true});\n",
              "}}\n",
              "\n",
              "                        })                };                            </script>        </div>\n",
              "</body>\n",
              "</html>"
            ]
          },
          "metadata": {}
        }
      ]
    },
    {
      "cell_type": "markdown",
      "source": [
        "**6.Create a DataFrame and add a new column based on an existing column?**"
      ],
      "metadata": {
        "id": "pZLW71S4L-wl"
      }
    },
    {
      "cell_type": "code",
      "source": [
        "#6A\n",
        "#Here's how to create a Pandas DataFrame and add a new column based on an existing one.\n",
        "\n",
        "import pandas as pd\n",
        "\n",
        "data = {\n",
        "    'Name': ['Alice', 'Bob', 'Charlie', 'David'],\n",
        "    'Salary': [50000, 60000, 70000, 80000]\n",
        "}\n",
        "\n",
        "df = pd.DataFrame(data)\n",
        "\n",
        "df['Tax'] = df['Salary'] * 0.20\n",
        "\n",
        "print(df)\n"
      ],
      "metadata": {
        "colab": {
          "base_uri": "https://localhost:8080/"
        },
        "id": "LMBc4y2qMIiK",
        "outputId": "fa46519a-73c3-449c-f8e6-32d2ee14fc2f"
      },
      "execution_count": 11,
      "outputs": [
        {
          "output_type": "stream",
          "name": "stdout",
          "text": [
            "      Name  Salary      Tax\n",
            "0    Alice   50000  10000.0\n",
            "1      Bob   60000  12000.0\n",
            "2  Charlie   70000  14000.0\n",
            "3    David   80000  16000.0\n"
          ]
        }
      ]
    },
    {
      "cell_type": "markdown",
      "source": [
        "**7.Write a program to perform element-wise multiplication of two NumPy arrays?**"
      ],
      "metadata": {
        "id": "eYzq-ByIMXnc"
      }
    },
    {
      "cell_type": "code",
      "source": [
        "#7A\n",
        "#Here's a simple Python program to perform element-wise multiplication of two NumPy arrays:\n",
        "\n",
        "import numpy as np\n",
        "\n",
        "array1 = np.array([1, 2, 3, 4])\n",
        "array2 = np.array([10, 20, 30, 40])\n",
        "\n",
        "result = array1 * array2\n",
        "\n",
        "print(\"Result of element-wise multiplication:\", result)"
      ],
      "metadata": {
        "colab": {
          "base_uri": "https://localhost:8080/"
        },
        "id": "rNZfweTEMsun",
        "outputId": "5067d707-16cb-4dc9-f702-496764235527"
      },
      "execution_count": 12,
      "outputs": [
        {
          "output_type": "stream",
          "name": "stdout",
          "text": [
            "Result of element-wise multiplication: [ 10  40  90 160]\n"
          ]
        }
      ]
    },
    {
      "cell_type": "markdown",
      "source": [
        "**8.Create a line plot with multiple lines using Matplotlib?**"
      ],
      "metadata": {
        "id": "YnvzPKC4NBNu"
      }
    },
    {
      "cell_type": "code",
      "source": [
        "#8A\n",
        "#Here's how to create a line plot with multiple lines using Matplotlib\n",
        "\n",
        "import matplotlib.pyplot as plt\n",
        "\n",
        "x = [0, 1, 2, 3, 4, 5]\n",
        "y1 = [0, 1, 4, 9, 16, 25]  # y = x^2\n",
        "y2 = [0, -1, -4, -9, -16, -25]  # y = -x^2\n",
        "\n",
        "plt.plot(x, y1, label='y = x^2', color='blue', marker='o')\n",
        "plt.plot(x, y2, label='y = -x^2', color='red', marker='x')\n",
        "\n",
        "plt.xlabel('x')\n",
        "plt.ylabel('y')\n",
        "plt.title('Line Plot with Multiple Lines')\n",
        "\n",
        "plt.legend()\n",
        "\n",
        "plt.grid(True)\n",
        "plt.show()"
      ],
      "metadata": {
        "colab": {
          "base_uri": "https://localhost:8080/",
          "height": 472
        },
        "id": "NzgjQDX6M_p6",
        "outputId": "a625a94f-a530-4701-e6a5-394ed528a1ef"
      },
      "execution_count": 13,
      "outputs": [
        {
          "output_type": "display_data",
          "data": {
            "text/plain": [
              "<Figure size 640x480 with 1 Axes>"
            ],
            "image/png": "[encoded data removed]"
          },
          "metadata": {}
        }
      ]
    },
    {
      "cell_type": "markdown",
      "source": [
        "**9.Generate a Pandas DataFrame and filter rows where a column value is greater than a threshold?**"
      ],
      "metadata": {
        "id": "h5UuzPQnNdfy"
      }
    },
    {
      "cell_type": "code",
      "source": [
        "#9A\n",
        "#Generate a Pandas DataFrame and filter rows where a column value is greater than a threshold\n",
        "\n",
        "import pandas as pd\n",
        "\n",
        "data = {\n",
        "    'Name': ['Alice', 'Bob', 'Charlie', 'David', 'Eve'],\n",
        "    'Age': [25, 30, 35, 40, 45],\n",
        "    'Salary': [50000, 60000, 70000, 80000, 90000]\n",
        "}\n",
        "\n",
        "df = pd.DataFrame(data)\n",
        "\n",
        "threshold = 70000\n",
        "\n",
        "filtered_df = df[df['Salary'] > threshold]\n",
        "\n",
        "print(filtered_df)"
      ],
      "metadata": {
        "colab": {
          "base_uri": "https://localhost:8080/"
        },
        "id": "COWVZhypNawp",
        "outputId": "bbc33019-5222-4c15-972b-deb68b6ed774"
      },
      "execution_count": 14,
      "outputs": [
        {
          "output_type": "stream",
          "name": "stdout",
          "text": [
            "    Name  Age  Salary\n",
            "3  David   40   80000\n",
            "4    Eve   45   90000\n"
          ]
        }
      ]
    },
    {
      "cell_type": "markdown",
      "source": [
        "**10.Create a histogram using Seaborn to visualize a distribution?**\n"
      ],
      "metadata": {
        "id": "BiGFxDUgN10a"
      }
    },
    {
      "cell_type": "code",
      "source": [
        "#10A\n",
        "#Here's how you can create a histogram using Seaborn to visualize the distribution of a dataset.\n",
        "\n",
        "import seaborn as sns\n",
        "import matplotlib.pyplot as plt\n",
        "\n",
        "data = [25, 30, 35, 40, 45, 25, 30, 30, 35, 40, 50, 50, 60]\n",
        "\n",
        "sns.histplot(data, bins=6, kde=True, color='blue')\n",
        "\n",
        "plt.xlabel('Age')\n",
        "plt.ylabel('Frequency')\n",
        "plt.title('Age Distribution')\n",
        "\n",
        "plt.show()"
      ],
      "metadata": {
        "colab": {
          "base_uri": "https://localhost:8080/",
          "height": 472
        },
        "id": "_Yzb83RpN0xC",
        "outputId": "a56e3998-a622-464f-e8a2-4b1b48c01142"
      },
      "execution_count": 15,
      "outputs": [
        {
          "output_type": "display_data",
          "data": {
            "text/plain": [
              "<Figure size 640x480 with 1 Axes>"
            ],
            "image/png": "[encoded data removed]"
          },
          "metadata": {}
        }
      ]
    },
    {
      "cell_type": "markdown",
      "source": [
        "**11.Perform matrix multiplication using NumPy?**"
      ],
      "metadata": {
        "id": "2WBZ9rofOcb2"
      }
    },
    {
      "cell_type": "code",
      "source": [
        "#11A\n",
        "#To perform matrix multiplication using NumPy, you can use the np.dot() function or the @ operator,\n",
        "\n",
        "import numpy as np\n",
        "\n",
        "matrix1 = np.array([[1, 2], [3, 4]])\n",
        "matrix2 = np.array([[5, 6], [7, 8]])\n",
        "\n",
        "result = np.dot(matrix1, matrix2)\n",
        "\n",
        "print(\"Matrix Multiplication Result:\")\n",
        "print(result)"
      ],
      "metadata": {
        "colab": {
          "base_uri": "https://localhost:8080/"
        },
        "id": "LXsj2o9aOaup",
        "outputId": "490929eb-5a59-45a8-80a2-4b6914b361f7"
      },
      "execution_count": 16,
      "outputs": [
        {
          "output_type": "stream",
          "name": "stdout",
          "text": [
            "Matrix Multiplication Result:\n",
            "[[19 22]\n",
            " [43 50]]\n"
          ]
        }
      ]
    },
    {
      "cell_type": "markdown",
      "source": [
        "**12.Use Pandas to load a CSV file and display its first 5 rows?**"
      ],
      "metadata": {
        "id": "PFvyAwnzO_2-"
      }
    },
    {
      "cell_type": "code",
      "source": [
        "#12A\n",
        "#To load a CSV file using Pandas and display its first 5 rows, you can use the pd.read_csv() function to load the data and head() to view the first few rows.\n",
        "\n",
        "import pandas as pd\n",
        "import matplotlib.pyplot as plt\n",
        "\n",
        "# Load the CSV file into a DataFrame\n",
        "df = pd.read_csv('data.csv')\n",
        "\n",
        "# Display the first 5 rows of the DataFrame\n",
        "print(df.head())\n",
        "\n",
        "df = pd.read_csv('data.csv')  # Updated line\n",
        "\n",
        "print(df.head())"
      ],
      "metadata": {
        "id": "829iT7gaO-3A"
      },
      "execution_count": null,
      "outputs": []
    },
    {
      "cell_type": "markdown",
      "source": [
        "**13.Create a 3D scatter plot using Plotly?**"
      ],
      "metadata": {
        "id": "f6bVL-drSF8l"
      }
    },
    {
      "cell_type": "code",
      "source": [
        "#13A\n",
        "#Here's how you can create a 3D scatter plot using Plotly\n",
        "\n",
        "import plotly.express as px\n",
        "import pandas as pd\n",
        "\n",
        "# Create a sample DataFrame with 3D data\n",
        "data = {\n",
        "    'x': [1, 2, 3, 4, 5],\n",
        "    'y': [10, 11, 12, 13, 14],\n",
        "    'z': [100, 110, 120, 130, 140]\n",
        "}\n",
        "\n",
        "df = pd.DataFrame(data)\n",
        "\n",
        "# Create the 3D scatter plot\n",
        "fig = px.scatter_3d(df, x='x', y='y', z='z', title='3D Scatter Plot')\n",
        "\n",
        "# Show plot\n",
        "fig.show()"
      ],
      "metadata": {
        "colab": {
          "base_uri": "https://localhost:8080/",
          "height": 542
        },
        "id": "16mFjk3-PYjv",
        "outputId": "953d6bbc-df29-4ba5-ad9c-a43f83934c03"
      },
      "execution_count": 26,
      "outputs": [
        {
          "output_type": "display_data",
          "data": {
            "text/html": [
              "<html>\n",
              "<head><meta charset=\"utf-8\" /></head>\n",
              "<body>\n",
              "    <div>            <script src=\"https://cdnjs.cloudflare.com/ajax/libs/mathjax/2.7.5/MathJax.js?config=TeX-AMS-MML_SVG\"></script><script type=\"text/javascript\">if (window.MathJax && window.MathJax.Hub && window.MathJax.Hub.Config) {window.MathJax.Hub.Config({SVG: {font: \"STIX-Web\"}});}</script>                <script type=\"text/javascript\">window.PlotlyConfig = {MathJaxConfig: 'local'};</script>\n",
              "        <script charset=\"utf-8\" src=\"https://cdn.plot.ly/plotly-2.35.2.min.js\"></script>                <div id=\"9da84219-a466-4ab6-8651-8c40b58621a0\" class=\"plotly-graph-div\" style=\"height:525px; width:100%;\"></div>            <script type=\"text/javascript\">                                    window.PLOTLYENV=window.PLOTLYENV || {};                                    if (document.getElementById(\"9da84219-a466-4ab6-8651-8c40b58621a0\")) {                    Plotly.newPlot(                        \"9da84219-a466-4ab6-8651-8c40b58621a0\",                        [{\"hovertemplate\":\"x=%{x}\\u003cbr\\u003ey=%{y}\\u003cbr\\u003ez=%{z}\\u003cextra\\u003e\\u003c\\u002fextra\\u003e\",\"legendgroup\":\"\",\"marker\":{\"color\":\"#636efa\",\"symbol\":\"circle\"},\"mode\":\"markers\",\"name\":\"\",\"scene\":\"scene\",\"showlegend\":false,\"x\":[1,2,3,4,5],\"y\":[10,11,12,13,14],\"z\":[100,110,120,130,140],\"type\":\"scatter3d\"}],                        {\"template\":{\"data\":{\"histogram2dcontour\":[{\"type\":\"histogram2dcontour\",\"colorbar\":{\"outlinewidth\":0,\"ticks\":\"\"},\"colorscale\":[[0.0,\"#0d0887\"],[0.1111111111111111,\"#46039f\"],[0.2222222222222222,\"#7201a8\"],[0.3333333333333333,\"#9c179e\"],[0.4444444444444444,\"#bd3786\"],[0.5555555555555556,\"#d8576b\"],[0.6666666666666666,\"#ed7953\"],[0.7777777777777778,\"#fb9f3a\"],[0.8888888888888888,\"#fdca26\"],[1.0,\"#f0f921\"]]}],\"choropleth\":[{\"type\":\"choropleth\",\"colorbar\":{\"outlinewidth\":0,\"ticks\":\"\"}}],\"histogram2d\":[{\"type\":\"histogram2d\",\"colorbar\":{\"outlinewidth\":0,\"ticks\":\"\"},\"colorscale\":[[0.0,\"#0d0887\"],[0.1111111111111111,\"#46039f\"],[0.2222222222222222,\"#7201a8\"],[0.3333333333333333,\"#9c179e\"],[0.4444444444444444,\"#bd3786\"],[0.5555555555555556,\"#d8576b\"],[0.6666666666666666,\"#ed7953\"],[0.7777777777777778,\"#fb9f3a\"],[0.8888888888888888,\"#fdca26\"],[1.0,\"#f0f921\"]]}],\"heatmap\":[{\"type\":\"heatmap\",\"colorbar\":{\"outlinewidth\":0,\"ticks\":\"\"},\"colorscale\":[[0.0,\"#0d0887\"],[0.1111111111111111,\"#46039f\"],[0.2222222222222222,\"#7201a8\"],[0.3333333333333333,\"#9c179e\"],[0.4444444444444444,\"#bd3786\"],[0.5555555555555556,\"#d8576b\"],[0.6666666666666666,\"#ed7953\"],[0.7777777777777778,\"#fb9f3a\"],[0.8888888888888888,\"#fdca26\"],[1.0,\"#f0f921\"]]}],\"heatmapgl\":[{\"type\":\"heatmapgl\",\"colorbar\":{\"outlinewidth\":0,\"ticks\":\"\"},\"colorscale\":[[0.0,\"#0d0887\"],[0.1111111111111111,\"#46039f\"],[0.2222222222222222,\"#7201a8\"],[0.3333333333333333,\"#9c179e\"],[0.4444444444444444,\"#bd3786\"],[0.5555555555555556,\"#d8576b\"],[0.6666666666666666,\"#ed7953\"],[0.7777777777777778,\"#fb9f3a\"],[0.8888888888888888,\"#fdca26\"],[1.0,\"#f0f921\"]]}],\"contourcarpet\":[{\"type\":\"contourcarpet\",\"colorbar\":{\"outlinewidth\":0,\"ticks\":\"\"}}],\"contour\":[{\"type\":\"contour\",\"colorbar\":{\"outlinewidth\":0,\"ticks\":\"\"},\"colorscale\":[[0.0,\"#0d0887\"],[0.1111111111111111,\"#46039f\"],[0.2222222222222222,\"#7201a8\"],[0.3333333333333333,\"#9c179e\"],[0.4444444444444444,\"#bd3786\"],[0.5555555555555556,\"#d8576b\"],[0.6666666666666666,\"#ed7953\"],[0.7777777777777778,\"#fb9f3a\"],[0.8888888888888888,\"#fdca26\"],[1.0,\"#f0f921\"]]}],\"surface\":[{\"type\":\"surface\",\"colorbar\":{\"outlinewidth\":0,\"ticks\":\"\"},\"colorscale\":[[0.0,\"#0d0887\"],[0.1111111111111111,\"#46039f\"],[0.2222222222222222,\"#7201a8\"],[0.3333333333333333,\"#9c179e\"],[0.4444444444444444,\"#bd3786\"],[0.5555555555555556,\"#d8576b\"],[0.6666666666666666,\"#ed7953\"],[0.7777777777777778,\"#fb9f3a\"],[0.8888888888888888,\"#fdca26\"],[1.0,\"#f0f921\"]]}],\"mesh3d\":[{\"type\":\"mesh3d\",\"colorbar\":{\"outlinewidth\":0,\"ticks\":\"\"}}],\"scatter\":[{\"fillpattern\":{\"fillmode\":\"overlay\",\"size\":10,\"solidity\":0.2},\"type\":\"scatter\"}],\"parcoords\":[{\"type\":\"parcoords\",\"line\":{\"colorbar\":{\"outlinewidth\":0,\"ticks\":\"\"}}}],\"scatterpolargl\":[{\"type\":\"scatterpolargl\",\"marker\":{\"colorbar\":{\"outlinewidth\":0,\"ticks\":\"\"}}}],\"bar\":[{\"error_x\":{\"color\":\"#2a3f5f\"},\"error_y\":{\"color\":\"#2a3f5f\"},\"marker\":{\"line\":{\"color\":\"#E5ECF6\",\"width\":0.5},\"pattern\":{\"fillmode\":\"overlay\",\"size\":10,\"solidity\":0.2}},\"type\":\"bar\"}],\"scattergeo\":[{\"type\":\"scattergeo\",\"marker\":{\"colorbar\":{\"outlinewidth\":0,\"ticks\":\"\"}}}],\"scatterpolar\":[{\"type\":\"scatterpolar\",\"marker\":{\"colorbar\":{\"outlinewidth\":0,\"ticks\":\"\"}}}],\"histogram\":[{\"marker\":{\"pattern\":{\"fillmode\":\"overlay\",\"size\":10,\"solidity\":0.2}},\"type\":\"histogram\"}],\"scattergl\":[{\"type\":\"scattergl\",\"marker\":{\"colorbar\":{\"outlinewidth\":0,\"ticks\":\"\"}}}],\"scatter3d\":[{\"type\":\"scatter3d\",\"line\":{\"colorbar\":{\"outlinewidth\":0,\"ticks\":\"\"}},\"marker\":{\"colorbar\":{\"outlinewidth\":0,\"ticks\":\"\"}}}],\"scattermapbox\":[{\"type\":\"scattermapbox\",\"marker\":{\"colorbar\":{\"outlinewidth\":0,\"ticks\":\"\"}}}],\"scatterternary\":[{\"type\":\"scatterternary\",\"marker\":{\"colorbar\":{\"outlinewidth\":0,\"ticks\":\"\"}}}],\"scattercarpet\":[{\"type\":\"scattercarpet\",\"marker\":{\"colorbar\":{\"outlinewidth\":0,\"ticks\":\"\"}}}],\"carpet\":[{\"aaxis\":{\"endlinecolor\":\"#2a3f5f\",\"gridcolor\":\"white\",\"linecolor\":\"white\",\"minorgridcolor\":\"white\",\"startlinecolor\":\"#2a3f5f\"},\"baxis\":{\"endlinecolor\":\"#2a3f5f\",\"gridcolor\":\"white\",\"linecolor\":\"white\",\"minorgridcolor\":\"white\",\"startlinecolor\":\"#2a3f5f\"},\"type\":\"carpet\"}],\"table\":[{\"cells\":{\"fill\":{\"color\":\"#EBF0F8\"},\"line\":{\"color\":\"white\"}},\"header\":{\"fill\":{\"color\":\"#C8D4E3\"},\"line\":{\"color\":\"white\"}},\"type\":\"table\"}],\"barpolar\":[{\"marker\":{\"line\":{\"color\":\"#E5ECF6\",\"width\":0.5},\"pattern\":{\"fillmode\":\"overlay\",\"size\":10,\"solidity\":0.2}},\"type\":\"barpolar\"}],\"pie\":[{\"automargin\":true,\"type\":\"pie\"}]},\"layout\":{\"autotypenumbers\":\"strict\",\"colorway\":[\"#636efa\",\"#EF553B\",\"#00cc96\",\"#ab63fa\",\"#FFA15A\",\"#19d3f3\",\"#FF6692\",\"#B6E880\",\"#FF97FF\",\"#FECB52\"],\"font\":{\"color\":\"#2a3f5f\"},\"hovermode\":\"closest\",\"hoverlabel\":{\"align\":\"left\"},\"paper_bgcolor\":\"white\",\"plot_bgcolor\":\"#E5ECF6\",\"polar\":{\"bgcolor\":\"#E5ECF6\",\"angularaxis\":{\"gridcolor\":\"white\",\"linecolor\":\"white\",\"ticks\":\"\"},\"radialaxis\":{\"gridcolor\":\"white\",\"linecolor\":\"white\",\"ticks\":\"\"}},\"ternary\":{\"bgcolor\":\"#E5ECF6\",\"aaxis\":{\"gridcolor\":\"white\",\"linecolor\":\"white\",\"ticks\":\"\"},\"baxis\":{\"gridcolor\":\"white\",\"linecolor\":\"white\",\"ticks\":\"\"},\"caxis\":{\"gridcolor\":\"white\",\"linecolor\":\"white\",\"ticks\":\"\"}},\"coloraxis\":{\"colorbar\":{\"outlinewidth\":0,\"ticks\":\"\"}},\"colorscale\":{\"sequential\":[[0.0,\"#0d0887\"],[0.1111111111111111,\"#46039f\"],[0.2222222222222222,\"#7201a8\"],[0.3333333333333333,\"#9c179e\"],[0.4444444444444444,\"#bd3786\"],[0.5555555555555556,\"#d8576b\"],[0.6666666666666666,\"#ed7953\"],[0.7777777777777778,\"#fb9f3a\"],[0.8888888888888888,\"#fdca26\"],[1.0,\"#f0f921\"]],\"sequentialminus\":[[0.0,\"#0d0887\"],[0.1111111111111111,\"#46039f\"],[0.2222222222222222,\"#7201a8\"],[0.3333333333333333,\"#9c179e\"],[0.4444444444444444,\"#bd3786\"],[0.5555555555555556,\"#d8576b\"],[0.6666666666666666,\"#ed7953\"],[0.7777777777777778,\"#fb9f3a\"],[0.8888888888888888,\"#fdca26\"],[1.0,\"#f0f921\"]],\"diverging\":[[0,\"#8e0152\"],[0.1,\"#c51b7d\"],[0.2,\"#de77ae\"],[0.3,\"#f1b6da\"],[0.4,\"#fde0ef\"],[0.5,\"#f7f7f7\"],[0.6,\"#e6f5d0\"],[0.7,\"#b8e186\"],[0.8,\"#7fbc41\"],[0.9,\"#4d9221\"],[1,\"#276419\"]]},\"xaxis\":{\"gridcolor\":\"white\",\"linecolor\":\"white\",\"ticks\":\"\",\"title\":{\"standoff\":15},\"zerolinecolor\":\"white\",\"automargin\":true,\"zerolinewidth\":2},\"yaxis\":{\"gridcolor\":\"white\",\"linecolor\":\"white\",\"ticks\":\"\",\"title\":{\"standoff\":15},\"zerolinecolor\":\"white\",\"automargin\":true,\"zerolinewidth\":2},\"scene\":{\"xaxis\":{\"backgroundcolor\":\"#E5ECF6\",\"gridcolor\":\"white\",\"linecolor\":\"white\",\"showbackground\":true,\"ticks\":\"\",\"zerolinecolor\":\"white\",\"gridwidth\":2},\"yaxis\":{\"backgroundcolor\":\"#E5ECF6\",\"gridcolor\":\"white\",\"linecolor\":\"white\",\"showbackground\":true,\"ticks\":\"\",\"zerolinecolor\":\"white\",\"gridwidth\":2},\"zaxis\":{\"backgroundcolor\":\"#E5ECF6\",\"gridcolor\":\"white\",\"linecolor\":\"white\",\"showbackground\":true,\"ticks\":\"\",\"zerolinecolor\":\"white\",\"gridwidth\":2}},\"shapedefaults\":{\"line\":{\"color\":\"#2a3f5f\"}},\"annotationdefaults\":{\"arrowcolor\":\"#2a3f5f\",\"arrowhead\":0,\"arrowwidth\":1},\"geo\":{\"bgcolor\":\"white\",\"landcolor\":\"#E5ECF6\",\"subunitcolor\":\"white\",\"showland\":true,\"showlakes\":true,\"lakecolor\":\"white\"},\"title\":{\"x\":0.05},\"mapbox\":{\"style\":\"light\"}}},\"scene\":{\"domain\":{\"x\":[0.0,1.0],\"y\":[0.0,1.0]},\"xaxis\":{\"title\":{\"text\":\"x\"}},\"yaxis\":{\"title\":{\"text\":\"y\"}},\"zaxis\":{\"title\":{\"text\":\"z\"}}},\"legend\":{\"tracegroupgap\":0},\"title\":{\"text\":\"3D Scatter Plot\"}},                        {\"responsive\": true}                    ).then(function(){\n",
              "                            \n",
              "var gd = document.getElementById('9da84219-a466-4ab6-8651-8c40b58621a0');\n",
              "var x = new MutationObserver(function (mutations, observer) {{\n",
              "        var display = window.getComputedStyle(gd).display;\n",
              "        if (!display || display === 'none') {{\n",
              "            console.log([gd, 'removed!']);\n",
              "            Plotly.purge(gd);\n",
              "            observer.disconnect();\n",
              "        }}\n",
              "}});\n",
              "\n",
              "// Listen for the removal of the full notebook cells\n",
              "var notebookContainer = gd.closest('#notebook-container');\n",
              "if (notebookContainer) {{\n",
              "    x.observe(notebookContainer, {childList: true});\n",
              "}}\n",
              "\n",
              "// Listen for the clearing of the current output cell\n",
              "var outputEl = gd.closest('.output');\n",
              "if (outputEl) {{\n",
              "    x.observe(outputEl, {childList: true});\n",
              "}}\n",
              "\n",
              "                        })                };                            </script>        </div>\n",
              "</body>\n",
              "</html>"
            ]
          },
          "metadata": {}
        }
      ]
    },
    {
      "cell_type": "code",
      "source": [],
      "metadata": {
        "id": "1pInx0JRSc9d"
      },
      "execution_count": null,
      "outputs": []
    }
  ]
}